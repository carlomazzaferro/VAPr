{
 "cells": [
  {
   "cell_type": "markdown",
   "metadata": {
    "collapsed": false
   },
   "source": [
    "# Introduction to VAPr: package for the aggregation of genomic variant data \n",
    "\n",
    "#### Author: C. Mazzaferro & Kathleen Fisch\n",
    "#### Email: cmazzafe@ucsd.edu\n",
    "#### Date: June 2016\n",
    " \n",
    "## Outline of Notebook\n",
    "<a id = \"toc\"></a>\n",
    "1. <a href = \"#background\">Background</a>\n",
    "2. <a href = \"#setup\">Set Up File and Libraries</a>\n",
    "  * <a href = \"#naming\">Set paths and names</a>\n",
    "3. <a href = \"#filtering\">Implement a filter</a>\n",
    "4. <a href = \"#export\">Export CSV and VCF files</a>"
   ]
  },
  {
   "cell_type": "markdown",
   "metadata": {},
   "source": [
    "<a id = \"background\"></a>\n",
    "## Background\n",
    "\n",
    "This notebook will walk you through the basic steps of how variants coming from a VCF can be annotated efficiently and thoroughly using the package VAPr. In particular, the package is aimed at providing a way of retrieving variant information using [ANNOVAR](http://annovar.openbioinformatics.org/en/latest/) and [myvariant.info](myvariant.info) and consolidating it in conveninent formats. It is well-suited for bioinformaticians interested in aggregating variant information into a single database for ease of use and to provide higher analysis capabities.\n",
    "\n",
    "For a more complete description of the functionalities of the package, you can visit the [VAPr Sample Usage Notebook](https://github.com/ucsd-ccbb/VAPr/blob/master/VAPr%20Sample%20Usage.ipynb) and/or check the full documentation on GitHub. "
   ]
  },
  {
   "cell_type": "markdown",
   "metadata": {},
   "source": [
    "### Download databases and run ANNOVAR"
   ]
  },
  {
   "cell_type": "code",
   "execution_count": 143,
   "metadata": {
    "collapsed": false
   },
   "outputs": [
    {
     "data": {
      "text/plain": [
       "<module 'VAPr.annovar_suprocess' from '/Users/carlomazzaferro/Documents/CCBB/ucsd-ccbb/VAPr/VAPr/annovar_suprocess.py'>"
      ]
     },
     "execution_count": 143,
     "metadata": {},
     "output_type": "execute_result"
    }
   ],
   "source": [
    "import pandas as pd\n",
    "\n",
    "#variantannotation functions\n",
    "from VAPr import parser_models, annovar_suprocess\n",
    "import importlib\n",
    "importlib.reload(parser_models)\n",
    "importlib.reload(annovar_suprocess)"
   ]
  },
  {
   "cell_type": "code",
   "execution_count": 145,
   "metadata": {
    "collapsed": false
   },
   "outputs": [
    {
     "name": "stdout",
     "output_type": "stream",
     "text": [
      "Currently downloading database file: hg19_esp6500siv2_all\n",
      "Currently downloading database file: hg19_esp6500siv2_all\n",
      "\n",
      "Annovar finished dowloading on file : hg19_esp6500siv2_all. A .txt file has been created in the ANNOVAR_PATH directory\n",
      "\n",
      "Currently downloading database file: hg19_knownGene\n",
      "Currently downloading database file: hg19_kgXref\n",
      "Currently downloading database file: hg19_knownGeneMrna\n",
      "Currently downloading database file: hg19_esp6500siv2_all\n",
      "Currently downloading database file: hg19_knownGene\n",
      "\n",
      "Annovar finished dowloading on file : hg19_knownGene. A .txt file has been created in the ANNOVAR_PATH directory\n",
      "\n",
      "Currently downloading database file: cytoBand\n",
      "Currently downloading database file: cytoBand\n",
      "\n",
      "Annovar finished dowloading on file : cytoBand. A .txt file has been created in the ANNOVAR_PATH directory\n",
      "\n",
      "Currently downloading database file: hg19_knownGeneMrna\n",
      "Currently downloading database file: hg19_popfreq_all_20150413\n",
      "Currently downloading database file: hg19_popfreq_all_20150413\n",
      "\n",
      "Annovar finished dowloading on file : hg19_popfreq_all_20150413. A .txt file has been created in the ANNOVAR_PATH directory\n",
      "\n",
      "Currently downloading database file: hg19_nci60\n",
      "Currently downloading database file: hg19_nci60\n",
      "Currently downloading database file: hg19_nci60\n",
      "\n",
      "Annovar finished dowloading on file : hg19_nci60. A .txt file has been created in the ANNOVAR_PATH directory\n",
      "\n",
      "Currently downloading database file: targetScanS\n",
      "Currently downloading database file: hg19_nci60\n",
      "Currently downloading database file: targetScanS\n",
      "\n",
      "Annovar finished dowloading on file : targetScanS. A .txt file has been created in the ANNOVAR_PATH directory\n",
      "\n",
      "Currently downloading database file: hg19_cosmic70\n",
      "Currently downloading database file: hg19_cosmic70\n",
      "Currently downloading database file: hg19_cosmic70\n",
      "\n",
      "Annovar finished dowloading on file : hg19_cosmic70. A .txt file has been created in the ANNOVAR_PATH directory\n",
      "\n",
      "Currently downloading database file: hg19_1000g2015aug\n",
      "Currently downloading database file: hg19_AFR\n",
      "\n",
      "Annovar finished dowloading on file : hg19_AFR. A .txt file has been created in the ANNOVAR_PATH directory\n",
      "\n",
      "Currently downloading database file: hg19_clinvar_20161128\n",
      "Currently downloading database file: hg19_clinvar_20161128\n",
      "Currently downloading database file: hg19_clinvar_20161128\n",
      "\n",
      "Annovar finished dowloading on file : hg19_clinvar_20161128. A .txt file has been created in the ANNOVAR_PATH directory\n",
      "\n",
      "Currently downloading database file: tfbsConsSites\n",
      "Currently downloading database file: tfbsConsSites\n",
      "\n",
      "Annovar finished dowloading on file : tfbsConsSites. A .txt file has been created in the ANNOVAR_PATH directory\n",
      "\n",
      "Currently downloading database file: genomicSuperDups\n",
      "Currently downloading database file: genomicSuperDups\n",
      "\n",
      "Annovar finished dowloading on file : genomicSuperDups. A .txt file has been created in the ANNOVAR_PATH directory\n",
      "\n"
     ]
    },
    {
     "data": {
      "text/plain": [
       "'Finished downloading databases to /Volumes/Carlo_HD1/CCBB/annovar/humandb/'"
      ]
     },
     "execution_count": 145,
     "metadata": {},
     "output_type": "execute_result"
    }
   ],
   "source": [
    "IN_PATH = \"/Volumes/Carlo_HD1/CCBB/VAPr_files/vcf_files/not_annotated/Normal_targeted_seq.vcf\"\n",
    "OUT_PATH = \"/Volumes/Carlo_HD1/CCBB/VAPr_files/csv_files/\"\n",
    "ANNOVAR_PATH = '/Volumes/Carlo_HD1/CCBB/annovar/'   #location of the scipts and databases\n",
    "\n",
    "sub_process = annovar_suprocess.AnnovarWrapper(IN_PATH, OUT_PATH, ANNOVAR_PATH)\n",
    "sub_process.download_dbs()"
   ]
  },
  {
   "cell_type": "code",
   "execution_count": 21,
   "metadata": {
    "collapsed": false
   },
   "outputs": [
    {
     "name": "stdout",
     "output_type": "stream",
     "text": [
      "Currently working on VCF file: Normal_targeted_seq_annotated, field hg19_genomicSuperDups\n",
      "Currently working on VCF file: Normal_targeted_seq_annotated, field hg19_cosmic70_filtered\n",
      "Currently working on VCF file: Normal_targeted_seq_annotated, field hg19_cosmic70_dropped\n",
      "Currently working on VCF file: Normal_targeted_seq_annotated, field hg19_esp6500siv2_all_filtered\n",
      "Currently working on VCF file: Normal_targeted_seq_annotated, field hg19_esp6500siv2_all_dropped\n",
      "Currently working on VCF file: Normal_targeted_seq_annotated, field hg19_nci60_dropped\n",
      "Currently working on VCF file: Normal_targeted_seq_annotated, field hg19_nci60_filtered\n",
      "Currently working on VCF file: Normal_targeted_seq_annotated, field hg19_cytoBand\n",
      "Currently working on VCF file: Normal_targeted_seq_annotated, field hg19_clinvar_20161128_dropped\n",
      "Currently working on VCF file: Normal_targeted_seq_annotated, field hg19_clinvar_20161128_filtered\n",
      "Currently working on VCF file: Normal_targeted_seq_annotated, field hg19_targetScanS\n",
      "Currently working on VCF file: Normal_targeted_seq_annotated, field hg19_tfbsConsSites\n",
      "Currently working on VCF file: Normal_targeted_seq_annotated, field exonic_variant_function\n",
      "Currently working on VCF file: Normal_targeted_seq_annotated, field variant_function\n",
      "Currently working on VCF file: Normal_targeted_seq_annotated, field txt\n",
      "\n",
      "Annovar finished working on file : Normal_targeted_seq_annotated. A .txt file has been created in the OUT_PATH directory\n",
      "\n"
     ]
    },
    {
     "data": {
      "text/plain": [
       "'Finished running ANNOVAR on /Volumes/Carlo_HD1/CCBB/VAPr_files/vcf_files/not_annotated/Normal_targeted_seq.vcf'"
      ]
     },
     "execution_count": 21,
     "metadata": {},
     "output_type": "execute_result"
    }
   ],
   "source": [
    "sub_process.run_annovar()"
   ]
  },
  {
   "cell_type": "markdown",
   "metadata": {},
   "source": [
    "<a id = \"setup\"></a>\n",
    "## Import libraries and specify file paths"
   ]
  },
  {
   "cell_type": "markdown",
   "metadata": {},
   "source": [
    "<a id = \"naming\"></a>\n",
    "### Set paths and names\n",
    "\n",
    "- CSV annotated (assuming its been annotated with ANNOVAR already. If not, refer to the documentation for instructions on how to perform annotation).\n",
    "- VCF (original file containing the variants\n",
    "- MongoDB collection and Database names. A mongoDB instance must be running upon calling the main VAPr function `push_to_db()`\n",
    "\n",
    "\n"
   ]
  },
  {
   "cell_type": "code",
   "execution_count": 24,
   "metadata": {
    "collapsed": false
   },
   "outputs": [
    {
     "name": "stdout",
     "output_type": "stream",
     "text": [
      "26653\n"
     ]
    }
   ],
   "source": [
    "vcf_file = '.../normal_targeted_seq.vcf'\n",
    "csv_file = '.../annotated.hg19_multianno.txt'\n",
    "\n",
    "csv_ = '/Volumes/Carlo_HD1/CCBB/VAPr_files/csv_files/Normal_targeted_seq_annotated.hg19_multianno.txt'\n",
    "\n",
    "collection_name = 'My_Variant_Info_Collection_Full'\n",
    "db_name = 'My_Variant_Database'\n",
    "\n",
    "pars = parser_models.VariantParsing(IN_PATH, collection_name, db_name, annotated_file=csv_)"
   ]
  },
  {
   "cell_type": "code",
   "execution_count": 25,
   "metadata": {
    "collapsed": false,
    "scrolled": true
   },
   "outputs": [
    {
     "name": "stdout",
     "output_type": "stream",
     "text": [
      "querying 1-602...done.\n"
     ]
    },
    {
     "ename": "KeyError",
     "evalue": "'1000g20XX'",
     "output_type": "error",
     "traceback": [
      "\u001b[0;31m---------------------------------------------------------------------------\u001b[0m",
      "\u001b[0;31mKeyError\u001b[0m                                  Traceback (most recent call last)",
      "\u001b[0;32m<ipython-input-25-3141390c111c>\u001b[0m in \u001b[0;36m<module>\u001b[0;34m()\u001b[0m\n\u001b[0;32m----> 1\u001b[0;31m \u001b[0mpars\u001b[0m\u001b[0;34m.\u001b[0m\u001b[0mpush_to_db\u001b[0m\u001b[0;34m(\u001b[0m\u001b[0;34m)\u001b[0m\u001b[0;34m\u001b[0m\u001b[0m\n\u001b[0m",
      "\u001b[0;32m/Users/carlomazzaferro/Documents/CCBB/ucsd-ccbb/VAPr/VAPr/parser_models.pyc\u001b[0m in \u001b[0;36mpush_to_db\u001b[0;34m(self)\u001b[0m\n\u001b[1;32m     42\u001b[0m                 \u001b[0mmyvariants_variants\u001b[0m \u001b[0;34m=\u001b[0m \u001b[0mself\u001b[0m\u001b[0;34m.\u001b[0m\u001b[0mget_dict_myvariant\u001b[0m\u001b[0;34m(\u001b[0m\u001b[0mlist_hgvs_ids\u001b[0m\u001b[0;34m)\u001b[0m\u001b[0;34m\u001b[0m\u001b[0m\n\u001b[1;32m     43\u001b[0m                 \u001b[0moffset\u001b[0m \u001b[0;34m=\u001b[0m \u001b[0mlen\u001b[0m\u001b[0;34m(\u001b[0m\u001b[0mlist_hgvs_ids\u001b[0m\u001b[0;34m)\u001b[0m \u001b[0;34m-\u001b[0m \u001b[0mself\u001b[0m\u001b[0;34m.\u001b[0m\u001b[0mchunksize\u001b[0m\u001b[0;34m\u001b[0m\u001b[0m\n\u001b[0;32m---> 44\u001b[0;31m                 \u001b[0mcsv_variants\u001b[0m \u001b[0;34m=\u001b[0m \u001b[0mself\u001b[0m\u001b[0;34m.\u001b[0m\u001b[0mcsv_parsing\u001b[0m\u001b[0;34m.\u001b[0m\u001b[0mopen_and_parse_chunks\u001b[0m\u001b[0;34m(\u001b[0m\u001b[0mself\u001b[0m\u001b[0;34m.\u001b[0m\u001b[0mstep\u001b[0m\u001b[0;34m,\u001b[0m \u001b[0moffset\u001b[0m\u001b[0;34m=\u001b[0m\u001b[0moffset\u001b[0m\u001b[0;34m)\u001b[0m\u001b[0;34m\u001b[0m\u001b[0m\n\u001b[0m\u001b[1;32m     45\u001b[0m \u001b[0;34m\u001b[0m\u001b[0m\n\u001b[1;32m     46\u001b[0m                 \u001b[0mmerged_list\u001b[0m \u001b[0;34m=\u001b[0m \u001b[0;34m[\u001b[0m\u001b[0;34m]\u001b[0m\u001b[0;34m\u001b[0m\u001b[0m\n",
      "\u001b[0;32m/Users/carlomazzaferro/Documents/CCBB/ucsd-ccbb/VAPr/VAPr/parser_models.pyc\u001b[0m in \u001b[0;36mopen_and_parse_chunks\u001b[0;34m(self, step, offset)\u001b[0m\n\u001b[1;32m    182\u001b[0m                 \u001b[0mdict_filled\u001b[0m \u001b[0;34m=\u001b[0m \u001b[0;34m{\u001b[0m\u001b[0mk\u001b[0m\u001b[0;34m:\u001b[0m \u001b[0msparse_dict\u001b[0m\u001b[0;34m[\u001b[0m\u001b[0mk\u001b[0m\u001b[0;34m]\u001b[0m \u001b[0;32mfor\u001b[0m \u001b[0mk\u001b[0m \u001b[0;32min\u001b[0m \u001b[0mself\u001b[0m\u001b[0;34m.\u001b[0m\u001b[0mcolumns\u001b[0m \u001b[0;32mif\u001b[0m \u001b[0msparse_dict\u001b[0m\u001b[0;34m[\u001b[0m\u001b[0mk\u001b[0m\u001b[0;34m]\u001b[0m \u001b[0;34m!=\u001b[0m \u001b[0;34m'.'\u001b[0m\u001b[0;34m}\u001b[0m\u001b[0;34m\u001b[0m\u001b[0m\n\u001b[1;32m    183\u001b[0m                 \u001b[0mmodeled\u001b[0m \u001b[0;34m=\u001b[0m \u001b[0mAnnovarModels\u001b[0m\u001b[0;34m(\u001b[0m\u001b[0mdict_filled\u001b[0m\u001b[0;34m)\u001b[0m\u001b[0;34m\u001b[0m\u001b[0m\n\u001b[0;32m--> 184\u001b[0;31m                 \u001b[0mlistofdicts\u001b[0m\u001b[0;34m.\u001b[0m\u001b[0mappend\u001b[0m\u001b[0;34m(\u001b[0m\u001b[0mmodeled\u001b[0m\u001b[0;34m.\u001b[0m\u001b[0mfinal_dict\u001b[0m\u001b[0;34m)\u001b[0m\u001b[0;34m\u001b[0m\u001b[0m\n\u001b[0m\u001b[1;32m    185\u001b[0m \u001b[0;34m\u001b[0m\u001b[0m\n\u001b[1;32m    186\u001b[0m             \u001b[0mself\u001b[0m\u001b[0;34m.\u001b[0m\u001b[0moffset\u001b[0m \u001b[0;34m+=\u001b[0m \u001b[0moffset\u001b[0m\u001b[0;34m\u001b[0m\u001b[0m\n",
      "\u001b[0;32m/Users/carlomazzaferro/Documents/CCBB/ucsd-ccbb/VAPr/VAPr/parser_models.pyc\u001b[0m in \u001b[0;36m<dictcomp>\u001b[0;34m((k,))\u001b[0m\n\u001b[1;32m    182\u001b[0m                 \u001b[0mdict_filled\u001b[0m \u001b[0;34m=\u001b[0m \u001b[0;34m{\u001b[0m\u001b[0mk\u001b[0m\u001b[0;34m:\u001b[0m \u001b[0msparse_dict\u001b[0m\u001b[0;34m[\u001b[0m\u001b[0mk\u001b[0m\u001b[0;34m]\u001b[0m \u001b[0;32mfor\u001b[0m \u001b[0mk\u001b[0m \u001b[0;32min\u001b[0m \u001b[0mself\u001b[0m\u001b[0;34m.\u001b[0m\u001b[0mcolumns\u001b[0m \u001b[0;32mif\u001b[0m \u001b[0msparse_dict\u001b[0m\u001b[0;34m[\u001b[0m\u001b[0mk\u001b[0m\u001b[0;34m]\u001b[0m \u001b[0;34m!=\u001b[0m \u001b[0;34m'.'\u001b[0m\u001b[0;34m}\u001b[0m\u001b[0;34m\u001b[0m\u001b[0m\n\u001b[1;32m    183\u001b[0m                 \u001b[0mmodeled\u001b[0m \u001b[0;34m=\u001b[0m \u001b[0mAnnovarModels\u001b[0m\u001b[0;34m(\u001b[0m\u001b[0mdict_filled\u001b[0m\u001b[0;34m)\u001b[0m\u001b[0;34m\u001b[0m\u001b[0m\n\u001b[0;32m--> 184\u001b[0;31m                 \u001b[0mlistofdicts\u001b[0m\u001b[0;34m.\u001b[0m\u001b[0mappend\u001b[0m\u001b[0;34m(\u001b[0m\u001b[0mmodeled\u001b[0m\u001b[0;34m.\u001b[0m\u001b[0mfinal_dict\u001b[0m\u001b[0;34m)\u001b[0m\u001b[0;34m\u001b[0m\u001b[0m\n\u001b[0m\u001b[1;32m    185\u001b[0m \u001b[0;34m\u001b[0m\u001b[0m\n\u001b[1;32m    186\u001b[0m             \u001b[0mself\u001b[0m\u001b[0;34m.\u001b[0m\u001b[0moffset\u001b[0m \u001b[0;34m+=\u001b[0m \u001b[0moffset\u001b[0m\u001b[0;34m\u001b[0m\u001b[0m\n",
      "\u001b[0;31mKeyError\u001b[0m: '1000g20XX'"
     ]
    }
   ],
   "source": [
    "pars.push_to_db()"
   ]
  },
  {
   "cell_type": "markdown",
   "metadata": {},
   "source": [
    "<a id = \"filtering\"></a>\n",
    "## Implement a filter\n",
    "\n",
    " - filter 1: ThousandGenomeAll < 0.05 or info not available\n",
    " - filter 2: ESP6500siv2_all < 0.05 or info not available\n",
    " - filter 3: cosmic70 information is present\n",
    " - filter 4: Func_knownGene is exonic, splicing, or both\n",
    " - filter 5: ExonicFunc_knownGene is not \"synonymous SNV\"\n",
    " - filter 6: Read Depth (DP) > 10"
   ]
  },
  {
   "cell_type": "code",
   "execution_count": 12,
   "metadata": {
    "collapsed": false
   },
   "outputs": [],
   "source": [
    "#Apply filter.\n",
    "from VAPr import MongoDB_querying, file_writer\n",
    "filter_collection = MongoDB_querying.Filters(db_name, collection_name)\n",
    "#rare_cancer_variants = filter_collection.rare_cancer_variant()\n",
    "\n",
    "#Crete writer object for filtered lists:\n",
    "my_writer = file_writer.FileWriter(db_name, collection_name)\n",
    "\n",
    "#cancer variants filtered files\n",
    "#my_writer.generate_annotated_csv(rare_cancer_variants, rare_cancer_variants_csv)\n",
    "#my_writer.generate_annotated_vcf(rare_cancer_variants,input_vcf_compressed, rare_cancer_variants_vcf)"
   ]
  },
  {
   "cell_type": "code",
   "execution_count": 16,
   "metadata": {
    "collapsed": false
   },
   "outputs": [
    {
     "data": {
      "text/plain": [
       "'Finished writing annotated CSV file'"
      ]
     },
     "execution_count": 16,
     "metadata": {},
     "output_type": "execute_result"
    }
   ],
   "source": [
    "my_writer.generate_unfiltered_annotated_csv('/Volumes/Carlo_HD1/fffs.csv')"
   ]
  },
  {
   "cell_type": "markdown",
   "metadata": {},
   "source": [
    "<a id = \"export\"></a>\n",
    "## Write Filtered Annotated Output to CSV and VCF\n",
    ".gz file required if vcf output is needed. Refer to the documentation for more info."
   ]
  },
  {
   "cell_type": "code",
   "execution_count": null,
   "metadata": {
    "collapsed": true
   },
   "outputs": [],
   "source": [
    "#Create output files (if needed): specify name of files and path \n",
    "\n",
    "rare_cancer_variants_csv = \".../out_files/filtered_csv.csv\"\n",
    "rare_cancer_variants_vcf =  \".../out_files/filtered_vcf.vcf\"\n",
    "\n",
    "\n",
    "input_vcf_compressed =  '.../test_vcf/Tumor_RNAseq_variants.vcf.gz'\n",
    "\n",
    "#Crete writer object for filtered lists:\n",
    "\n",
    "my_writer = create_output_files.FileWriter(db_name, collection_name)\n",
    "\n",
    "#cancer variants filtered files\n",
    "my_writer.generate_annotated_csv(rare_cancer_variants, rare_cancer_variants_csv)\n",
    "my_writer.generate_annotated_vcf(rare_cancer_variants,input_vcf_compressed, rare_cancer_variants_vcf)"
   ]
  }
 ],
 "metadata": {
  "anaconda-cloud": {},
  "kernelspec": {
   "display_name": "Python [py35]",
   "language": "python",
   "name": "Python [py35]"
  },
  "language_info": {
   "codemirror_mode": {
    "name": "ipython",
    "version": 3
   },
   "file_extension": ".py",
   "mimetype": "text/x-python",
   "name": "python",
   "nbconvert_exporter": "python",
   "pygments_lexer": "ipython3",
   "version": "3.5.2"
  }
 },
 "nbformat": 4,
 "nbformat_minor": 0
}
