{
 "cells": [
  {
   "cell_type": "markdown",
   "metadata": {
    "collapsed": false
   },
   "source": [
    "# Introduction to VAPr: package for the aggregation of genomic variant data \n",
    "\n",
    "#### Author: C. Mazzaferro & Kathleen Fisch\n",
    "#### Email: cmazzafe@ucsd.edu\n",
    "#### Date: June 2016\n",
    " \n",
    "## Outline of Notebook\n",
    "<a id = \"toc\"></a>\n",
    "1. <a href = \"#background\">Background</a>\n",
    "2. <a href = \"#setup\"> Annovar Set-Up</a>\n",
    "  * <a href = \"#naming\">Set paths and names</a>\n",
    "3. <a href = \"#mongo\">Set Up MongoDB</a>\n",
    "  * <a href = \"#parse\">Parse to MongoDB</a>\n",
    "4. <a href = \"#export\">Export CSV and VCF files</a>"
   ]
  },
  {
   "cell_type": "markdown",
   "metadata": {},
   "source": [
    "<a id = \"background\"></a>\n",
    "## Background\n",
    "\n",
    "This notebook will walk you through the basic steps of how variants coming from a VCF can be annotated efficiently and thoroughly using the package VAPr. In particular, the package is aimed at providing a way of retrieving variant information using [ANNOVAR](http://annovar.openbioinformatics.org/en/latest/) and [myvariant.info](myvariant.info) and consolidating it in conveninent formats. It is well-suited for bioinformaticians interested in aggregating variant information into a single database for ease of use and to provide higher analysis capabities.\n",
    "\n",
    "For a more complete description of the functionalities of the package, you can visit the [VAPr Sample Usage Notebook](https://github.com/ucsd-ccbb/VAPr/blob/master/VAPr%20Sample%20Usage.ipynb) and/or check the full documentation on GitHub. "
   ]
  },
  {
   "cell_type": "markdown",
   "metadata": {},
   "source": [
    "<a id = \"setup\"></a>\n",
    "## Annovar Set-Up\n",
    "\n",
    "Annovar* is one of the most popular open source variant annotation packages currently available. It's a collection of comand line perl scripts that levarage on up-to-date publicly available datasets, and allows the execution of region, gene, and filter based annotations. VAPr employs the functionalities of Annovar by providing wrapper funcions that execute automatically the database downloads and update, as well as the annotation itself. In particular, the wrapper was written in order to provide the user with the latest annotation data, but also minizing the overhead of  having to learn a new toolkit fro scratch. The wrapper this takes care of:\n",
    "\n",
    " 1. Building a syntactically correct command line string command\n",
    " 2. Storing downloaded files, as well as annotated ones to their appropriate locations\n",
    " 3. Automatic updates of databases\n",
    " \n",
    "The databases currently supported as default are the following:\n",
    " \n",
    "- knownGene\n",
    "- tfbsConsSites\n",
    "- cytoBand\n",
    "- genomicSuperDups\n",
    "- esp6500siv2_all\n",
    "- 1000g2015aug_all\n",
    "- popfreq_all\n",
    "- clinvar_20140929\n",
    "- cosmic70\n",
    "- nci60\n",
    "\n",
    "Which can be expanded or restricted by the user, depending on his or her research needs. \n",
    "\n",
    "Required set up for this step: download annovar from [here](http://www.openbioinformatics.org/annovar/annovar_download_form.php) and extract it to the location you'd like the databases to live in. The entire disk size of the databases will be around 25 GB, so make sure you have such space available.\n",
    " \n",
    "\n",
    "*[ANNOVAR: Functional annotation of genetic variants from next-generation sequencing data Nucleic Acids Research](http://nar.oxfordjournals.org/content/38/16/e164) , 38:e164, 2010\n"
   ]
  },
  {
   "cell_type": "markdown",
   "metadata": {},
   "source": [
    "<a id = \"naming\"></a>\n",
    "### Set paths and names\n",
    "Import modules and, set the variable paths and initialize the obect `sub_process`, that contains the functions in charge of dealing with annovar\n"
   ]
  },
  {
   "cell_type": "code",
   "execution_count": 1,
   "metadata": {
    "collapsed": false
   },
   "outputs": [
    {
     "name": "stderr",
     "output_type": "stream",
     "text": [
      "/Users/carlomazzaferro/anaconda/envs/py35/lib/python3.5/site-packages/matplotlib/__init__.py:1035: UserWarning: Duplicate key in file \"/Users/carlomazzaferro/.matplotlib/matplotlibrc\", line #2\n",
      "  (fname, cnt))\n"
     ]
    }
   ],
   "source": [
    "# third party modules\n",
    "import pandas as pd\n",
    "import importlib\n",
    "\n",
    "# variantannotation modules\n",
    "from VAPr import parser_models, annovar_suprocess\n",
    "\n",
    "\n",
    "IN_PATH = \"/Volumes/Carlo_HD1/CCBB/VAPr_files/vcf_files/not_annotated/Normal_targeted_seq.vcf\"\n",
    "OUT_PATH = \"/Volumes/Carlo_HD1/CCBB/VAPr_files/csv_files/\"\n",
    "ANNOVAR_PATH = \"/Volumes/Carlo_HD1/CCBB/annovar/\"   #location of the scipts and databases\n",
    "sub_process = annovar_suprocess.AnnovarWrapper(IN_PATH, OUT_PATH, ANNOVAR_PATH)"
   ]
  },
  {
   "cell_type": "code",
   "execution_count": 20,
   "metadata": {
    "collapsed": false
   },
   "outputs": [
    {
     "name": "stdout",
     "output_type": "stream",
     "text": [
      "Number of variants in vcf file: 26625\n"
     ]
    }
   ],
   "source": [
    "#Get an estimate of the number of variants in the vcf file\n",
    "print(\"Number of variants in vcf file: %i\" % sum(1 for line in open(IN_PATH)))"
   ]
  },
  {
   "cell_type": "code",
   "execution_count": 4,
   "metadata": {
    "collapsed": false,
    "scrolled": true
   },
   "outputs": [
    {
     "name": "stdout",
     "output_type": "stream",
     "text": [
      "Currently downloading database file: hg19_kgXref\n",
      "Currently downloading database file: hg19_knownGeneMrna\n",
      "Currently downloading database file: hg19_knownGene\n",
      "\n",
      "Annovar finished dowloading on file : hg19_knownGene. A .txt file has been created in the ANNOVAR_PATH directory\n",
      "\n",
      "Currently downloading database file: hg19_kgXref\n",
      "\n",
      "Annovar finished dowloading on file : hg19_kgXref. A .txt file has been created in the ANNOVAR_PATH directory\n",
      "\n",
      "Currently downloading database file: hg19_knownGeneMrna\n",
      "Currently downloading database file: hg19_cosmic70\n",
      "Currently downloading database file: hg19_cosmic70\n",
      "Currently downloading database file: hg19_cosmic70\n",
      "\n",
      "Annovar finished dowloading on file : hg19_cosmic70. A .txt file has been created in the ANNOVAR_PATH directory\n",
      "\n",
      "Currently downloading database file: genomicSuperDups\n",
      "\n",
      "Annovar finished dowloading on file : genomicSuperDups. A .txt file has been created in the ANNOVAR_PATH directory\n",
      "\n",
      "Currently downloading database file: hg19_cytoBand\n",
      "\n",
      "Annovar finished dowloading on file : hg19_cytoBand. A .txt file has been created in the ANNOVAR_PATH directory\n",
      "\n",
      "Currently downloading database file: hg19_1000g2015aug\n",
      "Currently downloading database file: hg19_cosmic70\n",
      "Currently downloading database file: hg19_popfreq_all_20150413\n",
      "Currently downloading database file: hg19_popfreq_all_20150413\n",
      "\n",
      "Annovar finished dowloading on file : hg19_popfreq_all_20150413. A .txt file has been created in the ANNOVAR_PATH directory\n",
      "\n",
      "Currently downloading database file: hg19_esp6500siv2_all\n",
      "Currently downloading database file: hg19_esp6500siv2_all\n",
      "Currently downloading database file: hg19_esp6500siv2_all\n",
      "\n",
      "Annovar finished dowloading on file : hg19_esp6500siv2_all. A .txt file has been created in the ANNOVAR_PATH directory\n",
      "\n",
      "Currently downloading database file: tfbsConsSites\n",
      "Currently downloading database file: hg19_esp6500siv2_all\n",
      "Currently downloading database file: tfbsConsSites\n",
      "\n",
      "Annovar finished dowloading on file : tfbsConsSites. A .txt file has been created in the ANNOVAR_PATH directory\n",
      "\n",
      "Currently downloading database file: targetScanS\n",
      "Currently downloading database file: targetScanS\n",
      "\n",
      "Annovar finished dowloading on file : targetScanS. A .txt file has been created in the ANNOVAR_PATH directory\n",
      "\n",
      "Currently downloading database file: hg19_nci60\n",
      "Currently downloading database file: hg19_nci60\n",
      "Currently downloading database file: hg19_nci60\n",
      "\n",
      "Annovar finished dowloading on file : hg19_nci60. A .txt file has been created in the ANNOVAR_PATH directory\n",
      "\n",
      "Currently downloading database file: hg19_nci60\n",
      "Currently downloading database file: hg19_clinvar_20161128\n",
      "Currently downloading database file: hg19_clinvar_20161128\n",
      "Currently downloading database file: hg19_clinvar_20161128\n",
      "\n",
      "Annovar finished dowloading on file : hg19_clinvar_20161128. A .txt file has been created in the ANNOVAR_PATH directory\n",
      "\n"
     ]
    },
    {
     "data": {
      "text/plain": [
       "'Finished downloading databases to /Volumes/Carlo_HD1/CCBB/annovar/humandb/'"
      ]
     },
     "execution_count": 4,
     "metadata": {},
     "output_type": "execute_result"
    }
   ],
   "source": [
    "sub_process.download_dbs()"
   ]
  },
  {
   "cell_type": "code",
   "execution_count": 16,
   "metadata": {
    "collapsed": false,
    "scrolled": true
   },
   "outputs": [
    {
     "name": "stdout",
     "output_type": "stream",
     "text": [
      "Currently working on VCF file: Normal_targeted_seq_annotated, field variant_function\n",
      "Currently working on VCF file: Normal_targeted_seq_annotated, field exonic_variant_function\n",
      "Currently working on VCF file: Normal_targeted_seq_annotated, field hg19_genomicSuperDups\n",
      "Currently working on VCF file: Normal_targeted_seq_annotated, field hg19_cosmic70_filtered\n",
      "Currently working on VCF file: Normal_targeted_seq_annotated, field hg19_cosmic70_dropped\n",
      "Currently working on VCF file: Normal_targeted_seq_annotated, field hg19_cytoBand\n",
      "Currently working on VCF file: Normal_targeted_seq_annotated, field hg19_popfreq_all_20150413_filtered\n",
      "Currently working on VCF file: Normal_targeted_seq_annotated, field hg19_popfreq_all_20150413_dropped\n",
      "Currently working on VCF file: Normal_targeted_seq_annotated, field 2015_08_dropped\n",
      "Currently working on VCF file: Normal_targeted_seq_annotated, field hg19_esp6500siv2_all_dropped\n",
      "Currently working on VCF file: Normal_targeted_seq_annotated, field hg19_esp6500siv2_all_filtered\n",
      "Currently working on VCF file: Normal_targeted_seq_annotated, field hg19_tfbsConsSites\n",
      "Currently working on VCF file: Normal_targeted_seq_annotated, field hg19_targetScanS\n",
      "Currently working on VCF file: Normal_targeted_seq_annotated, field hg19_nci60_dropped\n",
      "Currently working on VCF file: Normal_targeted_seq_annotated, field hg19_nci60_filtered\n",
      "Currently working on VCF file: Normal_targeted_seq_annotated, field hg19_clinvar_20161128_dropped\n",
      "Currently working on VCF file: Normal_targeted_seq_annotated, field hg19_clinvar_20161128_filtered\n",
      "Currently working on VCF file: Normal_targeted_seq_annotated, field txt\n",
      "\n",
      "Annovar finished working on file : Normal_targeted_seq_annotated. A .txt file has been created in the OUT_PATH directory\n",
      "\n",
      "CPU times: user 64.3 ms, sys: 32.7 ms, total: 97 ms\n",
      "Wall time: 4min 51s\n"
     ]
    },
    {
     "data": {
      "text/plain": [
       "'Finished running ANNOVAR on /Volumes/Carlo_HD1/CCBB/VAPr_files/vcf_files/not_annotated/Normal_targeted_seq.vcf'"
      ]
     },
     "execution_count": 16,
     "metadata": {},
     "output_type": "execute_result"
    }
   ],
   "source": [
    "%%time\n",
    "sub_process.run_annovar()"
   ]
  },
  {
   "cell_type": "markdown",
   "metadata": {},
   "source": [
    "~1 minute for 25k variants"
   ]
  },
  {
   "cell_type": "markdown",
   "metadata": {},
   "source": [
    "<a id = \"mongo\"></a>\n",
    "## Set up MongoDB \n",
    "\n",
    "As mentioned, a MongoDB instance must be installed and running. Platform-specific installation instructions can be found [here](https://www.mongodb.com/download-center?jmp=docs&_ga=1.190648363.1890535995.1486057213#community), alongside with download of the latest distributions.\n",
    "\n",
    "![Imgur](http://i.imgur.com/FjLUDFb.png)"
   ]
  },
  {
   "cell_type": "markdown",
   "metadata": {},
   "source": [
    "A great introduction to the concepts relevant to MongoDB, and specifically how to interact with it using python can be found [here](https://docs.mongodb.com/getting-started/python/introduction/). Of particular interest is the explanation on how documents are formatted and stored inside a the database. Variants will follow that format as well: a sample entry of the database will look roughly as follows (the document for this variant (HGVS_id: chr20:g.25194768A>G) has been reduced to half of its actual size). \n",
    "\n",
    "\n",
    "```python\n",
    "{\n",
    "  \"_id\": ObjectId(\"5887c6d3bc644e51c028971a\"),\n",
    "  \"chr\": \"chr19\",\n",
    "  \"cytoband\": {\n",
    "    \"Region\": \"13\",\n",
    "    \"Sub_Band\": \"41\",\n",
    "    \"Chromosome\": 19,\n",
    "    \"Band\": \"q\",\n",
    "    \"Name\": \"19q13.41\"\n",
    "  },\n",
    "  \"alt\": \"C\",\n",
    "  \"hg19\": {\n",
    "    \"end\": 25194768,\n",
    "    \"start\": 25194768\n",
    "  },\n",
    "  \n",
    "  ...\n",
    "  \n",
    "  \"otherinfo\": [\n",
    "    \"GT:AD:DP:GQ:PL\",\n",
    "    \"1/1:0,2:2:6:89,6,0\"\n",
    "  ],\n",
    "  \"hgvs_id\": \"chr20:g.25194768A>G\",\n",
    "  \"esp6500siv2_all\": \"0.71\",\n",
    "  \"ref\": \"T\",\n",
    "  \"chrom\": \"20\",\n",
    "  \"grasp\": {\n",
    "    \"exclusively_male_female\": \"n\",\n",
    "    \"initial_sample_description\": [\n",
    "      \"Up to 46186 EA individuals\",\n",
    "      [\n",
    "        \"Up to 3445 EA cases\",\n",
    "        \" 6935 EA controls\"\n",
    "      ],\n",
    "      \"69395 EA individuals\",\n",
    "      \"69395 EA individuals\"\n",
    "    ],\n",
    "    \"creation_date\": \"8/17/12\",\n",
    "    \"gwas_ancestry_description\": \"European\",\n",
    "    \"srsid\": 6083780,\n",
    "    \"platform_snps_passing_qc\": [\n",
    "      \"Affymetrix & Illumina [~2.5 million] (imputed)\",\n",
    "      \"Illumina [528745]\",\n",
    "      [\n",
    "        \"Affymetrix\",\n",
    "        \" Illumina & Perlegen [~2.5 million] (imputed)\"\n",
    "      ],\n",
    "      [\n",
    "        \"Affymetrix\",\n",
    "        \" Illumina & Perlegen [~2.5 million] (imputed)\"\n",
    "      ]\n",
    "    ],\n",
    "    \"hg19\": {\n",
    "      \"chr\": 20,\n",
    "      \"pos\": 25194768\n",
    "    },\n",
    "    \"publication\": [\n",
    "      {\n",
    "        \"pmid\": 20081858,\n",
    "        \"phenotype\": \"HOMA-B\",\n",
    "        \"p_value\": 0.033930000000000001825,\n",
    "        \"snpid\": \"rs6083780\",\n",
    "        \"paper_phenotype_description\": [\n",
    "          \"Glucose homeostasis traits (fasting glucose\",\n",
    "          \" fasting insulin\",\n",
    "          \" HOMA-B\",\n",
    "          \" HOMA-IR)\"\n",
    "        ],\n",
    "        \"date_pub\": \"1/17/2010\",\n",
    "        \"title\": \"New genetic loci implicated in fasting glucose homeostasis and their impact on type 2 diabetes risk.\",\n",
    "        \"location_within_paper\": \"FullData\",\n",
    "        \"paper_phenotype_categories\": \"Quantitative trait(s);Type 2 diabetes (T2D);Blood-related\",\n",
    "        \"journal\": \"Nat Genet\"\n",
    "      },\n",
    "      {\n",
    "        \"pmid\": 20522523,\n",
    "        \"phenotype\": \"Partial epilepsy\",\n",
    "        \"p_value\": 0.022849999999999998784,\n",
    "        \"snpid\": \"rs6083780\",\n",
    "        \"paper_phenotype_description\": \"Epilepsy (partial epilepsy)\",\n",
    "        \"date_pub\": \"6/22/2010\",\n",
    "        \"title\": \"Common genetic variation and susceptibility to partial epilepsies: a genome-wide association study.\",\n",
    "        \"location_within_paper\": \"FullScan\",\n",
    "        \"paper_phenotype_categories\": \"Neuro;Epilepsy\",\n",
    "        \"journal\": \"Brain\"\n",
    "      }\n",
    "    ],\n",
    "    \"last_curation_date\": \"8/17/12\",\n",
    "    \"replication\": [\n",
    "      {\n",
    "        \"total_samples\": 76558,\n",
    "        \"european\": 76558\n",
    "      },\n",
    "      {\n",
    "        \"total_samples\": 133661,\n",
    "        \"european\": 133661\n",
    "      }\n",
    "    ],\n",
    "    \"discovery\": [\n",
    "      {\n",
    "        \"total_samples\": 46186,\n",
    "        \"european\": 46186\n",
    "      },\n",
    "      {\n",
    "        \"total_samples\": 10380,\n",
    "        \"european\": 10380\n",
    "      }\n",
    "    ],\n",
    "    \"hupfield\": \"Jan2014\",\n",
    "    \"includes_male_female_only_analyses\": \"n\",\n",
    "    \"in_gene\": \"(ENTPD6)\",\n",
    "    \"replication_sample_description\": [\n",
    "      \"up to 76558 EA individuals\",\n",
    "      \"NR\",\n",
    "      \"133661 EA individuals\",\n",
    "      \"133661 EA individuals\"\n",
    "    ]\n",
    "  },\n",
    "  \"start\": 51447065\n",
    "} ```\n",
    "\n",
    "\n",
    "The richness of the data derives from the usage of MyVariant.info services and the high-availability of the datasets hosted by them. Further, being updated at least monthly, their databases can be guaranteed to deliver the most accurate and relevat data for specific variants. "
   ]
  },
  {
   "cell_type": "markdown",
   "metadata": {},
   "source": [
    "<a id = \"parse\"></a>\n",
    "### Prepare to parse data to MongoDB\n",
    "\n",
    "Here, we finally parse the data to Mongo. Assuming all the installation steps have been taken, and mongodb is running (the command `sudo chkconfig mongod on` should return [ OK ]. Check [this](https://docs.mongodb.com/manual/tutorial/install-mongodb-on-amazon/) for more information on how to perform and check the installation on an AWS instance. \n",
    "\n",
    "#### File names and variables\n",
    "\n",
    "The required file names and variables are the following:\n",
    "\n",
    "\n",
    "- CSV annotated (assuming its been annotated with ANNOVAR already. If not, refer to the documentation for instructions on how to perform annotation).\n",
    "- VCF (original file containing the variants\n",
    "- MongoDB collection and Database names. A mongoDB instance must be running upon calling the main VAPr function, but the parsing will be done automatically by the underlying `pymongo` library.\n"
   ]
  },
  {
   "cell_type": "code",
   "execution_count": 1,
   "metadata": {
    "collapsed": false
   },
   "outputs": [
    {
     "name": "stderr",
     "output_type": "stream",
     "text": [
      "/Users/carlomazzaferro/anaconda/envs/py35/lib/python3.5/site-packages/matplotlib/__init__.py:1035: UserWarning: Duplicate key in file \"/Users/carlomazzaferro/.matplotlib/matplotlibrc\", line #2\n",
      "  (fname, cnt))\n"
     ]
    }
   ],
   "source": [
    "from VAPr import parser_models, annovar_suprocess\n",
    "import importlib\n",
    "importlib.reload(parser_models)\n",
    "csv_file = '/Volumes/Carlo_HD1/CCBB/VAPr_files/csv_files/Sample_MCCT-3jks_raw_variants_annotated.hg19_multianno.txt'\n",
    "vcf_file = '/Volumes/Carlo_HD1/CCBB/VAPr_files/vcf_files/not_annotated/Sample_MCCT-3jks_raw_variants.vcf'\n",
    "collection_name = 'My_Variant_Collection_File_One'\n",
    "db_name = 'My_Variant_Database'\n",
    "\n",
    "pars = parser_models.VariantParsing(vcf_file, collection_name, db_name, annotated_file=csv_file)"
   ]
  },
  {
   "cell_type": "code",
   "execution_count": 2,
   "metadata": {
    "collapsed": false
   },
   "outputs": [
    {
     "name": "stdout",
     "output_type": "stream",
     "text": [
      "Number of variants in vcf file: 232680\n"
     ]
    }
   ],
   "source": [
    "print(\"Number of variants in vcf file: %i\" % sum(1 for line in open(vcf_file)))"
   ]
  },
  {
   "cell_type": "code",
   "execution_count": 4,
   "metadata": {
    "collapsed": false
   },
   "outputs": [],
   "source": [
    "import vcf\n",
    "import itertools\n",
    "import myvariant\n",
    "\n",
    "def complete_chromosome(expanded_list):\n",
    "    for i in range(0, len(expanded_list)):\n",
    "        if 'M' in expanded_list[i]:\n",
    "            one = expanded_list[i].split(':')[0]\n",
    "            two = expanded_list[i].split(':')[1]\n",
    "            if 'MT' not in one:\n",
    "                one = 'chrMT'\n",
    "            expanded_list[i] = one + ':' + two\n",
    "    return expanded_list\n",
    "\n",
    "def get_variants_from_vcf(vcf_file):\n",
    "    \"\"\"\n",
    "    Retrieves variant names from a LARGE vcf file.\n",
    "    :param step: ...\n",
    "    :return: a list of variants formatted according to HGVS standards\n",
    "    \"\"\"\n",
    "    list_ids = []\n",
    "    reader = vcf.Reader(open(vcf_file, 'r'))\n",
    "\n",
    "    for record in itertools.islice(reader, 0, 20000):\n",
    "        if len(record.ALT) > 1:\n",
    "            for alt in record.ALT:\n",
    "                list_ids.append(myvariant.format_hgvs(record.CHROM, record.POS,\n",
    "                                                      record.REF, str(alt)))\n",
    "        else:\n",
    "            list_ids.append(myvariant.format_hgvs(record.CHROM, record.POS,\n",
    "                                                  record.REF, str(record.ALT[0])))\n",
    "\n",
    "    return complete_chromosome(list_ids)\n",
    "\n",
    "list_hgvs_ids = get_variants_from_vcf(vcf_file)"
   ]
  },
  {
   "cell_type": "code",
   "execution_count": 8,
   "metadata": {
    "collapsed": false
   },
   "outputs": [
    {
     "data": {
      "text/plain": [
       "20004"
      ]
     },
     "execution_count": 8,
     "metadata": {},
     "output_type": "execute_result"
    }
   ],
   "source": [
    "mv = myvariant.MyVariantInfo()\n",
    "len(list_hgvs_ids)"
   ]
  },
  {
   "cell_type": "code",
   "execution_count": 4,
   "metadata": {
    "collapsed": false
   },
   "outputs": [
    {
     "name": "stdout",
     "output_type": "stream",
     "text": [
      "querying 1-952...done.\n"
     ]
    }
   ],
   "source": [
    "list_hgvs_ids = pars.hgvs.get_variants_from_vcf(0)\n",
    "myvariants_variants = pars.get_dict_myvariant(list_hgvs_ids)\n",
    "\n",
    "import myvariant\n",
    "mv = myvariant.MyVariantInfo()\n",
    "# This will retrieve a list of dictionaries\n",
    "#variant_data = mv.getvariants(variant_list, as_dataframe=False)\n",
    "#variant_data = self.remove_id_key(variant_data)"
   ]
  },
  {
   "cell_type": "code",
   "execution_count": 5,
   "metadata": {
    "collapsed": false
   },
   "outputs": [
    {
     "data": {
      "text/plain": [
       "'chrMT:g.146T>C'"
      ]
     },
     "execution_count": 5,
     "metadata": {},
     "output_type": "execute_result"
    }
   ],
   "source": [
    "list_hgvs_ids[0]"
   ]
  },
  {
   "cell_type": "code",
   "execution_count": 12,
   "metadata": {
    "collapsed": false
   },
   "outputs": [],
   "source": [
    "import grequests\n",
    "\n",
    "_url = mv.url + '/variant/'\n",
    "_kwargs = {'ids': list_hgvs_ids[0:5]}\n",
    "\n",
    "\n",
    "def concurrent_post(url, params):\n",
    "    \n",
    "    return_raw = params.pop('return_raw', False)\n",
    "    headers = {'content-type': 'application/x-www-form-urlencoded',\n",
    "               'user-agent': \"Python-requests_myvariant.py/%s (gzip)\" % requests.__version__}\n",
    "    res = grequests.post(url, data=params, headers=headers)\n",
    "    if mv.raise_for_status:\n",
    "        \n",
    "        # raise requests.exceptions.HTTPError if not 200\n",
    "        res.raise_for_status()\n",
    "    if return_raw:\n",
    "        return res\n",
    "    else:\n",
    "        return res.json()\n",
    "    \n",
    "\n",
    "import grequests"
   ]
  },
  {
   "cell_type": "code",
   "execution_count": 40,
   "metadata": {
    "collapsed": false
   },
   "outputs": [],
   "source": [
    "param = {'ids': list_hgvs_ids[0]}\n",
    "return_raw = param.pop('return_raw', False)\n",
    "headers = {'content-type': 'application/x-www-form-urlencoded',\n",
    "           'user-agent': \"Python-requests_myvariant.py/%s (gzip)\" % requests.__version__}\n",
    "res = grequests.post(_url, data=param, headers=headers)"
   ]
  },
  {
   "cell_type": "code",
   "execution_count": 35,
   "metadata": {
    "collapsed": false
   },
   "outputs": [],
   "source": [
    "No_requests = 20\n",
    "params = [{'ids': list_hgvs_ids[i]} for i in range(No_requests)]"
   ]
  },
  {
   "cell_type": "code",
   "execution_count": 79,
   "metadata": {
    "collapsed": false
   },
   "outputs": [
    {
     "name": "stdout",
     "output_type": "stream",
     "text": [
      "querying 1-1000...done.\n",
      "querying 1001-2000...done.\n",
      "querying 2001-3000...done.\n",
      "querying 3001-4000...done.\n",
      "querying 4001-5000...done.\n",
      "CPU times: user 1.34 s, sys: 127 ms, total: 1.46 s\n",
      "Wall time: 30.1 s\n"
     ]
    }
   ],
   "source": [
    "%%time\n",
    "anno = mv.getvariants(list_hgvs_ids[0:5000], as_dataframe=False)"
   ]
  },
  {
   "cell_type": "code",
   "execution_count": 92,
   "metadata": {
    "collapsed": false,
    "scrolled": true
   },
   "outputs": [
    {
     "data": {
      "text/plain": [
       "True"
      ]
     },
     "execution_count": 92,
     "metadata": {},
     "output_type": "execute_result"
    }
   ],
   "source": [
    "ls[0][0] == anno[0]"
   ]
  },
  {
   "cell_type": "code",
   "execution_count": 86,
   "metadata": {
    "collapsed": false,
    "scrolled": true
   },
   "outputs": [
    {
     "data": {
      "text/plain": [
       "dict_keys(['hg19', 'vcf', 'cadd', 'chrom', 'query', '_id', 'dbsnp', 'snpeff'])"
      ]
     },
     "execution_count": 86,
     "metadata": {},
     "output_type": "execute_result"
    }
   ],
   "source": [
    "anno[0].keys()"
   ]
  },
  {
   "cell_type": "code",
   "execution_count": 105,
   "metadata": {
    "collapsed": true
   },
   "outputs": [],
   "source": [
    "ls =[]"
   ]
  },
  {
   "cell_type": "code",
   "execution_count": 106,
   "metadata": {
    "collapsed": false
   },
   "outputs": [],
   "source": [
    "for i,r in enumerate(resps):\n",
    "    if r is None:\n",
    "        ls.append({'notfound' : True, 'query': params[i]})\n",
    "    else:\n",
    "        ls.append(r.json()[0])"
   ]
  },
  {
   "cell_type": "code",
   "execution_count": 113,
   "metadata": {
    "collapsed": false
   },
   "outputs": [
    {
     "data": {
      "text/plain": [
       "{'notfound': True, 'query': {'ids': 'chr1:g.6196493A>G'}}"
      ]
     },
     "execution_count": 113,
     "metadata": {},
     "output_type": "execute_result"
    }
   ],
   "source": [
    "ls[979]"
   ]
  },
  {
   "cell_type": "code",
   "execution_count": 110,
   "metadata": {
    "collapsed": false,
    "scrolled": true
   },
   "outputs": [
    {
     "data": {
      "text/plain": [
       "{'_id': 'chr1:g.6196493A>G',\n",
       " 'cadd': {'1000g': {'af': 0.51,\n",
       "   'afr': 0.36,\n",
       "   'amr': 0.47,\n",
       "   'asn': 0.81,\n",
       "   'eur': 0.39},\n",
       "  '_license': 'http://goo.gl/bkpNhq',\n",
       "  'alt': 'G',\n",
       "  'anc': 'A',\n",
       "  'annotype': 'Transcript',\n",
       "  'bstatistic': 754,\n",
       "  'chmm': {'bivflnk': 0.0,\n",
       "   'enh': 0.0,\n",
       "   'enhbiv': 0.0,\n",
       "   'het': 0.0,\n",
       "   'quies': 0.488,\n",
       "   'reprpc': 0.102,\n",
       "   'reprpcwk': 0.339,\n",
       "   'tssa': 0.0,\n",
       "   'tssaflnk': 0.0,\n",
       "   'tssbiv': 0.0,\n",
       "   'tx': 0.008,\n",
       "   'txflnk': 0.0,\n",
       "   'txwk': 0.063,\n",
       "   'znfrpts': 0.0},\n",
       "  'chrom': 1,\n",
       "  'consdetail': 'intron',\n",
       "  'consequence': 'INTRONIC',\n",
       "  'consscore': 2,\n",
       "  'cpg': 0.05,\n",
       "  'dna': {'helt': 0.0, 'mgw': 0.26, 'prot': 3.07, 'roll': 1.23},\n",
       "  'encode': {'h3k27ac': 4.0,\n",
       "   'h3k4me1': 2.0,\n",
       "   'h3k4me3': 3.0,\n",
       "   'nucleo': 1.6,\n",
       "   'occ': 2,\n",
       "   'p_val': {'comb': 0.95,\n",
       "    'ctcf': 0.0,\n",
       "    'dnas': 1.63,\n",
       "    'faire': 0.0,\n",
       "    'mycp': 0.0,\n",
       "    'polii': 0.0},\n",
       "   'sig': {'ctcf': 0.03,\n",
       "    'dnase': 0.04,\n",
       "    'faire': 0.0,\n",
       "    'myc': 0.0,\n",
       "    'polii': 0.0}},\n",
       "  'fitcons': 0.053666,\n",
       "  'gc': 0.59,\n",
       "  'gene': {'ccds_id': 'CCDS57.1',\n",
       "   'feature_id': 'ENST00000262450',\n",
       "   'gene_id': 'ENSG00000116254',\n",
       "   'genename': 'CHD5'},\n",
       "  'gerp': {'n': 3.92, 's': -4.83},\n",
       "  'intron': '17/41',\n",
       "  'isderived': 'TRUE',\n",
       "  'isknownvariant': 'TRUE',\n",
       "  'istv': 'FALSE',\n",
       "  'length': 0,\n",
       "  'mapability': {'20bp': 1, '35bp': 1},\n",
       "  'min_dist_tse': 31342,\n",
       "  'min_dist_tss': 7672,\n",
       "  'motif': {'dist': 0.42, 'toverlap': 1},\n",
       "  'mutindex': -60,\n",
       "  'phast_cons': {'mammalian': 0.0, 'primate': 0.051, 'vertebrate': 0.0},\n",
       "  'phred': 5.776,\n",
       "  'phylop': {'mammalian': -0.859, 'primate': 0.375, 'vertebrate': -0.823},\n",
       "  'pos': 6196493,\n",
       "  'rawscore': 0.308468,\n",
       "  'ref': 'A',\n",
       "  'segway': 'R5',\n",
       "  'type': 'SNV'},\n",
       " 'chrom': '1',\n",
       " 'dbsnp': {'allele_origin': 'unspecified',\n",
       "  'alleles': [{'allele': 'A', 'freq': 0.483}, {'allele': 'G', 'freq': 0.517}],\n",
       "  'alt': 'G',\n",
       "  'chrom': '1',\n",
       "  'class': 'SNV',\n",
       "  'dbsnp_build': 116,\n",
       "  'flags': ['ASP', 'G5', 'G5A', 'GNO', 'INT', 'KGPhase1', 'KGPhase3', 'SLO'],\n",
       "  'gene': {'geneid': '26038', 'symbol': 'CHD5'},\n",
       "  'gmaf': 0.517,\n",
       "  'hg19': {'end': 6196493, 'start': 6196493},\n",
       "  'ref': 'A',\n",
       "  'rsid': 'rs7526887',\n",
       "  'validated': True,\n",
       "  'var_subtype': 'ts',\n",
       "  'vartype': 'snp'},\n",
       " 'hg19': {'end': 6196493, 'start': 6196493},\n",
       " 'query': 'chr1:g.6196493A>G',\n",
       " 'snpeff': {'ann': {'effect': 'intron_variant',\n",
       "   'feature_id': 'NM_015557.2',\n",
       "   'feature_type': 'transcript',\n",
       "   'gene_id': 'CHD5',\n",
       "   'genename': 'CHD5',\n",
       "   'hgvs_c': 'c.2696+84T>C',\n",
       "   'putative_impact': 'MODIFIER',\n",
       "   'rank': '17',\n",
       "   'total': '41',\n",
       "   'transcript_biotype': 'Coding'}},\n",
       " 'vcf': {'alt': 'G', 'position': '6196493', 'ref': 'A'},\n",
       " 'wellderly': {'alleles': [{'allele': 'A', 'freq': 0.585},\n",
       "   {'allele': 'G', 'freq': 0.415}],\n",
       "  'alt': 'G',\n",
       "  'chrom': '1',\n",
       "  'gene': ['KIAA0444', 'CHD5'],\n",
       "  'genotypes': [{'count': 94, 'freq': 0.47, 'genotype': 'A/G'},\n",
       "   {'count': 36, 'freq': 0.18, 'genotype': 'G/G'},\n",
       "   {'count': 70, 'freq': 0.3500000000000001, 'genotype': 'A/A'}],\n",
       "  'hg19': {'end': 6196493, 'start': 6196493},\n",
       "  'pos': 6196493,\n",
       "  'ref': 'A',\n",
       "  'vartype': 'snp'}}"
      ]
     },
     "execution_count": 110,
     "metadata": {},
     "output_type": "execute_result"
    }
   ],
   "source": [
    "anno[979]"
   ]
  },
  {
   "cell_type": "code",
   "execution_count": null,
   "metadata": {
    "collapsed": true
   },
   "outputs": [],
   "source": [
    "return_raw = True\n",
    "\n",
    "query_fn = lambda vids: self._getvariants_inner(vids, **kwargs)\n",
    "out = []\n",
    "\n",
    "for hits in self._repeated_query(query_fn, vids, verbose=verbose):\n",
    "    if return_raw:\n",
    "        out.append(hits)   # hits is the raw response text\n",
    "print(out)\n",
    "\n",
    "def _repeated_query(self, query_fn, query_li, verbose=True, **fn_kwargs):\n",
    "    '''run query_fn for input query_li in a batch (self.step).\n",
    "       return a generator of query_result in each batch.\n",
    "       input query_li can be a list/tuple/iterable\n",
    "    '''\n",
    "    step = min(self.step, self.max_query)\n",
    "    i = 0\n",
    "    for batch, cnt in iter_n(query_li, step, with_cnt=True):\n",
    "        if verbose:\n",
    "            print(\"querying {0}-{1}...\".format(i+1, cnt), end=\"\")\n",
    "        i = cnt\n",
    "        query_result = query_fn(batch, **fn_kwargs)\n",
    "        yield query_result\n",
    "        if verbose:\n",
    "            print(\"done.\")"
   ]
  },
  {
   "cell_type": "code",
   "execution_count": 34,
   "metadata": {
    "collapsed": false
   },
   "outputs": [
    {
     "name": "stdout",
     "output_type": "stream",
     "text": [
      "CPU times: user 35.8 ms, sys: 6.94 ms, total: 42.7 ms\n",
      "Wall time: 164 ms\n"
     ]
    }
   ],
   "source": [
    "%%time\n",
    "import grequests\n",
    "import requests\n",
    "No_requests = 10\n",
    "\n",
    "_url = mv.url + '/variant/'\n",
    "_urls = [_url] * No_requests\n",
    "\n",
    "params = [{'ids': list_hgvs_ids[i]} for i in range(No_requests)]\n",
    "\n",
    "#return_raw = params.pop('return_raw', False)\n",
    "\n",
    "headers = {'content-type': 'application/x-www-form-urlencoded',\n",
    "           'user-agent': \"Python-requests_myvariant.py/%s (gzip)\" % requests.__version__}\n",
    "\n",
    "res = (grequests.post(_url, data=params[i], headers=headers) for i, _ in enumerate(params))\n",
    "                      \n",
    "\n",
    "resps = grequests.map(res)\n",
    "\n",
    "ls=[]\n",
    "\n",
    "for i,r in enumerate(resps):\n",
    "    if r is None:\n",
    "        ls.append({'notfound' : True, 'query': params[i]})\n",
    "    else:\n",
    "        ls.append(r.json())"
   ]
  },
  {
   "cell_type": "code",
   "execution_count": 44,
   "metadata": {
    "collapsed": false
   },
   "outputs": [
    {
     "data": {
      "text/plain": [
       "[{'_id': 'chr1:g.723891G>C',\n",
       "  'cadd': {'1000g': {'af': 0.79,\n",
       "    'afr': 0.5,\n",
       "    'amr': 0.86,\n",
       "    'asn': 0.78,\n",
       "    'eur': 0.95},\n",
       "   '_license': 'http://goo.gl/bkpNhq',\n",
       "   'alt': 'C',\n",
       "   'annotype': 'Intergenic',\n",
       "   'bstatistic': 982,\n",
       "   'chmm': {'bivflnk': 0.0,\n",
       "    'enh': 0.0,\n",
       "    'enhbiv': 0.0,\n",
       "    'het': 0.512,\n",
       "    'quies': 0.142,\n",
       "    'reprpc': 0.0,\n",
       "    'reprpcwk': 0.0,\n",
       "    'tssa': 0.0,\n",
       "    'tssaflnk': 0.0,\n",
       "    'tssbiv': 0.0,\n",
       "    'tx': 0.0,\n",
       "    'txflnk': 0.0,\n",
       "    'txwk': 0.323,\n",
       "    'znfrpts': 0.024},\n",
       "   'chrom': 1,\n",
       "   'consdetail': 'downstream',\n",
       "   'consequence': 'DOWNSTREAM',\n",
       "   'consscore': 1,\n",
       "   'cpg': 0.04,\n",
       "   'dna': {'helt': -0.86, 'mgw': 0.47, 'prot': -0.63, 'roll': 5.62},\n",
       "   'encode': {'exp': 4.89,\n",
       "    'h3k27ac': 5.12,\n",
       "    'h3k4me1': 4.0,\n",
       "    'h3k4me3': 3.08,\n",
       "    'nucleo': 2.0,\n",
       "    'occ': 3,\n",
       "    'p_val': {'comb': 0.54,\n",
       "     'ctcf': 0.0,\n",
       "     'dnas': 0.0,\n",
       "     'faire': 1.09,\n",
       "     'mycp': 0.0,\n",
       "     'polii': 0.0},\n",
       "    'sig': {'ctcf': 0.0,\n",
       "     'dnase': 0.0,\n",
       "     'faire': 0.01,\n",
       "     'myc': 0.0,\n",
       "     'polii': 0.0}},\n",
       "   'fitcons': 0.072687,\n",
       "   'gc': 0.44,\n",
       "   'gene': {'feature_id': 'ENST00000591702',\n",
       "    'gene_id': 'ENSG00000237491',\n",
       "    'genename': 'RP11-206L10.9'},\n",
       "   'gerp': {'n': 0, 's': 0},\n",
       "   'isknownvariant': 'TRUE',\n",
       "   'istv': 'TRUE',\n",
       "   'length': 0,\n",
       "   'mapability': {'20bp': 1, '35bp': 1},\n",
       "   'min_dist_tse': 839,\n",
       "   'min_dist_tss': 2711,\n",
       "   'mutindex': -53,\n",
       "   'phast_cons': {'mammalian': 0.005, 'vertebrate': 0.006},\n",
       "   'phred': 1.032,\n",
       "   'phylop': {'mammalian': 0.412, 'primate': 0.0, 'vertebrate': 0.42},\n",
       "   'pos': 723891,\n",
       "   'rawscore': -0.212839,\n",
       "   'ref': 'G',\n",
       "   'scoresegdup': 0.98,\n",
       "   'segway': 'F1',\n",
       "   'type': 'SNV'},\n",
       "  'chrom': '1',\n",
       "  'dbsnp': {'allele_origin': 'unspecified',\n",
       "   'alleles': [{'allele': 'G', 'freq': 0.22}, {'allele': 'C', 'freq': 0.78}],\n",
       "   'alt': 'C',\n",
       "   'chrom': '1',\n",
       "   'class': 'SNV',\n",
       "   'dbsnp_build': 101,\n",
       "   'flags': ['ASP',\n",
       "    'G5',\n",
       "    'G5A',\n",
       "    'GNO',\n",
       "    'HD',\n",
       "    'KGPhase1',\n",
       "    'KGPhase3',\n",
       "    'RV',\n",
       "    'SLO'],\n",
       "   'gmaf': 0.78,\n",
       "   'hg19': {'end': 723891, 'start': 723891},\n",
       "   'ref': 'G',\n",
       "   'rsid': 'rs2977670',\n",
       "   'validated': True,\n",
       "   'var_subtype': 'tv',\n",
       "   'vartype': 'snp'},\n",
       "  'grasp': {'creation_date': '8/17/12',\n",
       "   'discovery': [{'european': 46186, 'total_samples': 46186},\n",
       "    {'european': 67093, 'total_samples': 67093},\n",
       "    {'european': 67093, 'total_samples': 67093}],\n",
       "   'exclusively_male_female': 'n',\n",
       "   'gwas_ancestry_description': 'European',\n",
       "   'hg19': {'chr': 1, 'pos': 723891},\n",
       "   'hupfield': 'Jan2014',\n",
       "   'includes_male_female_only_analyses': 'n',\n",
       "   'initial_sample_description': ['Up to 46186 EA individuals',\n",
       "    'Up to 67093 EA individuals',\n",
       "    'Up to 67093 EA individuals'],\n",
       "   'last_curation_date': '8/17/12',\n",
       "   'platform_snps_passing_qc': 'Affymetrix & Illumina [~2.5 million] (imputed)',\n",
       "   'publication': [{'date_pub': '1/17/2010',\n",
       "     'journal': 'Nat Genet',\n",
       "     'location_within_paper': 'FullData',\n",
       "     'p_value': 0.04728,\n",
       "     'paper_phenotype_categories': 'Quantitative trait(s);Type 2 diabetes (T2D);Blood-related',\n",
       "     'paper_phenotype_description': ['Glucose homeostasis traits (fasting glucose',\n",
       "      ' fasting insulin',\n",
       "      ' HOMA-B',\n",
       "      ' HOMA-IR)'],\n",
       "     'phenotype': 'Fasting insulin',\n",
       "     'pmid': 20081858,\n",
       "     'snpid': 'rs2977670',\n",
       "     'title': 'New genetic loci implicated in fasting glucose homeostasis and their impact on type 2 diabetes risk.'},\n",
       "    {'date_pub': '4/11/2010',\n",
       "     'journal': 'Nat Genet',\n",
       "     'location_within_paper': 'Full Scan',\n",
       "     'p_value': 0.014,\n",
       "     'paper_phenotype_categories': 'Renal;Chronic kidney disease;Quantitative trait(s)',\n",
       "     'paper_phenotype_description': 'Chronic kidney disease (CKD) and renal traits',\n",
       "     'phenotype': 'Chronic kidney disease',\n",
       "     'pmid': 20383146,\n",
       "     'snpid': 'rs2977670',\n",
       "     'title': 'New loci associated with kidney function and chronic kidney disease.'},\n",
       "    {'date_pub': '4/11/2010',\n",
       "     'journal': 'Nat Genet',\n",
       "     'location_within_paper': 'Full Scan',\n",
       "     'p_value': 0.0062,\n",
       "     'paper_phenotype_categories': 'Renal;Chronic kidney disease;Quantitative trait(s)',\n",
       "     'paper_phenotype_description': 'Chronic kidney disease (CKD) and renal traits',\n",
       "     'phenotype': 'Serum creatinine',\n",
       "     'pmid': 20383146,\n",
       "     'snpid': 'rs2977670',\n",
       "     'title': 'New loci associated with kidney function and chronic kidney disease.'}],\n",
       "   'replication': [{'european': 76558, 'total_samples': 76558},\n",
       "    {'european': 22982, 'total_samples': 22982},\n",
       "    {'european': 22982, 'total_samples': 22982}],\n",
       "   'replication_sample_description': ['up to 76558 EA individuals',\n",
       "    'Up to 22982 EA individuals',\n",
       "    'Up to 22982 EA individuals'],\n",
       "   'srsid': 2977670},\n",
       "  'hg19': {'end': 723891, 'start': 723891},\n",
       "  'query': 'chr1:g.723891G>C',\n",
       "  'snpeff': {'ann': {'effect': 'intergenic_region',\n",
       "    'feature_id': 'LOC100288069-FAM87B',\n",
       "    'feature_type': 'intergenic_region',\n",
       "    'gene_id': 'LOC100288069-FAM87B',\n",
       "    'genename': 'LOC100288069-FAM87B',\n",
       "    'putative_impact': 'MODIFIER'}},\n",
       "  'vcf': {'alt': 'C', 'position': '723891', 'ref': 'G'},\n",
       "  'wellderly': {'alleles': [{'allele': 'C', 'freq': 0.9525},\n",
       "    {'allele': 'G', 'freq': 0.0475}],\n",
       "   'alt': 'C',\n",
       "   'chrom': '1',\n",
       "   'gene': 'BC006361',\n",
       "   'genotypes': [{'count': 182, 'freq': 0.91, 'genotype': 'C/C'},\n",
       "    {'count': 17, 'freq': 0.085, 'genotype': 'G/C'},\n",
       "    {'count': 1, 'freq': 0.0050000000000000044, 'genotype': 'G/G'}],\n",
       "   'hg19': {'end': 723891, 'start': 723891},\n",
       "   'pos': 723891,\n",
       "   'ref': 'G',\n",
       "   'vartype': 'snp'}}]"
      ]
     },
     "execution_count": 44,
     "metadata": {},
     "output_type": "execute_result"
    }
   ],
   "source": [
    "ls[7]"
   ]
  },
  {
   "cell_type": "code",
   "execution_count": 32,
   "metadata": {
    "collapsed": false
   },
   "outputs": [
    {
     "name": "stdout",
     "output_type": "stream",
     "text": [
      "[{'hg19': {'start': 146, 'end': 146}, 'vcf': {'alt': 'C', 'position': '146', 'ref': 'T'}, 'snpeff': {'ann': {'effect': 'intergenic_region', 'putative_impact': 'MODIFIER'}}, 'chrom': 'MT', 'wellderly': {'genotypes': [{'count': 1, 'freq': 0.005, 'genotype': 'T/C'}, {'count': 12, 'freq': 0.06, 'genotype': 'C/C'}, {'count': 187, 'freq': 0.935, 'genotype': 'T/T'}], 'hg19': {'start': 146, 'end': 146}, 'chrom': 'MT', 'vartype': 'snp', 'alt': 'C', 'ref': 'T', 'alleles': [{'allele': 'C', 'freq': 0.0625}, {'allele': 'T', 'freq': 0.9375}], 'pos': 146}, 'query': 'chrMT:g.146T>C', '_id': 'chrMT:g.146T>C', 'dbsnp': {'var_subtype': 'ts', 'alt': 'C', 'allele_origin': 'unspecified', 'alleles': [{'allele': 'T'}, {'allele': 'C'}], 'gene': {'geneid': '4549', 'symbol': 'RNR1'}, 'hg19': {'start': 146, 'end': 146}, 'chrom': 'MT', 'vartype': 'snp', 'class': 'SNV', 'ref': 'T', 'flags': ['ASP', 'R5'], 'dbsnp_build': 138, 'rsid': 'rs370482130', 'validated': False}}]\n"
     ]
    }
   ],
   "source": [
    "resps = grequests.map([res])\n",
    "for r in resps:\n",
    "    print (r.json())"
   ]
  },
  {
   "cell_type": "code",
   "execution_count": 14,
   "metadata": {
    "collapsed": false
   },
   "outputs": [
    {
     "data": {
      "text/plain": [
       "['chrMT:g.146T>C',\n",
       " 'chrMT:g.150T>C',\n",
       " 'chrMT:g.195C>T',\n",
       " 'chrMT:g.410A>T',\n",
       " 'chrMT:g.516_517del']"
      ]
     },
     "execution_count": 14,
     "metadata": {},
     "output_type": "execute_result"
    }
   ],
   "source": [
    "list_hgvs_ids[0:5]"
   ]
  },
  {
   "cell_type": "code",
   "execution_count": 89,
   "metadata": {
    "collapsed": false
   },
   "outputs": [
    {
     "ename": "TypeError",
     "evalue": "_post() missing 2 required positional arguments: 'url' and 'params'",
     "traceback": [
      "\u001b[0;31m---------------------------------------------------------------------------\u001b[0m",
      "\u001b[0;31mTypeError\u001b[0m                                 Traceback (most recent call last)",
      "\u001b[0;32m<ipython-input-89-22fffc9cc285>\u001b[0m in \u001b[0;36m<module>\u001b[0;34m()\u001b[0m\n\u001b[1;32m      1\u001b[0m \u001b[0mmv\u001b[0m\u001b[0;34m.\u001b[0m\u001b[0m_getvariants_inner\u001b[0m\u001b[0;34m(\u001b[0m\u001b[0;34m'chrMT:g.146T>C'\u001b[0m\u001b[0;34m)\u001b[0m\u001b[0;34m\u001b[0m\u001b[0m\n\u001b[0;32m----> 2\u001b[0;31m \u001b[0mmv\u001b[0m\u001b[0;34m.\u001b[0m\u001b[0m_post\u001b[0m\u001b[0;34m(\u001b[0m\u001b[0;34m)\u001b[0m\u001b[0;34m\u001b[0m\u001b[0m\n\u001b[0m",
      "\u001b[0;31mTypeError\u001b[0m: _post() missing 2 required positional arguments: 'url' and 'params'"
     ],
     "output_type": "error"
    }
   ],
   "source": [
    "mv._getvariants_inner('chrMT:g.146T>C')\n",
    "mv._post()"
   ]
  },
  {
   "cell_type": "code",
   "execution_count": 82,
   "metadata": {
    "collapsed": false
   },
   "outputs": [
    {
     "data": {
      "text/plain": [
       "{'chrom': 'MT',\n",
       " 'dbsnp': {'allele_origin': 'unspecified',\n",
       "  'alleles': [{'allele': 'T'}, {'allele': 'C'}],\n",
       "  'alt': 'C',\n",
       "  'chrom': 'MT',\n",
       "  'class': 'SNV',\n",
       "  'dbsnp_build': 138,\n",
       "  'flags': ['ASP', 'R5'],\n",
       "  'gene': {'geneid': '4549', 'symbol': 'RNR1'},\n",
       "  'hg19': {'end': 146, 'start': 146},\n",
       "  'ref': 'T',\n",
       "  'rsid': 'rs370482130',\n",
       "  'validated': False,\n",
       "  'var_subtype': 'ts',\n",
       "  'vartype': 'snp'},\n",
       " 'hg19': {'end': 146, 'start': 146},\n",
       " 'hgvs_id': 'chrMT:g.146T>C',\n",
       " 'snpeff': {'ann': {'effect': 'intergenic_region',\n",
       "   'putative_impact': 'MODIFIER'}},\n",
       " 'vcf': {'alt': 'C', 'position': '146', 'ref': 'T'},\n",
       " 'wellderly': {'alleles': [{'allele': 'C', 'freq': 0.0625},\n",
       "   {'allele': 'T', 'freq': 0.9375}],\n",
       "  'alt': 'C',\n",
       "  'chrom': 'MT',\n",
       "  'genotypes': [{'count': 1, 'freq': 0.005, 'genotype': 'T/C'},\n",
       "   {'count': 12, 'freq': 0.06, 'genotype': 'C/C'},\n",
       "   {'count': 187, 'freq': 0.935, 'genotype': 'T/T'}],\n",
       "  'hg19': {'end': 146, 'start': 146},\n",
       "  'pos': 146,\n",
       "  'ref': 'T',\n",
       "  'vartype': 'snp'}}"
      ]
     },
     "execution_count": 82,
     "metadata": {},
     "output_type": "execute_result"
    }
   ],
   "source": [
    "myvariants_variants[0]"
   ]
  },
  {
   "cell_type": "code",
   "execution_count": 56,
   "metadata": {
    "collapsed": false
   },
   "outputs": [
    {
     "name": "stdout",
     "output_type": "stream",
     "text": [
      "querying 1-902...done.\n",
      "querying 1-909...done.\n",
      "querying 1-902...done.\n",
      "querying 1-905...done.\n",
      "querying 1-903...done.\n",
      "querying 1-904...done.\n",
      "querying 1-903...done.\n",
      "querying 1-906...done.\n",
      "querying 1-906...done.\n",
      "querying 1-909...done.\n",
      "querying 1-908...done.\n",
      "querying 1-905...done.\n",
      "querying 1-903...done.\n",
      "querying 1-905...done.\n",
      "querying 1-905...done.\n",
      "Parsing Buffer...\n",
      "querying 1-904...done.\n",
      "querying 1-905...done.\n",
      "querying 1-905...done.\n",
      "querying 1-904...done.\n",
      "querying 1-900...done.\n",
      "querying 1-906...done.\n",
      "querying 1-912...done.\n",
      "querying 1-901...done.\n",
      "querying 1-906...done.\n",
      "querying 1-907...done.\n",
      "querying 1-905...done.\n",
      "querying 1-903...done.\n",
      "querying 1-908...done.\n",
      "querying 1-908...done.\n",
      "querying 1-403...done.\n",
      "Parsing Buffer...\n",
      "CPU times: user 1min 6s, sys: 958 ms, total: 1min 7s\n",
      "Wall time: 2min 53s\n"
     ]
    },
    {
     "data": {
      "text/plain": [
       "'Done'"
      ]
     },
     "execution_count": 56,
     "metadata": {},
     "output_type": "execute_result"
    }
   ],
   "source": [
    "%%time \n",
    "pars.push_to_db(buffer=True) #chunksize = 900, buffer_len = 13000"
   ]
  },
  {
   "cell_type": "code",
   "execution_count": 79,
   "metadata": {
    "collapsed": false
   },
   "outputs": [
    {
     "name": "stdout",
     "output_type": "stream",
     "text": [
      "querying 1-952...done.\n",
      "querying 1-960...done.\n",
      "querying 1-952...done.\n",
      "querying 1-957...done.\n",
      "querying 1-950...done.\n",
      "querying 1-954...done.\n",
      "querying 1-955...done.\n",
      "querying 1-957...done.\n",
      "querying 1-956...done.\n",
      "querying 1-961...done.\n",
      "querying 1-957...done.\n",
      "querying 1-953...done.\n",
      "querying 1-955...done.\n",
      "querying 1-956...done.\n",
      "querying 1-952...done.\n",
      "querying 1-957...done.\n",
      "querying 1-955...done.\n",
      "querying 1-954...done.\n",
      "querying 1-950...done.\n",
      "querying 1-956...done.\n",
      "querying 1-962...done.\n",
      "querying 1-953...done.\n",
      "querying 1-956...done.\n",
      "querying 1-956...done.\n",
      "querying 1-955...done.\n",
      "querying 1-953...done.\n",
      "querying 1-962...done.\n",
      "querying 1-856...done.\n",
      "Parsing Buffer...\n",
      "CPU times: user 1min 1s, sys: 952 ms, total: 1min 2s\n",
      "Wall time: 2min 50s\n"
     ]
    },
    {
     "data": {
      "text/plain": [
       "'Done2'"
      ]
     },
     "execution_count": 79,
     "metadata": {},
     "output_type": "execute_result"
    }
   ],
   "source": [
    "%%time \n",
    "pars.push_to_db(buffer=True) #chunksize = 950, buffer_len = 50 000"
   ]
  },
  {
   "cell_type": "code",
   "execution_count": 41,
   "metadata": {
    "collapsed": false,
    "scrolled": true
   },
   "outputs": [
    {
     "name": "stdout",
     "output_type": "stream",
     "text": [
      "querying 1-602...done.\n",
      "602 {'dbsnp': {'gene': {'symbol': 'RNR1', 'geneid': '4549'}, 'allele_origin': 'unspecified', 'var_subtype': 'ts', 'alleles': [{'allele': 'T'}, {'allele': 'C'}], 'flags': ['ASP', 'R5'], 'vartype': 'snp', 'validated': False, 'alt': 'C', 'dbsnp_build': 138, 'rsid': 'rs370482130', 'chrom': 'MT', 'class': 'SNV', 'hg19': {'end': 146, 'start': 146}, 'ref': 'T'}, 'chr': 'chrMT', 'alt': 'C', 'end': 146, 'func_knowngene': 'upstream;downstream', 'start': 146, 'wellderly': {'alt': 'C', 'alleles': [{'freq': 0.0625, 'allele': 'C'}, {'freq': 0.9375, 'allele': 'T'}], 'chrom': 'MT', 'vartype': 'snp', 'hg19': {'end': 146, 'start': 146}, 'pos': 146, 'ref': 'T', 'genotypes': [{'freq': 0.005, 'count': 1, 'genotype': 'T/C'}, {'freq': 0.06, 'count': 12, 'genotype': 'C/C'}, {'freq': 0.935, 'count': 187, 'genotype': 'T/T'}]}, 'snpeff': {'ann': {'effect': 'intergenic_region', 'putative_impact': 'MODIFIER'}}, 'vcf': {'alt': 'C', 'ref': 'T', 'position': '146'}, 'gene_knowngene': 'JB137816;DQ582201', 'ref': 'T', 'genotype': {'filter_passing_reads_count': [2], 'genotype_lieklihoods': [90.0, 6.0, 0.0], 'genotype': '1/1', 'alleles': [0, 2]}, 'chrom': 'MT', 'hg19': {'end': 146, 'start': 146}, 'hgvs_id': 'chrMT:g.146T>C', 'otherinfo': ['GT:AD:DP:GQ:PL', '1/1:0,2:2:6:90,6,0']}\n",
      "602\n",
      "querying 1-604...done.\n",
      "604 {'cytoband': {'Sub_Band': '1', 'Band': 'p', 'Region': '31', 'Chromosome': 1, 'Name': '1p31.1'}, 'dbsnp': {'allele_origin': 'unspecified', 'var_subtype': 'del', 'alleles': [{'allele': 'GAGAA'}, {'allele': 'G'}], 'flags': ['ASP', 'GNO', 'RV', 'SLO'], 'vartype': 'indel', 'validated': False, 'alt': 'G', 'dbsnp_build': 130, 'rsid': 'rs67569791', 'chrom': '1', 'class': 'DIV', 'hg19': {'end': 73309272, 'start': 73309269}, 'ref': 'GAGAA'}, 'chr': 'chr1', 'alt': '-', 'end': 73309272, 'func_knowngene': 'intergenic', 'start': 73309269, 'snpeff': {'ann': {'feature_id': 'NEGR1-LINC01360', 'feature_type': 'intergenic_region', 'effect': 'intergenic_region', 'putative_impact': 'MODIFIER', 'gene_id': 'NEGR1-LINC01360', 'genename': 'NEGR1-LINC01360', 'hgvs_c': 'n.null_nulldelAGAA'}}, 'vcf': {'alt': 'G', 'ref': 'GAGAA', 'position': '73309268'}, 'gene_knowngene': 'NEGR1,BC041341', 'ref': 'AGAA', 'genotype': {'filter_passing_reads_count': [2], 'genotype_lieklihoods': [90.0, 6.0, 0.0], 'genotype': '1/1', 'alleles': [0, 2]}, 'chrom': '1', 'genedetail_knowngene': 'dist=560864;dist=462581', 'hg19': {'end': 73309272, 'start': 73309269}, 'hgvs_id': 'chr1:g.73309269_73309272del', 'otherinfo': ['GT:AD:DP:GQ:PL', '1/1:0,2:2:6:90,6,0']}\n",
      "1206\n",
      "querying 1-605...done.\n",
      "605 {'dbsnp': {'gene': {'symbol': 'SPTA1', 'geneid': '6708'}, 'allele_origin': 'unspecified', 'var_subtype': 'unknown', 'alleles': [{'freq': 0.0001997, 'allele': 'T'}, {'allele': 'A'}, {'freq': 0.9998, 'allele': 'G'}], 'flags': ['ASP', 'GNO', 'INT', 'KGPhase1', 'KGPhase3', 'SLO'], 'vartype': 'snp', 'validated': False, 'gmaf': 0.9998, 'alt': 'G', 'dbsnp_build': 100, 'rsid': 'rs2518492', 'chrom': '1', 'class': 'SNV', 'hg19': {'end': 158607788, 'start': 158607788}, 'ref': 'T'}, 'esp6500siv2_all': '0.9992', '1000g2015aug_all': 0.9998, 'chr': 'chr1', 'alt': 'G', 'start': 158607788, 'end': 158607788, 'func_knowngene': 'intronic', 'exac_nontcga': {'hom': {'hom_amr': [5577, 0], 'hom_nfe': [27171, 0], 'hom_sas': [8204, 0], 'hom_eas': [3922, 0], 'hom_afr': [4216, 0], 'hom_oth': [345, 0], 'hom_fin': [3306, 0]}, 'clippingranksum': -0.43, 'het': {'het_fin': [0, 0, 0], 'het_amr': [1, 0, 1], 'het_eas': [0, 0, 0], 'het_nfe': [1, 0, 0], 'het_sas': [0, 0, 0], 'het_afr': [18, 0, 0], 'het_oth': [0, 0, 0]}, 'ac': {'ac_hom': [52741, 0], 'ac_het': [20, 0, 1], 'ac_amr': [11156, 1], 'ac_nfe': [54343, 0], 'ac': [105561, 1], 'ac_sas': [16408, 0], 'ac_adj': [105503, 1], 'ac_eas': [7844, 0], 'ac_male': [60261, 1], 'ac_afr': [8450, 0], 'ac_female': [45242, 0], 'ac_oth': [690, 0], 'ac_fin': [6612, 0]}, 'alleles': ['G', 'A'], 'vqslod': 3.72, 'an': {'an_amr': 11158, 'an_adj': 105524, 'an_female': 45256, 'an_male': 60268, 'an_afr': 8468, 'an': 105582, 'an_oth': 690, 'an_sas': 16408, 'an_nfe': 54344, 'an_fin': 6612, 'an_eas': 7844}, 'readposranksum': 0.487, 'inbreedingcoeff': -0.0001, 'ref': 'T', 'baseqranksum': 1.19, 'alt': 'G', 'type': 'snp', 'ncc': 1433, 'culprit': 'FS', 'chrom': 1, 'mq': {'mq': 59.67, 'mqranksum': 0.044, 'mq0': 0}, 'fs': 0.0, 'af': [1.0, 9.471e-06], 'pos': 158607788, 'qd': 35.03}, 'ref': 'T', 'snpeff': {'ann': {'total': '51', 'feature_id': 'NM_003126.2', 'transcript_biotype': 'Coding', 'rank': '36', 'feature_type': 'transcript', 'effect': 'intron_variant', 'putative_impact': 'MODIFIER', 'gene_id': 'SPTA1', 'genename': 'SPTA1', 'hgvs_c': 'c.5189+35A>C'}}, 'cadd': {'dna': {'prot': 3.44, 'roll': -0.07, 'helt': -1.94, 'mgw': 0.16}, 'chmm': {'tssaflnk': 0.0, 'txwk': 0.0, 'het': 0.024, 'tssbiv': 0.0, 'znfrpts': 0.0, 'quies': 0.882, 'tx': 0.024, 'txflnk': 0.0, 'bivflnk': 0.0, 'enhbiv': 0.0, 'enh': 0.0, 'tssa': 0.0, 'reprpc': 0.0, 'reprpcwk': 0.071}, 'consdetail': 'intron', 'gene': {'gene_id': 'ENSG00000163554', 'ccds_id': 'CCDS41423.1', 'genename': 'SPTA1', 'feature_id': 'ENST00000368147'}, 'gc': 0.38, 'phast_cons': {'vertebrate': 0.0, 'mammalian': 0.0, 'primate': 0.001}, 'annotype': 'Transcript', 'fitcons': 0.074678, 'consequence': 'INTRONIC', 'gerp': {'n': 2.83, 's': -0.171}, 'mapability': {'35bp': 1, '20bp': 1}, 'alt': 'G', 'phred': 2.542, 'encode': {'h3k27ac': 7.44, 'h3k4me1': 4.0, 'nucleo': 2.2, 'exp': 11.18, 'h3k4me3': 3.4}, 'isknownvariant': 'TRUE', 'min_dist_tse': 27292, 'phylop': {'vertebrate': 0.097, 'mammalian': -0.032, 'primate': -0.455}, 'pos': 158607788, 'mutindex': -23, 'min_dist_tss': 48701, 'bstatistic': 543, 'intron': '36/51', '_license': 'http://goo.gl/bkpNhq', 'cpg': 0.01, 'rawscore': -0.004566, '1000g': {'eur': 1.0, 'amr': 1.0, 'af': 1.0, 'afr': 1.0, 'asn': 1.0}, 'ref': 'T', 'anc': 'G', 'consscore': 2, 'istv': 'TRUE', 'chrom': 1, 'length': 0, 'isderived': 'FALSE', 'esp': {'eur': 1.0, 'af': 0.999, 'afr': 0.998}, 'type': 'SNV', 'segway': 'GE0'}, 'vcf': {'alt': 'G', 'ref': 'T', 'position': '158607788'}, 'gene_knowngene': 'SPTA1', 'wellderly': {'adviser_score': '5~SPTA1~Common, Predicted Neutral', 'alt': 'G', 'alleles': [{'freq': 0.0, 'allele': 'T'}, {'freq': 1.0, 'allele': 'G'}], 'gene': 'SPTA1', 'chrom': '1', 'vartype': 'snp', 'hg19': {'end': 158607788, 'start': 158607788}, 'pos': 158607788, 'ref': 'T', 'genotypes': [{'freq': 1.0, 'count': 200, 'genotype': 'G/G'}, {'freq': 0.0, 'count': 0, 'genotype': 'T/T'}]}, 'exac': {'vqslod': 3.72, 'readposranksum': 0.487, 'alleles': ['G', 'A'], 'an': {'an_amr': 11520, 'an_adj': 120702, 'an_female': 53484, 'an_male': 67218, 'an_afr': 9802, 'an': 120766, 'an_oth': 898, 'an_sas': 16512, 'an_nfe': 66734, 'an_fin': 6612, 'an_eas': 8624}, 'inbreedingcoeff': -0.0001, 'dp': 7854298, 'ncc': 1433, 'qd': 35.03, 'mq': {'mq': 59.67, 'mqranksum': 0.044, 'mq0': 0}, 'af': [1.0, 8.28e-06], 'ref': 'T', 'qual': 421864908.99, 'hom': {'ac_hom': 60328, 'hom_amr': [5758, 0], 'hom_nfe': [33366, 0], 'hom_sas': [8256, 0], 'hom_eas': [4312, 0], 'hom_afr': [4881, 0], 'hom_oth': [449, 0], 'hom_fin': [3306, 0]}, 'clippingranksum': -0.43, 'het': {'ac_het': [22, 0, 1], 'het_fin': [0, 0, 0], 'het_amr': [1, 0, 1], 'het_eas': [0, 0, 0], 'het_nfe': [1, 0, 0], 'het_sas': [0, 0, 0], 'het_afr': [20, 0, 0], 'het_oth': [0, 0, 0]}, 'ac': {'ac_hom': [60328, 0], 'ac_het': [22, 0, 1], 'ac_amr': [11518, 1], 'ac_nfe': [66733, 0], 'ac': [120743, 1], 'ac_sas': [16512, 0], 'ac_adj': [120679, 1], 'ac_eas': [8624, 0], 'ac_male': [67210, 1], 'ac_afr': [9782, 0], 'ac_female': [53469, 0], 'ac_oth': [898, 0], 'ac_fin': [6612, 0]}, 'alt': 'G', 'fs': 0.0, 'pos': 158607788, 'baseqranksum': 1.19, 'type': 'snp', 'culprit': 'FS', 'chrom': 1}, 'evs': {'gene': {'accession': 'NM_003126.2', 'symbol': 'SPTA1'}, 'ref_base_ncbi': 'T', 'hgvs': {'coding': 'c.5189+35A>C'}, 'rsid': 'rs2518492', 'ma_fin_percent': {'all': 0.0835, 'african_american': 0.2399, 'european_american': 0.0122}, 'genotype_count': {'all_genotype': {'GT': 10, 'TT': 0, 'GG': 5976}, 'european_american': {'GT': 1, 'TT': 0, 'GG': 4109}, 'african_american': {'GT': 9, 'TT': 0, 'GG': 1867}}, 'coding_dna_size': 7260, 'chimp_allele': 'G', 'conservation': {'phast_cons': 0.0, 'gerp': -0.2}, 'polyphen2': {'class': 'u', 'score': 'n'}, 'hg38': {'end': 158637998, 'start': 158637998}, 'dbsnp_version': 100, 'alt': 'G', 'on_illumina_human_exome_chip': 'no', 'avg_sample_read': 108, 'filter_status': 'PASS', 'chrom': 1, 'function_gvs': 'intron', 'allele_count': {'all': {'G': 11962, 'T': 10}, 'african_american': {'G': 3743, 'T': 9}, 'european_american': {'G': 8219, 'T': 1}}, 'hg19': {'end': 158607788, 'start': 158607788}, 'ref': 'T'}, 'genotype': {'filter_passing_reads_count': [408], 'genotype_lieklihoods': [17444.0, 1227.0, 0.0], 'genotype': '1/1', 'alleles': [0, 408]}, 'chrom': '1', 'otherinfo': ['GT:AD:DP:GQ:PL', '1/1:0,408:408:99:17444,1227,0'], 'hg19': {'end': 158607788, 'start': 158607788}, 'hgvs_id': 'chr1:g.158607788T>G', 'cytoband': {'Sub_Band': '1', 'Band': 'q', 'Region': '23', 'Chromosome': 1, 'Name': '1q23.1'}}\n",
      "1811\n",
      "querying 1-602...done.\n",
      "602 {'cytoband': {'Band': 'q', 'Region': '44', 'Chromosome': 1, 'Name': '1q44'}, 'func_knowngene': 'intronic', 'dbsnp': {'gene': {'symbol': 'SMYD3', 'geneid': '64754'}, 'allele_origin': 'unspecified', 'var_subtype': 'ts', 'alleles': [{'freq': 0.5927, 'allele': 'C'}, {'freq': 0.4073, 'allele': 'T'}], 'flags': ['ASP', 'G5', 'G5A', 'GNO', 'INT', 'KGPhase1', 'KGPhase3', 'SLO'], 'vartype': 'snp', 'validated': True, 'gmaf': 0.4073, 'alt': 'T', 'dbsnp_build': 116, 'rsid': 'rs6681459', 'chrom': '1', 'class': 'SNV', 'hg19': {'end': 246545406, 'start': 246545406}, 'ref': 'C'}, 'cadd': {'dna': {'prot': -2.97, 'roll': 1.2, 'helt': 1.29, 'mgw': 0.62}, 'chmm': {'tssaflnk': 0.0, 'txwk': 0.039, 'het': 0.024, 'tssbiv': 0.0, 'znfrpts': 0.0, 'quies': 0.929, 'tx': 0.0, 'txflnk': 0.0, 'bivflnk': 0.0, 'enhbiv': 0.0, 'enh': 0.0, 'tssa': 0.0, 'reprpc': 0.0, 'reprpcwk': 0.0}, 'consdetail': 'intron', 'gene': {'gene_id': 'ENSG00000185420', 'ccds_id': 'CCDS53486.1', 'genename': 'SMYD3', 'feature_id': 'ENST00000388985'}, 'gc': 0.66, 'phast_cons': {'vertebrate': 0.053, 'mammalian': 0.049, 'primate': 0.05}, 'annotype': 'Transcript', 'fitcons': 0.053666, 'consequence': 'INTRONIC', 'gerp': {'n': 0.113, 's': 0.113}, 'mapability': {'35bp': 0.333333, '20bp': 0}, 'alt': 'T', 'phred': 2.87, 'encode': {'nucleo': 2.0, 'h3k4me1': 4.76, 'h3k27ac': 4.28, 'h3k4me3': 2.96}, 'isknownvariant': 'TRUE', 'min_dist_tse': 54771, 'phylop': {'vertebrate': 0.182, 'mammalian': 0.175, 'primate': 0.178}, 'pos': 246545406, 'mutindex': -34, 'min_dist_tss': 35309, 'bstatistic': 913, 'intron': '1/11', '_license': 'http://goo.gl/bkpNhq', 'cpg': 0.04, 'rawscore': 0.029053, '1000g': {'eur': 0.54, 'amr': 0.48, 'af': 0.41, 'afr': 0.41, 'asn': 0.18}, 'ref': 'C', 'anc': 'C', 'consscore': 2, 'istv': 'FALSE', 'chrom': 1, 'length': 0, 'isderived': 'TRUE', 'type': 'SNV', 'segway': 'TF1'}, 'vcf': {'alt': 'T', 'ref': 'C', 'position': '246545406'}, 'chr': 'chr1', 'end': 246545406, 'gene_knowngene': 'SMYD3', 'ref': 'C', 'alt': 'T', 'snpeff': {'ann': [{'total': '11', 'feature_id': 'NM_001167740.1', 'transcript_biotype': 'Coding', 'rank': '1', 'feature_type': 'transcript', 'effect': 'intron_variant', 'putative_impact': 'MODIFIER', 'gene_id': 'SMYD3', 'genename': 'SMYD3', 'hgvs_c': 'c.165-27010G>A'}, {'total': '11', 'feature_id': 'NM_022743.2', 'transcript_biotype': 'Coding', 'rank': '1', 'feature_type': 'transcript', 'effect': 'intron_variant', 'putative_impact': 'MODIFIER', 'gene_id': 'SMYD3', 'genename': 'SMYD3', 'hgvs_c': 'c.-13-27010G>A'}]}, 'genotype': {'filter_passing_reads_count': [2], 'genotype_lieklihoods': [86.0, 6.0, 0.0], 'genotype': '1/1', 'alleles': [0, 2]}, '1000g2015aug_all': 0.407348, 'chrom': '1', 'otherinfo': ['GT:AD:DP:GQ:PL', '1/1:0,2:2:6:86,6,0'], 'hg19': {'end': 246545406, 'start': 246545406}, 'start': 246545406, 'hgvs_id': 'chr1:g.246545406C>T', 'wellderly': {'alt': 'T', 'alleles': [{'freq': 0.49, 'allele': 'C'}, {'freq': 0.51, 'allele': 'T'}], 'gene': 'SMYD3', 'chrom': '1', 'vartype': 'snp', 'hg19': {'end': 246545406, 'start': 246545406}, 'pos': 246545406, 'ref': 'C', 'genotypes': [{'freq': 0.49, 'count': 98, 'genotype': 'C/T'}, {'freq': 0.265, 'count': 53, 'genotype': 'T/T'}, {'freq': 0.245, 'count': 49, 'genotype': 'C/C'}]}}\n",
      "2413\n",
      "querying 1-601...done.\n",
      "601 {'dbsnp': {'allele_origin': 'unspecified', 'var_subtype': 'ts', 'alleles': [{'allele': 'G'}, {'allele': 'A'}], 'flags': ['ASP', 'GNO', 'RV', 'SLO'], 'vartype': 'snp', 'validated': True, 'alt': 'A', 'dbsnp_build': 92, 'rsid': 'rs1834806', 'chrom': '2', 'class': 'SNV', 'hg19': {'end': 91775292, 'start': 91775292}, 'ref': 'G'}, 'chr': 'chr2', 'genomicsuperdups': {'Score': 0.948434, 'Name': 'chr4:4183521'}, 'alt': 'A', 'end': 91775292, 'func_knowngene': 'intergenic', 'ref': 'G', 'snpeff': {'ann': {'feature_id': 'MIR4436A-LOC654342', 'feature_type': 'intergenic_region', 'effect': 'intergenic_region', 'putative_impact': 'MODIFIER', 'gene_id': 'MIR4436A-LOC654342', 'genename': 'MIR4436A-LOC654342'}}, 'vcf': {'alt': 'A', 'ref': 'G', 'position': '91775292'}, 'gene_knowngene': 'DQ571479,LOC654342', 'start': 91775292, 'otherinfo': ['GT:AD:DP:GQ:PL', '1/1:0,3:3:9:121,9,0'], 'genotype': {'filter_passing_reads_count': [3], 'genotype_lieklihoods': [121.0, 9.0, 0.0], 'genotype': '1/1', 'alleles': [0, 3]}, 'chrom': '2', 'genedetail_knowngene': 'dist=51700;dist=29896', 'hg19': {'end': 91775292, 'start': 91775292}, 'hgvs_id': 'chr2:g.91775292G>A', 'cytoband': {'Sub_Band': '1', 'Band': 'p', 'Region': '11', 'Chromosome': 2, 'Name': '2p11.1'}}\n",
      "3014\n",
      "querying 1-604...done.\n",
      "604 {'cytoband': {'Sub_Band': '1', 'Band': 'q', 'Region': '22', 'Chromosome': 2, 'Name': '2q22.1'}, 'func_knowngene': 'intronic', 'dbsnp': {'gene': {'symbol': 'LRP1B', 'geneid': '53353'}, 'allele_origin': 'unspecified', 'var_subtype': 'ts', 'alleles': [{'freq': 0.11, 'allele': 'A'}, {'freq': 0.89, 'allele': 'G'}], 'flags': ['ASP', 'G5', 'GNO', 'HD', 'INT', 'KGPhase1', 'KGPhase3', 'MTP', 'PM', 'PMC', 'RV', 'SLO'], 'vartype': 'snp', 'validated': True, 'gmaf': 0.89, 'alt': 'G', 'dbsnp_build': 96, 'rsid': 'rs2129483', 'chrom': '2', 'class': 'SNV', 'hg19': {'end': 141004529, 'start': 141004529}, 'ref': 'A'}, 'cadd': {'dna': {'prot': 3.04, 'roll': 1.56, 'helt': -0.7, 'mgw': 0.47}, 'chmm': {'tssaflnk': 0.016, 'txwk': 0.0, 'het': 0.008, 'tssbiv': 0.0, 'znfrpts': 0.0, 'quies': 0.953, 'tx': 0.0, 'txflnk': 0.0, 'bivflnk': 0.0, 'enhbiv': 0.0, 'enh': 0.0, 'tssa': 0.016, 'reprpc': 0.0, 'reprpcwk': 0.008}, 'consdetail': 'intron', 'gene': {'gene_id': 'ENSG00000168702', 'ccds_id': 'CCDS2182.1', 'genename': 'LRP1B', 'feature_id': 'ENST00000389484'}, 'gc': 0.35, 'phast_cons': {'vertebrate': 0.0, 'mammalian': 0.0, 'primate': 0.0}, 'annotype': 'Transcript', 'fitcons': 0.061782, 'consequence': 'INTRONIC', 'gerp': {'n': 5.42, 's': -3.22}, 'mapability': {'35bp': 1, '20bp': 1}, 'alt': 'G', 'phred': 0.725, 'encode': {'nucleo': 2.1, 'h3k4me1': 3.48, 'h3k27ac': 3.0, 'h3k4me3': 3.28}, 'isknownvariant': 'TRUE', 'min_dist_tse': 8778, 'phylop': {'vertebrate': -1.057, 'mammalian': -1.602, 'primate': -2.173}, 'pos': 141004529, 'mutindex': -32, 'min_dist_tss': 51010, 'bstatistic': 564, 'intron': '87/90', '_license': 'http://goo.gl/bkpNhq', 'cpg': 0.0, 'rawscore': -0.283156, '1000g': {'eur': 0.95, 'amr': 0.98, 'af': 0.91, 'afr': 0.73, 'asn': 0.97}, 'ref': 'A', 'anc': 'G', 'consscore': 2, 'istv': 'FALSE', 'chrom': 2, 'length': 0, 'isderived': 'FALSE', 'type': 'SNV', 'segway': 'F0'}, 'ref': 'A', 'vcf': {'alt': 'G', 'ref': 'A', 'position': '141004529'}, 'chr': 'chr2', 'end': 141004529, 'gene_knowngene': 'LRP1B', 'start': 141004529, 'alt': 'G', 'snpeff': {'ann': {'total': '90', 'feature_id': 'NM_018557.2', 'transcript_biotype': 'Coding', 'rank': '87', 'feature_type': 'transcript', 'effect': 'intron_variant', 'putative_impact': 'MODIFIER', 'gene_id': 'LRP1B', 'genename': 'LRP1B', 'hgvs_c': 'c.13324+126T>C'}}, 'genotype': {'filter_passing_reads_count': [175], 'genotype_lieklihoods': [7617.0, 526.0, 0.0], 'genotype': '1/1', 'alleles': [0, 175]}, '1000g2015aug_all': 0.889976, 'chrom': '2', 'otherinfo': ['GT:AD:DP:GQ:PL', '1/1:0,175:175:99:7617,526,0'], 'hg19': {'end': 141004529, 'start': 141004529}, 'grasp': {'in_gene': '(LRP1B)', 'initial_sample_description': '3928 EA individuals', 'hg19': {'chr': 2, 'pos': 141004529}, 'exclusively_male_female': 'n', 'creation_date': '8/17/12', 'publication': {'journal': 'PLoS One', 'phenotype': 'HDL cholesterol', 'pmid': 20339536, 'location_within_paper': 'FullScan', 'p_value': 0.024485574, 'paper_phenotype_description': ['Response to statin treatment (simvastatin', ' pravastatin', ' atorvastatin)', ' change in cholesterol levels'], 'title': 'Genome-wide association of lipid-lowering response to statins in combined study populations.', 'snpid': 'rs2129483', 'date_pub': '3/22/2010', 'paper_phenotype_categories': 'Drug response;Quantitative trait(s);CVD risk factor (CVD RF);Lipids'}, 'includes_male_female_only_analyses': 'n', 'discovery': {'european': 3928, 'total_samples': 3928}, 'srsid': 2129483, 'gwas_ancestry_description': 'European', 'platform_snps_passing_qc': 'Illumina [~2.5 million] (imputed)', 'hupfield': 'Jan2014', 'last_curation_date': '8/17/12', 'replication_sample_description': 'NR'}, 'hgvs_id': 'chr2:g.141004529A>G', 'wellderly': {'alt': 'G', 'alleles': [{'freq': 0.0525, 'allele': 'A'}, {'freq': 0.9475, 'allele': 'G'}], 'gene': 'LRP1B', 'chrom': '2', 'vartype': 'snp', 'hg19': {'end': 141004529, 'start': 141004529}, 'pos': 141004529, 'ref': 'A', 'genotypes': [{'freq': 0.105, 'count': 21, 'genotype': 'A/G'}, {'freq': 0.895, 'count': 179, 'genotype': 'G/G'}, {'freq': 0.0, 'count': 0, 'genotype': 'A/A'}]}}\n",
      "3618\n",
      "querying 1-603...done.\n",
      "603 {'cytoband': {'Band': 'q', 'Region': '34', 'Chromosome': 2, 'Name': '2q34'}, 'func_knowngene': 'intronic', 'dbsnp': {'gene': {'symbol': 'SPAG16', 'geneid': '79582'}, 'allele_origin': 'unspecified', 'var_subtype': 'ts', 'alleles': [{'allele': 'G'}, {'allele': 'A'}], 'flags': ['ASP', 'G5', 'G5A', 'GNO', 'HD', 'INT', 'KGPhase1', 'KGPhase3', 'SLO'], 'vartype': 'snp', 'validated': True, 'alt': 'A', 'dbsnp_build': 119, 'rsid': 'rs10490503', 'chrom': '2', 'class': 'SNV', 'hg19': {'end': 215145765, 'start': 215145765}, 'ref': 'G'}, 'cadd': {'dna': {'prot': 1.84, 'roll': -1.26, 'helt': -2.62, 'mgw': 0.05}, 'chmm': {'tssaflnk': 0.0, 'txwk': 0.0, 'het': 0.024, 'tssbiv': 0.0, 'znfrpts': 0.0, 'quies': 0.976, 'tx': 0.0, 'txflnk': 0.0, 'bivflnk': 0.0, 'enhbiv': 0.0, 'enh': 0.0, 'tssa': 0.0, 'reprpc': 0.0, 'reprpcwk': 0.0}, 'consdetail': ['non_coding_exon,nc', 'intron', 'intron,nc'], 'gene': [{'gene_id': 'ENSG00000213917', 'genename': 'RPL5P8', 'cds': {'cdna_pos': 412, 'rel_cdna_pos': 0.51}, 'feature_id': 'ENST00000396820'}, {'gene_id': 'ENSG00000144451', 'ccds_id': 'CCDS2396.1', 'genename': 'SPAG16', 'feature_id': 'ENST00000331683'}, {'gene_id': 'ENSG00000197585', 'genename': 'AC107218.3', 'feature_id': 'ENST00000412896'}], 'gc': 0.48, 'phast_cons': {'vertebrate': 1.0, 'mammalian': 0.049, 'primate': 0.004}, 'annotype': ['NonCodingTranscript', 'Transcript', 'Transcript'], 'fitcons': 0.061782, 'consequence': ['NONCODING_CHANGE', 'INTRONIC', 'INTRONIC'], 'gerp': {'n': 0.436, 's': 0.436}, 'mapability': {'35bp': 1, '20bp': 1}, 'alt': 'A', 'phred': 3.187, 'encode': {'nucleo': 1.8, 'h3k4me1': 2.0, 'h3k27ac': 2.64, 'h3k4me3': 2.0}, 'isknownvariant': 'TRUE', 'min_dist_tse': 403, 'phylop': {'vertebrate': 2.33, 'mammalian': 0.39, 'primate': 0.166}, 'pos': 215145765, 'consscore': [5, 2, 2], 'mutindex': -8, 'exon': '1/1', 'bstatistic': 882, '_license': 'http://goo.gl/bkpNhq', 'cpg': 0.04, 'rawscore': 0.060077, '1000g': {'eur': 0.3, 'amr': 0.4, 'af': 0.39, 'afr': 0.37, 'asn': 0.52}, 'ref': 'G', 'anc': 'A', 'isderived': 'FALSE', 'istv': 'FALSE', 'chrom': 2, 'length': 0, 'min_dist_tss': 412, 'type': 'SNV', 'segway': 'L0'}, 'ref': 'G', 'vcf': {'alt': 'A', 'ref': 'G', 'position': '215145765'}, 'chr': 'chr2', 'end': 215145765, 'gene_knowngene': 'SPAG16', 'start': 215145765, 'alt': 'A', 'snpeff': {'ann': [{'total': '15', 'feature_id': 'NM_024532.4', 'transcript_biotype': 'Coding', 'rank': '15', 'feature_type': 'transcript', 'effect': 'intron_variant', 'putative_impact': 'MODIFIER', 'gene_id': 'SPAG16', 'genename': 'SPAG16', 'hgvs_c': 'c.1721-129099G>A'}, {'total': '17', 'feature_id': 'NR_047659.1', 'transcript_biotype': 'Noncoding', 'rank': '17', 'feature_type': 'transcript', 'effect': 'intron_variant', 'putative_impact': 'MODIFIER', 'gene_id': 'SPAG16', 'genename': 'SPAG16', 'hgvs_c': 'n.2001-129099G>A'}, {'total': '14', 'feature_id': 'NR_047660.1', 'transcript_biotype': 'Noncoding', 'rank': '14', 'feature_type': 'transcript', 'effect': 'intron_variant', 'putative_impact': 'MODIFIER', 'gene_id': 'SPAG16', 'genename': 'SPAG16', 'hgvs_c': 'n.1707-129099G>A'}]}, 'genotype': {'filter_passing_reads_count': [39], 'genotype_lieklihoods': [791.0, 0.0, 629.0], 'genotype': '0/1', 'alleles': [18, 21]}, '1000g2015aug_all': 0.374201, 'chrom': '2', 'otherinfo': ['GT:AD:DP:GQ:PL', '0/1:18,21:39:99:791,0,629'], 'hg19': {'end': 215145765, 'start': 215145765}, 'grasp': {'in_gene': '(SPAG16)', 'initial_sample_description': ['31580 EA individuals', '2820 individuals from European cohorts'], 'hg19': {'chr': 2, 'pos': 215145765}, 'exclusively_male_female': 'n', 'creation_date': '8/17/12', 'publication': [{'journal': 'J Am Soc Nephrol', 'phenotype': 'Urinary albumin-to-creatinine ratio', 'pmid': 21355061, 'location_within_paper': 'Full Scan', 'p_value': 0.016, 'paper_phenotype_description': ['Albuminuria', ' in urine'], 'title': 'CUBN is a gene locus for albuminuria.', 'snpid': 'rs10490503', 'date_pub': '2/25/2011', 'paper_phenotype_categories': 'Quantitative trait(s);Renal;Urinary'}, {'journal': 'Nature', 'phenotype': 'Serum ratio of (catechol sulfate)/(hydroquinone sulfate)', 'pmid': 21886157, 'location_within_paper': 'TableS2a', 'p_value': 0.00046, 'paper_phenotype_description': ['Metabolites', ' in serum'], 'title': 'Human metabolic individuality in biomedical and pharmaceutical research.', 'snpid': 'rs10490503', 'date_pub': '8/31/2011', 'paper_phenotype_categories': 'Quantitative trait(s);Blood-related;Serum'}], 'replication': {'european': 31277, 'total_samples': 31277}, 'includes_male_female_only_analyses': 'n', 'discovery': [{'european': 31580, 'total_samples': 31580}, {'european': 2820, 'total_samples': 2820}], 'srsid': 10490503, 'gwas_ancestry_description': 'European', 'platform_snps_passing_qc': ['Affymetrix & Illumina [~2.5 million] (imputed)', 'Affymetrix & Illumina [655658]'], 'hupfield': 'Jan2014', 'last_curation_date': '8/17/12', 'replication_sample_description': ['31277 EA individuals', 'Cross-sample validation']}, 'hgvs_id': 'chr2:g.215145765G>A', 'wellderly': {'adviser_score': '5~SPAG16~Common, Predicted Neutral', 'alt': 'A', 'alleles': [{'freq': 0.3225, 'allele': 'A'}, {'freq': 0.6775, 'allele': 'G'}], 'gene': ['SPAG16', 'PF20'], 'chrom': '2', 'vartype': 'snp', 'hg19': {'end': 215145765, 'start': 215145765}, 'pos': 215145765, 'ref': 'G', 'genotypes': [{'freq': 0.445, 'count': 89, 'genotype': 'G/A'}, {'freq': 0.1, 'count': 20, 'genotype': 'A/A'}, {'freq': 0.45499999999999996, 'count': 91, 'genotype': 'G/G'}]}}\n",
      "4221\n",
      "querying 1-601...done.\n",
      "601 {'otherinfo': ['GT:AD:DP:GQ:PL', '0/1:9,10:19:99:362,0,346'], 'cytoband': {'Sub_Band': '2', 'Band': 'p', 'Region': '25', 'Chromosome': 3, 'Name': '3p25.2'}, 'genedetail_knowngene': 'dist=37735;dist=26096', 'dbsnp': {'gene': {'symbol': 'LOC101929530', 'geneid': '101929530'}, 'allele_origin': 'unspecified', 'var_subtype': 'ts', 'alleles': [{'freq': 0.7684, 'allele': 'G'}, {'freq': 0.2316, 'allele': 'A'}], 'flags': ['ASP', 'G5', 'G5A', 'GNO', 'INT', 'KGPhase1', 'KGPhase3', 'SLO'], 'vartype': 'snp', 'validated': True, 'gmaf': 0.2316, 'alt': 'A', 'dbsnp_build': 132, 'rsid': 'rs113384558', 'chrom': '3', 'class': 'SNV', 'hg19': {'end': 11926087, 'start': 11926087}, 'ref': 'G'}, 'cadd': {'dna': {'prot': 1.85, 'roll': -1.31, 'helt': -2.18, 'mgw': -0.16}, 'chmm': {'tssaflnk': 0.0, 'txwk': 0.0, 'het': 0.0, 'tssbiv': 0.0, 'znfrpts': 0.0, 'quies': 0.685, 'tx': 0.0, 'txflnk': 0.0, 'bivflnk': 0.0, 'enhbiv': 0.0, 'enh': 0.0, 'tssa': 0.0, 'reprpc': 0.008, 'reprpcwk': 0.307}, 'consdetail': 'intron,nc', 'gene': {'gene_id': 'ENSG00000230342', 'genename': 'FANCD2P2', 'feature_id': 'ENST00000437591'}, 'gc': 0.51, 'phast_cons': {'vertebrate': 0.021, 'mammalian': 0.02, 'primate': 0.224}, 'annotype': 'Transcript', 'fitcons': 0.061782, 'consequence': 'INTRONIC', 'gerp': {'n': 0.405, 's': -0.81}, 'mapability': {'35bp': 1, '20bp': 0}, 'alt': 'A', 'phred': 5.784, 'encode': {'nucleo': 2.2, 'h3k4me1': 1.0, 'h3k27ac': 2.0, 'h3k4me3': 2.0}, 'isknownvariant': 'TRUE', 'min_dist_tse': 6560, 'phylop': {'vertebrate': -0.651, 'mammalian': -0.681, 'primate': 0.215}, 'pos': 11926087, 'mutindex': -37, 'bstatistic': 952, 'intron': '10/13', '_license': 'http://goo.gl/bkpNhq', 'cpg': 0.03, 'rawscore': 0.309356, '1000g': {'eur': 0.27, 'amr': 0.21, 'af': 0.26, 'afr': 0.29, 'asn': 0.24}, 'ref': 'G', 'consscore': 2, 'istv': 'FALSE', 'scoresegdup': 0.91, 'chrom': 3, 'length': 0, 'min_dist_tss': 24939, 'type': 'SNV', 'segway': 'R0'}, 'vcf': {'alt': 'A', 'ref': 'G', 'position': '11926087'}, 'chr': 'chr3', 'end': 11926087, 'gene_knowngene': 'TAMM41,DQ583118', 'start': 11926087, 'genomicsuperdups': {'Score': 0.913742, 'Name': 'chr3:10099091'}, 'alt': 'A', 'snpeff': {'ann': {'feature_id': 'TAMM41-SYN2', 'feature_type': 'intergenic_region', 'effect': 'intergenic_region', 'putative_impact': 'MODIFIER', 'gene_id': 'TAMM41-SYN2', 'genename': 'TAMM41-SYN2'}}, 'genotype': {'filter_passing_reads_count': [19], 'genotype_lieklihoods': [362.0, 0.0, 346.0], 'genotype': '0/1', 'alleles': [9, 10]}, '1000g2015aug_all': 0.231629, 'chrom': '3', 'func_knowngene': 'intergenic', 'hg19': {'end': 11926087, 'start': 11926087}, 'ref': 'G', 'hgvs_id': 'chr3:g.11926087G>A', 'wellderly': {'alt': 'A', 'alleles': [{'freq': 0.24, 'allele': 'A'}, {'freq': 0.76, 'allele': 'G'}], 'gene': 'DQ587806', 'chrom': '3', 'vartype': 'snp', 'hg19': {'end': 11926087, 'start': 11926087}, 'pos': 11926087, 'ref': 'G', 'genotypes': [{'freq': 0.41, 'count': 82, 'genotype': 'G/A'}, {'freq': 0.035, 'count': 7, 'genotype': 'A/A'}, {'freq': 0.555, 'count': 111, 'genotype': 'G/G'}]}}\n",
      "4822\n",
      "querying 1-603...done.\n",
      "603 {'func_knowngene': 'intronic', 'chr': 'chr3', 'gene_knowngene': 'ITGB5', 'ref': 'A', 'alt': '-', 'genotype': {'filter_passing_reads_count': [321], 'genotype_lieklihoods': [403.0, 0.0, 5402.0], 'genotype': '0/1', 'alleles': [255, 66]}, 'end': 124505252, 'notfound': True, 'cytoband': {'Sub_Band': '2', 'Band': 'q', 'Region': '21', 'Chromosome': 3, 'Name': '3q21.2'}, 'start': 124505252, 'hgvs_id': 'chr3:g.124505252_124505252del', 'otherinfo': ['GT:AD:DP:GQ:PL', '0/1:255,66:321:99:403,0,5402']}\n",
      "5425\n",
      "Parsing Buffer...\n",
      "querying 1-601...done.\n",
      "601 {'dbsnp': {'gene': {'symbol': 'SDHAP2', 'geneid': '727956'}, 'allele_origin': 'unspecified', 'var_subtype': 'ts', 'alleles': [{'freq': 0.5579, 'allele': 'C'}, {'freq': 0.4421, 'allele': 'T'}], 'flags': ['ASP', 'G5', 'G5A', 'GNO', 'INT', 'KGPhase3', 'SLO'], 'vartype': 'snp', 'validated': True, 'gmaf': 0.4421, 'alt': 'T', 'dbsnp_build': 119, 'rsid': 'rs9325402', 'chrom': '3', 'class': 'SNV', 'hg19': {'end': 195400498, 'start': 195400498}, 'ref': 'C'}, '1000g2015aug_all': 0.442093, 'chr': 'chr3', 'genomicsuperdups': {'Score': 0.972405, 'Name': 'chr3:195682795'}, 'alt': 'T', 'end': 195400498, 'func_knowngene': 'intronic', 'ref': 'C', 'wellderly': {'alt': 'T', 'alleles': [{'freq': 0.83, 'allele': 'C'}, {'freq': 0.17, 'allele': 'T'}], 'gene': 'SDHALP2', 'chrom': '3', 'vartype': 'snp', 'hg19': {'end': 195400498, 'start': 195400498}, 'pos': 195400498, 'ref': 'C', 'genotypes': [{'freq': 0.33, 'count': 66, 'genotype': 'C/T'}, {'freq': 0.005, 'count': 1, 'genotype': 'T/T'}, {'freq': 0.665, 'count': 133, 'genotype': 'C/C'}]}, 'snpeff': {'ann': {'total': '14', 'feature_id': 'NR_003265.3', 'transcript_biotype': 'Noncoding', 'rank': '9', 'feature_type': 'transcript', 'effect': 'intron_variant', 'putative_impact': 'MODIFIER', 'gene_id': 'SDHAP2', 'genename': 'SDHAP2', 'hgvs_c': 'n.1323-191C>T'}}, 'vcf': {'alt': 'T', 'ref': 'C', 'position': '195400498'}, 'gene_knowngene': 'SDHAP2', 'start': 195400498, 'genotype': {'filter_passing_reads_count': [12], 'genotype_lieklihoods': [347.0, 0.0, 141.0], 'genotype': '0/1', 'alleles': [3, 9]}, 'chrom': '3', 'otherinfo': ['GT:AD:DP:GQ:PL', '0/1:3,9:12:99:347,0,141'], 'hg19': {'end': 195400498, 'start': 195400498}, 'hgvs_id': 'chr3:g.195400498C>T', 'cytoband': {'Band': 'q', 'Region': '29', 'Chromosome': 3, 'Name': '3q29'}}\n",
      "601\n",
      "querying 1-604...done.\n",
      "604 {'genedetail_knowngene': 'dist=NONE;dist=780245', 'func_knowngene': 'intergenic', 'dbsnp': {'allele_origin': 'unspecified', 'var_subtype': 'tv', 'alleles': [{'freq': 0.2993, 'allele': 'T'}, {'freq': 0.7007, 'allele': 'A'}], 'flags': ['ASP', 'G5', 'G5A', 'GNO', 'KGPhase1', 'KGPhase3', 'SLO'], 'vartype': 'snp', 'validated': True, 'gmaf': 0.7007, 'alt': 'A', 'dbsnp_build': 116, 'rsid': 'rs6815127', 'chrom': '4', 'class': 'SNV', 'hg19': {'end': 61286729, 'start': 61286729}, 'ref': 'T'}, 'cadd': {'dna': {'prot': 2.32, 'roll': -2.06, 'helt': 0.01, 'mgw': 0.11}, 'chmm': {'tssaflnk': 0.0, 'txwk': 0.0, 'het': 0.016, 'tssbiv': 0.0, 'znfrpts': 0.0, 'quies': 0.984, 'tx': 0.0, 'txflnk': 0.0, 'bivflnk': 0.0, 'enhbiv': 0.0, 'enh': 0.0, 'tssa': 0.0, 'reprpc': 0.0, 'reprpcwk': 0.0}, 'consdetail': 'intergenic', 'cpg': 0.0, 'gc': 0.37, 'phast_cons': {'vertebrate': 0.007, 'mammalian': 0.004, 'primate': 0.028}, 'annotype': 'Intergenic', 'fitcons': 0.053666, 'consequence': 'INTERGENIC', 'gerp': {'n': 0.964, 's': -0.299}, 'mapability': {'35bp': 1, '20bp': 0.25}, 'alt': 'A', 'phred': 4.944, 'encode': {'nucleo': 0.9, 'h3k4me1': 1.0, 'h3k27ac': 1.64, 'h3k4me3': 5.0}, 'isknownvariant': 'TRUE', 'min_dist_tse': 242939, 'phylop': {'vertebrate': -0.074, 'mammalian': -0.101, 'primate': 0.379}, 'pos': 61286729, 'mutindex': 16, 'min_dist_tss': 243028, 'bstatistic': 983, '_license': 'http://goo.gl/bkpNhq', 'rawscore': 0.225306, '1000g': {'eur': 0.79, 'amr': 0.81, 'af': 0.75, 'afr': 0.6, 'asn': 0.8}, 'ref': 'T', 'anc': 'T', 'consscore': 0, 'istv': 'TRUE', 'chrom': 4, 'length': 0, 'isderived': 'TRUE', 'type': 'SNV', 'segway': 'F1'}, 'vcf': {'alt': 'A', 'ref': 'T', 'position': '61286729'}, 'chr': 'chr4', 'end': 61286729, 'gene_knowngene': 'NONE,LPHN3', 'ref': 'T', 'alt': 'A', 'start': 61286729, 'snpeff': {'ann': {'feature_id': 'IGFBP7-AS1-LPHN3', 'feature_type': 'intergenic_region', 'effect': 'intergenic_region', 'putative_impact': 'MODIFIER', 'gene_id': 'IGFBP7-AS1-LPHN3', 'genename': 'IGFBP7-AS1-LPHN3'}}, 'otherinfo': ['GT:AD:DP:GQ:PL', '1/1:0,5:5:15:176,15,0'], 'genotype': {'filter_passing_reads_count': [5], 'genotype_lieklihoods': [176.0, 15.0, 0.0], 'genotype': '1/1', 'alleles': [0, 5]}, '1000g2015aug_all': 0.700679, 'chrom': '4', 'cytoband': {'Sub_Band': '1', 'Band': 'q', 'Region': '13', 'Chromosome': 4, 'Name': '4q13.1'}, 'hg19': {'end': 61286729, 'start': 61286729}, 'grasp': {'publication': [{'journal': 'Nature', 'phenotype': 'Triglycerides', 'pmid': 20686565, 'location_within_paper': 'FullScan', 'p_value': 0.001898, 'paper_phenotype_description': 'Lipid level measurements', 'title': ['Biological', ' clinical and population relevance of 95 loci for blood lipids.'], 'snpid': 'rs6815127', 'date_pub': '8/5/2010', 'paper_phenotype_categories': 'CVD risk factor (CVD RF);Lipids'}, {'journal': 'Nature', 'phenotype': 'Total cholesterol', 'pmid': 20686565, 'location_within_paper': 'FullScan', 'p_value': 0.04633, 'paper_phenotype_description': 'Lipid level measurements', 'title': ['Biological', ' clinical and population relevance of 95 loci for blood lipids.'], 'snpid': 'rs6815127', 'date_pub': '8/5/2010', 'paper_phenotype_categories': 'CVD risk factor (CVD RF);Lipids'}], 'initial_sample_description': 'Up to 100184 EA individuals', 'hg19': {'chr': 4, 'pos': 61286729}, 'exclusively_male_female': 'n', 'creation_date': '8/17/12', 'replication': {'total_samples': 39875, 'european': 7063, 'indian_south_asian': 9705, 'east_asian': 15046, 'african': 8061}, 'includes_male_female_only_analyses': 'n', 'discovery': {'european': 100184, 'total_samples': 100184}, 'srsid': 6815127, 'gwas_ancestry_description': 'Mixed', 'platform_snps_passing_qc': ['Affymetrix', ' Illumina & Perlegen [~2.6 million] (imputed)'], 'hupfield': 'Jan2014', 'last_curation_date': '8/17/12', 'replication_sample_description': ['9705 South Asians', ' 15046 East Asians', ' 8061 African Americans', ' 7063 Europeans']}, 'hgvs_id': 'chr4:g.61286729T>A', 'wellderly': {'alt': 'A', 'alleles': [{'freq': 0.775, 'allele': 'A'}, {'freq': 0.225, 'allele': 'T'}], 'gene': 'LPHN3', 'chrom': '4', 'vartype': 'snp', 'hg19': {'end': 61286729, 'start': 61286729}, 'pos': 61286729, 'ref': 'T', 'genotypes': [{'freq': 0.39, 'count': 78, 'genotype': 'T/A'}, {'freq': 0.58, 'count': 116, 'genotype': 'A/A'}, {'freq': 0.030000000000000027, 'count': 6, 'genotype': 'T/T'}]}}\n",
      "1205\n",
      "querying 1-604...done.\n",
      "604 {'cytoband': {'Sub_Band': '2', 'Band': 'q', 'Region': '35', 'Chromosome': 4, 'Name': '4q35.2'}, 'dbsnp': {'allele_origin': 'unspecified', 'var_subtype': 'ts', 'alleles': [{'allele': 'T'}, {'allele': 'C'}], 'flags': ['ASP', 'GNO', 'SLO'], 'vartype': 'snp', 'validated': True, 'alt': 'C', 'dbsnp_build': 129, 'rsid': 'rs62345199', 'chrom': '4', 'class': 'SNV', 'hg19': {'end': 190674530, 'start': 190674530}, 'ref': 'T'}, 'chr': 'chr4', 'alt': 'C', 'end': 190674530, 'func_knowngene': 'intergenic', 'start': 190674530, 'wellderly': {'alt': 'C', 'alleles': [{'freq': 0.4975, 'allele': 'C'}, {'freq': 0.5025, 'allele': 'T'}], 'gene': 'BC087857', 'chrom': '4', 'vartype': 'snp', 'hg19': {'end': 190674530, 'start': 190674530}, 'pos': 190674530, 'ref': 'T', 'genotypes': [{'freq': 0.995, 'count': 199, 'genotype': 'T/C'}, {'freq': 0.0050000000000000044, 'count': 1, 'genotype': 'T/T'}]}, 'snpeff': {'ann': {'feature_id': 'LINC01262-FRG1', 'feature_type': 'intergenic_region', 'effect': 'intergenic_region', 'putative_impact': 'MODIFIER', 'gene_id': 'LINC01262-FRG1', 'genename': 'LINC01262-FRG1'}}, 'vcf': {'alt': 'C', 'ref': 'T', 'position': '190674530'}, 'gene_knowngene': 'LOC401164,BC087857', 'ref': 'T', 'genotype': {'filter_passing_reads_count': [2], 'genotype_lieklihoods': [77.0, 6.0, 0.0], 'genotype': '1/1', 'alleles': [0, 2]}, 'chrom': '4', 'genedetail_knowngene': 'dist=1151468;dist=110084', 'hg19': {'end': 190674530, 'start': 190674530}, 'hgvs_id': 'chr4:g.190674530T>C', 'otherinfo': ['GT:AD:DP:GQ:PL', '1/1:0,2:2:6:77,6,0']}\n",
      "1809\n",
      "querying 1-606...done.\n",
      "606 {'cytoband': {'Band': 'q', 'Region': '15', 'Chromosome': 5, 'Name': '5q15'}, 'func_knowngene': 'intronic', 'dbsnp': {'gene': {'symbol': 'MCTP1', 'geneid': '79772'}, 'allele_origin': 'unspecified', 'var_subtype': 'ts', 'alleles': [{'freq': 0.2652, 'allele': 'G'}, {'freq': 0.7348, 'allele': 'A'}], 'flags': ['ASP', 'G5', 'G5A', 'GNO', 'HD', 'INT', 'KGPhase1', 'KGPhase3', 'RV', 'SLO'], 'vartype': 'snp', 'validated': True, 'gmaf': 0.7348, 'alt': 'A', 'dbsnp_build': 80, 'rsid': 'rs469140', 'chrom': '5', 'class': 'SNV', 'hg19': {'end': 94260216, 'start': 94260216}, 'ref': 'G'}, 'cadd': {'dna': {'prot': 1.99, 'roll': -1.28, 'helt': -2.68, 'mgw': 0.2}, 'chmm': {'tssaflnk': 0.0, 'txwk': 0.079, 'het': 0.0, 'tssbiv': 0.0, 'znfrpts': 0.0, 'quies': 0.835, 'tx': 0.0, 'txflnk': 0.0, 'bivflnk': 0.0, 'enhbiv': 0.0, 'enh': 0.0, 'tssa': 0.0, 'reprpc': 0.0, 'reprpcwk': 0.079}, 'consdetail': 'intron', 'gene': {'gene_id': 'ENSG00000175471', 'ccds_id': 'CCDS34203.1', 'genename': 'MCTP1', 'feature_id': 'ENST00000515393'}, 'gc': 0.28, 'phast_cons': {'vertebrate': 0.002, 'mammalian': 0.007, 'primate': 0.02}, 'annotype': 'Transcript', 'fitcons': 0.061782, 'consequence': 'INTRONIC', 'gerp': {'n': 3.16, 's': 1.85}, 'mapability': {'35bp': 1, '20bp': 1}, 'alt': 'A', 'phred': 3.57, 'encode': {'h3k27ac': 1.0, 'h3k4me1': 2.0, 'nucleo': 0.3, 'exp': 0.81, 'h3k4me3': 2.0}, 'isknownvariant': 'TRUE', 'min_dist_tse': 11653, 'phylop': {'vertebrate': 0.558, 'mammalian': 1.432, 'primate': 0.473}, 'pos': 94260216, 'mutindex': 8, 'min_dist_tss': 5191, 'bstatistic': 871, 'intron': '6/22', '_license': 'http://goo.gl/bkpNhq', 'cpg': 0.01, 'rawscore': 0.096432, '1000g': {'eur': 0.75, 'amr': 0.73, 'af': 0.74, 'afr': 0.63, 'asn': 0.84}, 'ref': 'G', 'anc': 'A', 'consscore': 2, 'istv': 'FALSE', 'chrom': 5, 'length': 0, 'isderived': 'FALSE', 'type': 'SNV', 'segway': 'F0'}, 'ref': 'G', 'vcf': {'alt': 'A', 'ref': 'G', 'position': '94260216'}, 'chr': 'chr5', 'end': 94260216, 'gene_knowngene': 'MCTP1', 'start': 94260216, 'alt': 'A', 'snpeff': {'ann': [{'total': '22', 'feature_id': 'NM_024717.5', 'transcript_biotype': 'Coding', 'rank': '6', 'feature_type': 'transcript', 'effect': 'intron_variant', 'putative_impact': 'MODIFIER', 'gene_id': 'MCTP1', 'genename': 'MCTP1', 'hgvs_c': 'c.1213-490C>T'}, {'total': '22', 'feature_id': 'NM_001002796.3', 'transcript_biotype': 'Coding', 'rank': '6', 'feature_type': 'transcript', 'effect': 'intron_variant', 'putative_impact': 'MODIFIER', 'gene_id': 'MCTP1', 'genename': 'MCTP1', 'hgvs_c': 'c.550-490C>T'}, {'total': '19', 'feature_id': 'NM_001297777.1', 'transcript_biotype': 'Coding', 'rank': '6', 'feature_type': 'transcript', 'effect': 'intron_variant', 'putative_impact': 'MODIFIER', 'gene_id': 'MCTP1', 'genename': 'MCTP1', 'hgvs_c': 'c.549+7442C>T'}]}, 'genotype': {'filter_passing_reads_count': [5], 'genotype_lieklihoods': [214.0, 15.0, 0.0], 'genotype': '1/1', 'alleles': [0, 5]}, '1000g2015aug_all': 0.734824, 'chrom': '5', 'otherinfo': ['GT:AD:DP:GQ:PL', '1/1:0,5:5:15:214,15,0'], 'hg19': {'end': 94260216, 'start': 94260216}, 'grasp': {'in_gene': '(MCTP1)', 'initial_sample_description': 'Up to 100184 EA individuals', 'hg19': {'chr': 5, 'pos': 94260216}, 'exclusively_male_female': 'n', 'creation_date': '8/17/12', 'publication': {'journal': 'Nature', 'phenotype': 'Triglycerides', 'pmid': 20686565, 'location_within_paper': 'FullScan', 'p_value': 0.04202, 'paper_phenotype_description': 'Lipid level measurements', 'title': ['Biological', ' clinical and population relevance of 95 loci for blood lipids.'], 'snpid': 'rs469140', 'date_pub': '8/5/2010', 'paper_phenotype_categories': 'CVD risk factor (CVD RF);Lipids'}, 'replication': {'total_samples': 39875, 'european': 7063, 'indian_south_asian': 9705, 'east_asian': 15046, 'african': 8061}, 'includes_male_female_only_analyses': 'n', 'discovery': {'european': 100184, 'total_samples': 100184}, 'srsid': 469140, 'gwas_ancestry_description': 'Mixed', 'platform_snps_passing_qc': ['Affymetrix', ' Illumina & Perlegen [~2.6 million] (imputed)'], 'hupfield': 'Jan2014', 'last_curation_date': '8/17/12', 'replication_sample_description': ['9705 South Asians', ' 15046 East Asians', ' 8061 African Americans', ' 7063 Europeans']}, 'hgvs_id': 'chr5:g.94260216G>A', 'wellderly': {'alt': 'A', 'alleles': [{'freq': 0.7875, 'allele': 'A'}, {'freq': 0.2125, 'allele': 'G'}], 'gene': 'MCTP1', 'chrom': '5', 'vartype': 'snp', 'hg19': {'end': 94260216, 'start': 94260216}, 'pos': 94260216, 'ref': 'G', 'genotypes': [{'freq': 0.335, 'count': 67, 'genotype': 'G/A'}, {'freq': 0.62, 'count': 124, 'genotype': 'A/A'}, {'freq': 0.04499999999999993, 'count': 9, 'genotype': 'G/G'}]}}\n",
      "2415\n",
      "querying 1-601...done.\n",
      "601 {'dbsnp': {'gene': {'symbol': 'PROP1', 'geneid': '5626'}, 'allele_origin': 'unspecified', 'var_subtype': 'ts', 'alleles': [{'freq': 0.000599, 'allele': 'T'}, {'freq': 0.9994, 'allele': 'C'}], 'flags': ['ASP', 'GNO', 'HD', 'KGPhase1', 'KGPhase3', 'NSM', 'REF', 'SLO'], 'vartype': 'snp', 'validated': True, 'gmaf': 0.9994, 'alt': 'C', 'dbsnp_build': 116, 'rsid': 'rs7445271', 'chrom': '5', 'class': 'SNV', 'hg19': {'end': 177422876, 'start': 177422876}, 'ref': 'T'}, 'esp6500siv2_all': '0.9997', '1000g2015aug_all': 0.999401, 'chr': 'chr5', 'alt': 'C', 'start': 177422876, 'end': 177422876, 'func_knowngene': 'exonic', 'exac_nontcga': {'hom': {'hom_amr': 5608, 'hom_nfe': 27172, 'hom_sas': 8204, 'hom_eas': 3933, 'hom_afr': 4526, 'hom_oth': 347, 'hom_fin': 3307}, 'clippingranksum': -0.326, 'het': {'het_fin': 0, 'het_amr': 0, 'het_eas': 0, 'het_nfe': 0, 'het_sas': 0, 'het_afr': 7, 'het_oth': 0}, 'ac': {'ac_hom': 53097, 'ac_het': 7, 'ac_amr': 11216, 'ac_nfe': 54344, 'ac': 106203, 'ac_sas': 16408, 'ac_adj': 106201, 'ac_eas': 7866, 'ac_male': 60334, 'ac_afr': 9059, 'ac_female': 45867, 'ac_oth': 694, 'ac_fin': 6614}, 'alleles': 'C', 'vqslod': 3.44, 'an': {'an_amr': 11216, 'an_adj': 106208, 'an_female': 45872, 'an_male': 60336, 'an_afr': 9066, 'an': 106210, 'an_oth': 694, 'an_sas': 16408, 'an_nfe': 54344, 'an_fin': 6614, 'an_eas': 7866}, 'readposranksum': 0.048, 'inbreedingcoeff': 0.005, 'ref': 'T', 'baseqranksum': 1.62, 'alt': 'C', 'type': 'snp', 'ncc': 19, 'culprit': 'InbreedingCoeff', 'chrom': 5, 'mq': {'mq': 59.56, 'mqranksum': 0.056, 'mq0': 0}, 'fs': 0.0, 'af': 1.0, 'pos': 177422876, 'qd': 33.51}, 'ref': 'T', 'snpeff': {'ann': {'protein': {'length': '226', 'position': '20'}, 'rank': '1', 'feature_type': 'transcript', 'hgvs_p': 'p.Asn20Ser', 'cds': {'length': '681', 'position': '59'}, 'feature_id': 'NM_006261.4', 'hgvs_c': 'c.59A>G', 'cdna': {'length': '1464', 'position': '368'}, 'total': '3', 'transcript_biotype': 'Coding', 'gene_id': 'PROP1', 'putative_impact': 'MODERATE', 'effect': 'missense_variant', 'genename': 'PROP1'}}, 'cadd': {'dna': {'prot': 4.47, 'roll': 0.97, 'helt': -3.97, 'mgw': -0.01}, 'chmm': {'tssaflnk': 0.0, 'txwk': 0.0, 'het': 0.0, 'tssbiv': 0.0, 'znfrpts': 0.0, 'quies': 0.134, 'tx': 0.0, 'txflnk': 0.0, 'bivflnk': 0.0, 'enhbiv': 0.0, 'enh': 0.0, 'tssa': 0.0, 'reprpc': 0.378, 'reprpcwk': 0.457}, 'consdetail': 'missense', 'sift': {'val': 1, 'cat': 'tolerated'}, 'gene': {'ccds_id': 'CCDS4430.1', 'feature_id': 'ENST00000308304', 'prot': {'rel_prot_pos': 0.09, 'protpos': 20}, 'gene_id': 'ENSG00000175325', 'cds': {'cdna_pos': 368, 'cds_pos': 59, 'rel_cdna_pos': 0.25, 'rel_cds_pos': 0.09}, 'genename': 'PROP1'}, 'gc': 0.67, 'grantham': 46, 'annotype': 'CodingTranscript', 'fitcons': 0.573999, 'consequence': 'NON_SYNONYMOUS', 'gerp': {'n': 2.39, 's': 1.48}, 'oaa': 'N', 'mapability': {'35bp': 1, '20bp': 1}, 'alt': 'C', 'phred': 0.001, 'encode': {'sig': {'faire': 0.01, 'polii': 0.02, 'myc': 0.08, 'dnase': 0.09, 'ctcf': 0.09}, 'h3k4me1': 8.92, 'h3k27ac': 4.2, 'h3k4me3': 2.0, 'occ': 2, 'nucleo': 1.2, 'p_val': {'polii': 0.0, 'comb': 2.24, 'ctcf': 1.15, 'faire': 0.0, 'mycp': 1.49, 'dnas': 3.16}}, 'isknownvariant': 'TRUE', 'min_dist_tse': 3640, 'polyphen': {'val': 0, 'cat': 'benign'}, 'phylop': {'vertebrate': 0.536, 'mammalian': 0.558, 'primate': 0.557}, 'pos': 177422876, 'mutindex': -68, 'exon': '1/3', 'min_dist_tss': 368, 'bstatistic': 923, '_license': 'http://goo.gl/bkpNhq', 'cpg': 0.15, 'rawscore': -2.637347, '1000g': {'eur': 1.0, 'amr': 1.0, 'af': 1.0, 'afr': 0.99, 'asn': 1.0}, 'ref': 'T', 'anc': 'C', 'consscore': 7, 'istv': 'FALSE', 'naa': 'S', 'phast_cons': {'vertebrate': 0.057, 'mammalian': 0.065, 'primate': 0.009}, 'chrom': 5, 'length': 0, 'isderived': 'FALSE', 'esp': {'eur': 1.0, 'af': 1.0, 'afr': 0.999}, 'type': 'SNV', 'segway': 'TF0'}, 'exonicfunc_knowngene': 'nonsynonymous SNV', 'vcf': {'alt': 'C', 'ref': 'T', 'position': '177422876'}, 'nci60': 0.98, 'gene_knowngene': 'PROP1', 'wellderly': {'gene': 'PROP1', 'alleles': [{'freq': 0.99, 'allele': 'C'}, {'freq': 0.01, 'allele': 'T'}], 'alt': 'C', 'coding_impact': 'Nonsynonymous', 'vartype': 'snp', 'protein_pos': '20', 'ref': 'T', 'polyphen': 'benign', 'adviser_score': '5~PROP1~Common, Predicted Neutral', 'allele_aa': 'S', 'original_aa': 'N', 'chrom': '5', 'genotypes': [{'freq': 0.99, 'count': 198, 'genotype': 'C/C'}, {'freq': 0.010000000000000009, 'count': 2, 'genotype': 'T/T'}], 'hg19': {'end': 177422876, 'start': 177422876}, 'pos': 177422876}, 'exac': {'vqslod': 3.44, 'readposranksum': 0.048, 'alleles': 'C', 'an': {'an_amr': 11578, 'an_adj': 121402, 'an_female': 54114, 'an_male': 67288, 'an_afr': 10406, 'an': 121412, 'an_oth': 908, 'an_sas': 16512, 'an_nfe': 66730, 'an_fin': 6614, 'an_eas': 8654}, 'inbreedingcoeff': 0.005, 'dp': 5962179, 'ncc': 19, 'qd': 33.51, 'mq': {'mq': 59.56, 'mqranksum': 0.056, 'mq0': 0}, 'af': 1.0, 'ref': 'T', 'qual': 300691689.31, 'hom': {'ac_hom': 60692, 'hom_amr': 5789, 'hom_nfe': 33365, 'hom_sas': 8256, 'hom_eas': 4327, 'hom_afr': 5194, 'hom_oth': 454, 'hom_fin': 3307}, 'clippingranksum': -0.326, 'het': {'ac_het': 9, 'het_fin': 0, 'het_amr': 0, 'het_eas': 0, 'het_nfe': 0, 'het_sas': 0, 'het_afr': 9, 'het_oth': 0}, 'ac': {'ac_hom': 60692, 'ac_het': 9, 'ac_amr': 11578, 'ac_nfe': 66730, 'ac': 121403, 'ac_sas': 16512, 'ac_adj': 121393, 'ac_eas': 8654, 'ac_male': 67285, 'ac_afr': 10397, 'ac_female': 54108, 'ac_oth': 908, 'ac_fin': 6614}, 'alt': 'C', 'fs': 0.0, 'pos': 177422876, 'baseqranksum': 1.62, 'type': 'snp', 'culprit': 'InbreedingCoeff', 'chrom': 5}, 'evs': {'gene': {'accession': 'NM_006261.4', 'symbol': 'PROP1'}, 'hgvs': {'protein': 'p.(N20S)', 'coding': 'c.59A>G'}, 'chimp_allele': 'C', 'filter_status': 'PASS', 'dbsnp_version': 116, 'genotype_count': {'all_genotype': {'TT': 0, 'CT': 4, 'CC': 6499}, 'european_american': {'TT': 0, 'CT': 0, 'CC': 4300}, 'african_american': {'TT': 0, 'CT': 4, 'CC': 2199}}, 'grantham_score': 46, 'rsid': 'rs7445271', 'ref': 'T', 'ma_fin_percent': {'all': 0.0308, 'african_american': 0.0908, 'european_american': 0.0}, 'alt': 'C', 'coding_dna_size': 681, 'ref_base_ncbi': 'T', 'polyphen2': {'class': 'b', 'score': 'e'}, 'hg38': {'end': 177995875, 'start': 177995875}, 'on_illumina_human_exome_chip': 'yes', 'avg_sample_read': 75, 'conservation': {'phast_cons': 0.1, 'gerp': 1.5}, 'chrom': 5, 'function_gvs': 'missense', 'allele_count': {'all': {'T': 4, 'C': 13002}, 'african_american': {'T': 4, 'C': 4402}, 'european_american': {'T': 0, 'C': 8600}}, 'hg19': {'end': 177422876, 'start': 177422876}}, 'genotype': {'filter_passing_reads_count': [2], 'genotype_lieklihoods': [89.0, 6.0, 0.0], 'genotype': '1/1', 'alleles': [0, 2]}, 'chrom': '5', 'dbnsfp': {'provean': {'pred': 'N', 'rankscore': 0.02339, 'score': 0.65}, 'gm12878': {'fitcons_rankscore': 0.45365, 'confidence_value': 0, 'fitcons_score': 0.59043}, '1000gp3': {'eur_ac': 1006, 'afr_ac': 1319, 'ac': 5005, 'amr_ac': 694, 'amr_af': 1.0, 'eas_af': 1.0, 'afr_af': 0.9977307110438729, 'sas_ac': 978, 'sas_af': 1.0, 'af': 0.9994009584664537, 'eur_af': 1.0, 'eas_ac': 1008}, 'ensembl': {'proteinid': 'ENSP00000311290', 'transcriptid': 'ENST00000308304', 'geneid': 'ENSG00000175325'}, 'ancestral_allele': 'C', 'metasvm': {'pred': 'T', 'rankscore': 0.35506, 'score': -0.9778}, 'aa': {'alt': 'S', 'refcodon': 'AAC', 'codon_degeneracy': 0, 'ref': 'N', 'codonpos': 2, 'pos': 20}, 'esp6500': {'ea_af': 1.0, 'ea_ac': 8600, 'aa_af': 0.9990921470721743, 'aa_ac': 4402}, 'rsid': 'rs7445271', 'exac_nontcga': {'afr_ac': 9059, 'ac': 106203, 'amr_ac': 11216, 'adj_ac': 106201, 'amr_af': 1.0, 'fin_af': 1.0, 'adj_af': 0.9999, 'eas_af': 1.0, 'fin_ac': 6614, 'sas_ac': 16408, 'afr_af': 0.9992, 'nfe_af': 1.0, 'nfe_ac': 54344, 'sas_af': 1.0, 'af': 0.9999, 'eas_ac': 7866}, 'mutationtaster': {'AAE': 'N20S', 'pred': 'P', 'score': 1, 'converted_rankscore': 0.08979, 'model': 'simple_aae'}, 'sift': {'pred': 'T', 'score': 1.0, 'converted_rankscore': 0.00963}, 'metalr': {'pred': 'T', 'rankscore': 0.00011, 'score': 0.0}, 'reliability_index': 9, 'eigen-pc': {'raw_rankscore': 0.02986, 'raw': -1.42081718752535}, 'exac_nonpsych': {'afr_ac': 10379, 'ac': 90743, 'amr_ac': 11566, 'adj_ac': 90733, 'amr_af': 1.0, 'fin_af': 1.0, 'adj_af': 0.9999, 'eas_af': 1.0, 'fin_ac': 3802, 'afr_af': 0.9991, 'nfe_af': 1.0, 'nfe_ac': 42132, 'af': 0.9999, 'eas_ac': 5638}, 'twinsuk': {'af': 1.0, 'ac': 3708}, 'genocanyon': {'rankscore': 0.17133, 'score': 0.133183036650966}, 'chrom': '5', 'dann': {'_license': 'https://goo.gl/IeLhCq', 'rankscore': 0.00356, 'score': 0.15062401659334182}, 'vest3': {'_license': 'http://goo.gl/jTko4F', 'transcriptvar': ['N20S', 'N20S', 'N20S'], 'rankscore': ['0.006', '0.015', '0.013'], 'score': [0.006, 0.015, 0.013], 'transcriptid': ['NM_006261.4', 'ENST00000308304', 'CCDS4430.1']}, 'hg19': {'end': 177422876, 'start': 177422876}, 'genename': 'PROP1', 'h1-hesc': {'fitcons_rankscore': 0.37955, 'confidence_value': 0, 'fitcons_score': 0.607795}, 'fathmm-mkl': {'coding_group': 'AEFDBI', 'coding_rankscore': 0.00253, 'coding_score': 0.00026, 'coding_pred': 'N'}, 'huvec': {'fitcons_rankscore': 0.14228, 'confidence_value': 0, 'fitcons_score': 0.542086}, 'phastcons': {'20way': {'mammalian_rankscore': 0.12212, 'mammalian': 0.014}, '100way': {'vertebrate_rankscore': 0.20919, 'vertebrate': 0.043}}, 'alt': 'C', 'integrated': {'fitcons_rankscore': 0.18538, 'confidence_value': 0, 'fitcons_score': 0.497415}, 'uniprot': {'acc': 'O75360', 'pos': '20'}, 'ref': 'T', 'mutationassessor': {'pred': 'N', 'rankscore': 0.00388, 'score': -1.65}, 'hg18': {'end': 177355482, 'start': 177355482}, 'gerp++': {'nr': 2.39, 'rs_rankscore': 0.21794, 'rs': 1.48}, 'fathmm': {'pred': 'D', 'rankscore': 0.88081, 'score': -2.35}, 'alspac': {'af': 1.0, 'ac': 3854}, 'polyphen2': {'_license': 'http://goo.gl/6Cz4Ae', 'hvar': {'pred': 'B', 'rankscore': 0.01257, 'score': 0.0}, 'hdiv': {'pred': 'B', 'rankscore': 0.02634, 'score': 0.0}}, 'hg38': {'end': 177995875, 'start': 177995875}, 'exac': {'afr_ac': 10397, 'ac': 121403, 'amr_ac': 11578, 'adj_ac': 121393, 'amr_af': 1.0, 'fin_af': 1.0, 'adj_af': 0.9999, 'eas_af': 1.0, 'fin_ac': 6614, 'sas_ac': 16512, 'afr_af': 0.9991, 'nfe_af': 1.0, 'nfe_ac': 66730, 'sas_af': 1.0, 'af': 0.9999, 'eas_ac': 8654}, 'eigen': {'phred': 0.1042939, 'raw_rankscore': 0.02367, 'raw': -1.43181654621423}, 'siphy_29way': {'logodds': 3.7401, 'pi': {'a': 0.0, 'c': 0.5882, 't': 0.156, 'g': 0.2558}, 'logodds_rankscore': 0.07992}, 'phylo': {'p100way': {'vertebrate_rankscore': 0.21156, 'vertebrate': 0.44}, 'p20way': {'mammalian_rankscore': 0.11809, 'mammalian': -0.086}}, 'lrt': {'pred': 'N', 'score': 0.600775, 'converted_rankscore': 0.10953, 'omega': 0.769745}, 'cds_strand': '-'}, 'cytoband': {'Sub_Band': '3', 'Band': 'q', 'Region': '35', 'Chromosome': 5, 'Name': '5q35.3'}, 'hg19': {'end': 177422876, 'start': 177422876}, 'hgvs_id': 'chr5:g.177422876T>C', 'otherinfo': ['GT:AD:DP:GQ:PL', '1/1:0,2:2:6:89,6,0']}\n",
      "3016\n",
      "querying 1-608...done.\n",
      "608 {'cytoband': {'Sub_Band': '1', 'Band': 'p', 'Region': '11', 'Chromosome': 6, 'Name': '6p11.1'}, 'dbsnp': {'allele_origin': 'unspecified', 'var_subtype': 'ts', 'alleles': [{'allele': 'T'}, {'allele': 'C'}], 'flags': ['ASP'], 'vartype': 'snp', 'validated': False, 'alt': 'C', 'dbsnp_build': 119, 'rsid': 'rs9647643', 'chrom': '6', 'class': 'SNV', 'hg19': {'end': 58778530, 'start': 58778530}, 'ref': 'T'}, 'chr': 'chr6', 'alt': 'C', 'end': 58778530, 'func_knowngene': 'intergenic', 'start': 58778530, 'snpeff': {'ann': {'feature_id': 'GUSBP4-MTRNR2L9', 'feature_type': 'intergenic_region', 'effect': 'intergenic_region', 'putative_impact': 'MODIFIER', 'gene_id': 'GUSBP4-MTRNR2L9', 'genename': 'GUSBP4-MTRNR2L9'}}, 'vcf': {'alt': 'C', 'ref': 'T', 'position': '58778530'}, 'gene_knowngene': 'Mir_598,NONE', 'ref': 'T', 'genotype': {'filter_passing_reads_count': [68], 'genotype_lieklihoods': [155.0, 0.0, 2495.0], 'genotype': '0/1', 'alleles': [60, 8]}, 'chrom': '6', 'genedetail_knowngene': 'dist=165465;dist=NONE', 'hg19': {'end': 58778530, 'start': 58778530}, 'hgvs_id': 'chr6:g.58778530T>C', 'otherinfo': ['GT:AD:DP:GQ:PL', '0/1:60,8:68:99:155,0,2495']}\n",
      "3624\n",
      "querying 1-606...done.\n",
      "606 {'dbsnp': {'allele_origin': 'unspecified', 'var_subtype': 'del', 'alleles': [{'allele': 'CCA'}, {'allele': 'C'}], 'flags': ['ASP'], 'vartype': 'indel', 'validated': False, 'alt': 'C', 'dbsnp_build': 134, 'rsid': 'rs143902071', 'chrom': '6', 'class': 'DIV', 'hg19': {'end': 151517093, 'start': 151517092}, 'ref': 'CCA'}, 'chr': 'chr6', 'alt': '-', 'end': 151517093, 'func_knowngene': 'downstream', 'start': 151517092, 'snpeff': {'ann': {'feature_id': 'MTHFD1L-AKAP12', 'feature_type': 'intergenic_region', 'effect': 'intergenic_region', 'putative_impact': 'MODIFIER', 'gene_id': 'MTHFD1L-AKAP12', 'genename': 'MTHFD1L-AKAP12', 'hgvs_c': 'n.null_nulldelCA'}}, 'vcf': {'alt': 'C', 'ref': 'CCA', 'position': '151517091'}, 'gene_knowngene': 'BC031960', 'ref': 'CA', 'genotype': {'filter_passing_reads_count': [3], 'genotype_lieklihoods': [69.0, 0.0, 30.0], 'genotype': '0/1', 'alleles': [1, 2]}, 'chrom': '6', 'cytoband': {'Sub_Band': '1', 'Band': 'q', 'Region': '25', 'Chromosome': 6, 'Name': '6q25.1'}, 'hg19': {'end': 151517093, 'start': 151517092}, 'hgvs_id': 'chr6:g.151517092_151517093del', 'otherinfo': ['GT:AD:DP:GQ:PL', '0/1:1,2:3:30:69,0,30']}\n",
      "4230\n",
      "querying 1-604...done.\n",
      "604 {'genedetail_knowngene': 'dist=218135;dist=4615', 'func_knowngene': 'intergenic', 'dbsnp': {'allele_origin': 'unspecified', 'var_subtype': 'ts', 'alleles': [{'freq': 0.7851, 'allele': 'G'}, {'freq': 0.2149, 'allele': 'A'}], 'flags': ['ASP', 'G5', 'GNO', 'KGPhase1', 'KGPhase3', 'SLO'], 'vartype': 'snp', 'validated': True, 'gmaf': 0.2149, 'alt': 'A', 'dbsnp_build': 131, 'rsid': 'rs75606847', 'chrom': '7', 'class': 'SNV', 'hg19': {'end': 51079294, 'start': 51079294}, 'ref': 'G'}, 'cadd': {'dna': {'prot': 2.1, 'roll': -0.24, 'helt': -2.69, 'mgw': 0.14}, 'chmm': {'tssaflnk': 0.0, 'txwk': 0.071, 'het': 0.0, 'tssbiv': 0.0, 'znfrpts': 0.008, 'quies': 0.661, 'tx': 0.0, 'txflnk': 0.0, 'bivflnk': 0.0, 'enhbiv': 0.008, 'enh': 0.0, 'tssa': 0.0, 'reprpc': 0.055, 'reprpcwk': 0.15}, 'consdetail': ['downstream', 'intron,nc'], 'gene': [{'gene_id': 'ENSG00000106078', 'ccds_id': 'CCDS34637.1', 'genename': 'COBL', 'feature_id': 'ENST00000265136'}, {'gene_id': 'ENSG00000228204', 'genename': 'RP4-724E13.2', 'feature_id': 'ENST00000420449'}], 'gc': 0.63, 'phast_cons': {'vertebrate': 0.0, 'mammalian': 0.0, 'primate': 0.008}, 'annotype': ['Intergenic', 'Transcript'], 'fitcons': 0.053666, 'consequence': ['DOWNSTREAM', 'INTRONIC'], 'gerp': {'n': 1.86, 's': -0.153}, 'mapability': {'35bp': 1, '20bp': 1}, 'alt': 'A', 'phred': 1.114, 'encode': {'nucleo': 1.8, 'h3k4me1': 5.0, 'h3k27ac': 3.52, 'h3k4me3': 3.72}, 'isknownvariant': 'TRUE', 'min_dist_tse': 9456, 'phylop': {'vertebrate': -0.048, 'mammalian': -0.06, 'primate': -0.69}, 'pos': 51079294, 'mutindex': 43, 'min_dist_tss': 144850, 'bstatistic': 923, '_license': 'http://goo.gl/bkpNhq', 'cpg': 0.03, 'rawscore': -0.197034, '1000g': {'eur': 0.25, 'amr': 0.24, 'af': 0.23, 'afr': 0.08, 'asn': 0.31}, 'ref': 'G', 'anc': 'G', 'consscore': [1, 2], 'istv': 'FALSE', 'chrom': 7, 'length': 0, 'isderived': 'TRUE', 'type': 'SNV', 'segway': 'TF0'}, 'vcf': {'alt': 'A', 'ref': 'G', 'position': '51079294'}, 'chr': 'chr7', 'end': 51079294, 'gene_knowngene': 'GRB10,COBL', 'start': 51079294, 'alt': 'A', 'snpeff': {'ann': [{'distance_to_feature': '4615', 'genename': 'COBL', 'transcript_biotype': 'Coding', 'feature_type': 'transcript', 'effect': 'downstream_gene_variant', 'putative_impact': 'MODIFIER', 'gene_id': 'COBL', 'feature_id': 'NM_001287436.1', 'hgvs_c': 'c.*4001C>T'}, {'distance_to_feature': '4615', 'genename': 'COBL', 'transcript_biotype': 'Coding', 'feature_type': 'transcript', 'effect': 'downstream_gene_variant', 'putative_impact': 'MODIFIER', 'gene_id': 'COBL', 'feature_id': 'NM_015198.3', 'hgvs_c': 'c.*3971C>T'}, {'feature_id': 'GRB10-COBL', 'feature_type': 'intergenic_region', 'effect': 'intergenic_region', 'putative_impact': 'MODIFIER', 'gene_id': 'GRB10-COBL', 'genename': 'GRB10-COBL'}]}, 'otherinfo': ['GT:AD:DP:GQ:PL', '1/1:0,2:2:6:90,6,0'], 'genotype': {'filter_passing_reads_count': [2], 'genotype_lieklihoods': [90.0, 6.0, 0.0], 'genotype': '1/1', 'alleles': [0, 2]}, '1000g2015aug_all': 0.214856, 'chrom': '7', 'cytoband': {'Sub_Band': '1', 'Band': 'p', 'Region': '12', 'Chromosome': 7, 'Name': '7p12.1'}, 'hg19': {'end': 51079294, 'start': 51079294}, 'ref': 'G', 'hgvs_id': 'chr7:g.51079294G>A', 'wellderly': {'alt': 'A', 'alleles': [{'freq': 0.2325, 'allele': 'A'}, {'freq': 0.7675, 'allele': 'G'}], 'gene': 'COBL', 'chrom': '7', 'vartype': 'snp', 'hg19': {'end': 51079294, 'start': 51079294}, 'pos': 51079294, 'ref': 'G', 'genotypes': [{'freq': 0.335, 'count': 67, 'genotype': 'G/A'}, {'freq': 0.065, 'count': 13, 'genotype': 'A/A'}, {'freq': 0.6, 'count': 120, 'genotype': 'G/G'}]}}\n",
      "4834\n",
      "querying 1-603...done.\n",
      "603 {'func_knowngene': 'intronic', 'chr': 'chr7', 'gene_knowngene': 'TRRAP', 'ref': 'TGTGTGTGTGTGTGTGTGTGTGTGTGTGTGTGTG', 'alt': '-', 'genotype': {'filter_passing_reads_count': [125], 'genotype_lieklihoods': [5230.0, 3857.0, 3653.0], 'genotype': '1/2', 'alleles': [0, 20]}, 'end': 98550688, 'notfound': True, 'cytoband': {'Sub_Band': '1', 'Band': 'q', 'Region': '22', 'Chromosome': 7, 'Name': '7q22.1'}, 'start': 98550655, 'hgvs_id': 'chr7:g.98550655_98550688del', 'otherinfo': ['GT:AD:DP:GQ:PL', '1/2:0,20,105:125:99:5230,3857,3653,712,0,344']}\n",
      "5437\n",
      "Parsing Buffer...\n",
      "querying 1-602...done.\n",
      "602 {'func_knowngene': 'ncRNA_intronic', 'chr': 'chr7', 'gene_knowngene': 'BV6S4-BJ2S2,TCRVB', 'ref': '-', 'genomicsuperdups': {'Score': 0.91274, 'Name': 'chr7:142457676'}, 'alt': 'A', 'genotype': {'filter_passing_reads_count': [16], 'genotype_lieklihoods': [81.0, 0.0, 621.0], 'genotype': '0/1', 'alleles': [13, 3]}, 'end': 142470475, 'notfound': True, 'cytoband': {'Band': 'q', 'Region': '34', 'Chromosome': 7, 'Name': '7q34'}, 'start': 142470475, 'hgvs_id': 'chr7:g.142470475_142470476insA', 'otherinfo': ['GT:AD:DP:GQ:PL', '0/1:13,3:16:81:81,0,621']}\n",
      "602\n",
      "querying 1-602...done.\n",
      "602 {'otherinfo': ['GT:AD:DP:GQ:PL', '1/1:0,2:2:6:89,6,0'], 'cytoband': {'Sub_Band': '1', 'Band': 'p', 'Region': '23', 'Chromosome': 8, 'Name': '8p23.1'}, 'genedetail_knowngene': 'dist=31529;dist=24757', 'dbsnp': {'allele_origin': 'unspecified', 'var_subtype': 'ts', 'alleles': [{'freq': 0.2308, 'allele': 'C'}, {'freq': 0.7692, 'allele': 'T'}], 'flags': ['ASP', 'G5', 'G5A', 'GNO', 'KGPhase1', 'KGPhase3', 'SLO'], 'vartype': 'snp', 'validated': True, 'gmaf': 0.7692, 'alt': 'T', 'dbsnp_build': 83, 'rsid': 'rs626926', 'chrom': '8', 'class': 'SNV', 'hg19': {'end': 12554649, 'start': 12554649}, 'ref': 'C'}, 'cadd': {'dna': {'prot': -2.54, 'roll': 0.13, 'helt': 1.78, 'mgw': 0.23}, 'chmm': {'tssaflnk': 0.0, 'txwk': 0.0, 'het': 0.0, 'tssbiv': 0.0, 'znfrpts': 0.0, 'quies': 0.732, 'tx': 0.0, 'txflnk': 0.0, 'bivflnk': 0.0, 'enhbiv': 0.0, 'enh': 0.0, 'tssa': 0.0, 'reprpc': 0.016, 'reprpcwk': 0.252}, 'consdetail': 'non_coding_exon,nc', 'gene': {'gene_id': 'ENSG00000254917', 'genename': 'OR7E15P', 'cds': {'cdna_pos': 134, 'rel_cdna_pos': 0.14}, 'feature_id': 'ENST00000533484'}, 'gc': 0.56, 'phast_cons': {'vertebrate': 0.503, 'mammalian': 0.037, 'primate': 0.068}, 'annotype': 'NonCodingTranscript', 'fitcons': 0.065702, 'consequence': 'NONCODING_CHANGE', 'gerp': {'n': 0.343, 's': 0.343}, 'mapability': {'35bp': 1, '20bp': 0.333333}, 'alt': 'T', 'phred': 5.481, 'encode': {'h3k27ac': 1.84, 'h3k4me1': 2.0, 'nucleo': 2.8, 'exp': 5.05, 'h3k4me3': 2.0}, 'isknownvariant': 'TRUE', 'min_dist_tse': 833, 'phylop': {'vertebrate': 0.16, 'mammalian': 0.458, 'primate': 0.076}, 'pos': 12554649, 'mutindex': 9, 'exon': '1/1', 'bstatistic': 929, '_license': 'http://goo.gl/bkpNhq', 'cpg': 0.04, 'rawscore': 0.27832, '1000g': {'eur': 0.89, 'amr': 0.83, 'af': 0.84, 'afr': 0.66, 'asn': 0.93}, 'ref': 'C', 'consscore': 5, 'istv': 'FALSE', 'scoresegdup': 0.93, 'chrom': 8, 'length': 0, 'min_dist_tss': 134, 'type': 'SNV', 'segway': 'R3'}, 'vcf': {'alt': 'T', 'ref': 'C', 'position': '12554649'}, 'chr': 'chr8', 'end': 12554649, 'gene_knowngene': 'LOC729732,LONRF1', 'start': 12554649, 'genomicsuperdups': {'Score': 0.930878, 'Name': 'chr12:8494525'}, 'alt': 'T', 'snpeff': {'ann': {'feature_id': 'LOC729732-LONRF1', 'feature_type': 'intergenic_region', 'effect': 'intergenic_region', 'putative_impact': 'MODIFIER', 'gene_id': 'LOC729732-LONRF1', 'genename': 'LOC729732-LONRF1'}}, 'genotype': {'filter_passing_reads_count': [2], 'genotype_lieklihoods': [89.0, 6.0, 0.0], 'genotype': '1/1', 'alleles': [0, 2]}, '1000g2015aug_all': 0.769169, 'chrom': '8', 'func_knowngene': 'intergenic', 'hg19': {'end': 12554649, 'start': 12554649}, 'ref': 'C', 'hgvs_id': 'chr8:g.12554649C>T', 'wellderly': {'alt': 'T', 'alleles': [{'freq': 0.15, 'allele': 'C'}, {'freq': 0.85, 'allele': 'T'}], 'gene': 'LONRF1', 'chrom': '8', 'vartype': 'snp', 'hg19': {'end': 12554649, 'start': 12554649}, 'pos': 12554649, 'ref': 'C', 'genotypes': [{'freq': 0.23, 'count': 46, 'genotype': 'C/T'}, {'freq': 0.735, 'count': 147, 'genotype': 'T/T'}, {'freq': 0.03500000000000003, 'count': 7, 'genotype': 'C/C'}]}}\n",
      "1204\n",
      "querying 1-604...done.\n",
      "604 {'dbsnp': {'allele_origin': 'unspecified', 'var_subtype': 'del', 'alleles': [{'freq': 0.612, 'allele': 'TTGA'}, {'freq': 0.1627, 'allele': 'T'}], 'flags': ['ASP'], 'vartype': 'indel', 'validated': False, 'gmaf': 0.1627, 'alt': 'T', 'dbsnp_build': 134, 'rsid': 'rs146964326', 'chrom': '8', 'class': 'DIV', 'hg19': {'end': 137086667, 'start': 137086665}, 'ref': 'TTGA'}, '1000g2015aug_all': 0.16274, 'chr': 'chr8', 'alt': '-', 'end': 137086667, 'func_knowngene': 'intergenic', 'ref': 'TGA', 'wellderly': {'alt': 'T', 'alleles': [{'freq': 0.2775, 'allele': 'TTGA'}, {'freq': 0.02, 'allele': 'TTGATGATGATGA'}, {'freq': 0.015, 'allele': 'TTGATGA'}, {'freq': 0.4675, 'allele': 'T'}], 'gene': 'KHDRBS3', 'chrom': '8', 'vartype': 'del', 'hg19': {'end': 137086667, 'start': 137086665}, 'pos': 137086664, 'ref': 'TTGA', 'genotypes': [{'freq': 0.04, 'count': 8, 'genotype': 'TTGATGATGATGA/T'}, {'freq': 0.025, 'count': 5, 'genotype': 'TTGA/T'}, {'freq': 0.03, 'count': 6, 'genotype': 'TTGATGA/T'}, {'freq': 0.44, 'count': 88, 'genotype': 'T'}, {'freq': 0.2, 'count': 40, 'genotype': 'T/T'}, {'freq': 0.2649999999999999, 'count': 53, 'genotype': 'TTGA/TTGA'}]}, 'snpeff': {'ann': {'feature_id': 'KHDRBS3-LOC101927915', 'feature_type': 'intergenic_region', 'effect': 'intergenic_region', 'putative_impact': 'MODIFIER', 'gene_id': 'KHDRBS3-LOC101927915', 'genename': 'KHDRBS3-LOC101927915', 'hgvs_c': 'n.null_nulldelTGA'}}, 'vcf': {'alt': 'T', 'ref': 'TTGA', 'position': '137086664'}, 'gene_knowngene': 'U1,Mir_720', 'start': 137086665, 'otherinfo': ['GT:AD:DP:GQ:PL', '1/1:0,2:2:6:83,6,0'], 'genotype': {'filter_passing_reads_count': [2], 'genotype_lieklihoods': [83.0, 6.0, 0.0], 'genotype': '1/1', 'alleles': [0, 2]}, 'chrom': '8', 'genedetail_knowngene': 'dist=331927;dist=2008504', 'hg19': {'end': 137086667, 'start': 137086665}, 'hgvs_id': 'chr8:g.137086665_137086667del', 'cytoband': {'Sub_Band': '23', 'Band': 'q', 'Region': '24', 'Chromosome': 8, 'Name': '8q24.23'}}\n",
      "1808\n",
      "querying 1-605...done.\n",
      "605 {'dbsnp': {'gene': {'symbol': 'LOC100996643', 'geneid': '100996643'}, 'allele_origin': 'unspecified', 'var_subtype': 'ts', 'alleles': [{'allele': 'A'}, {'allele': 'G'}], 'flags': ['ASP', 'INT'], 'vartype': 'snp', 'validated': False, 'alt': 'G', 'dbsnp_build': 146, 'rsid': 'rs796839334', 'chrom': '9', 'class': 'SNV', 'hg19': {'end': 67320787, 'start': 67320787}, 'ref': 'A'}, 'chr': 'chr9', 'genomicsuperdups': {'Score': 0.992374, 'Name': 'chr9:69577432'}, 'alt': 'G', 'end': 67320787, 'func_knowngene': 'intergenic', 'ref': 'A', 'snpeff': {'ann': {'feature_id': 'AQP7P1-LOC102723709.2', 'feature_type': 'intergenic_region', 'effect': 'intergenic_region', 'putative_impact': 'MODIFIER', 'gene_id': 'AQP7P1-LOC102723709.2', 'genename': 'AQP7P1-LOC102723709'}}, 'vcf': {'alt': 'G', 'ref': 'A', 'position': '67320787'}, 'gene_knowngene': 'AQP7P1,FAM27E3', 'start': 67320787, 'otherinfo': ['GT:AD:DP:GQ:PL', '0/1:3,2:5:75:75,0,136'], 'genotype': {'filter_passing_reads_count': [5], 'genotype_lieklihoods': [75.0, 0.0, 136.0], 'genotype': '0/1', 'alleles': [3, 2]}, 'chrom': '9', 'genedetail_knowngene': 'dist=31295;dist=464157', 'hg19': {'end': 67320787, 'start': 67320787}, 'hgvs_id': 'chr9:g.67320787A>G', 'cytoband': {'Band': 'q', 'Region': '13', 'Chromosome': 9, 'Name': '9q13'}}\n",
      "2413\n",
      "querying 1-600...done.\n",
      "600 {'genedetail_knowngene': 'uc004cca.2:c.*289delT,uc004ccb.3:c.*289delT,uc011mcq.1:c.*289delT', '1000g2015aug_all': 0.439097, 'chr': 'chr9', 'gene_knowngene': 'TSC1', 'start': 135771333, 'alt': '-', 'otherinfo': ['GT:AD:DP:GQ:PL', '1/1:0,33:33:99:1116,99,0'], 'genotype': {'filter_passing_reads_count': [33], 'genotype_lieklihoods': [1116.0, 99.0, 0.0], 'genotype': '1/1', 'alleles': [0, 33]}, 'end': 135771333, 'notfound': True, 'func_knowngene': 'UTR3', 'ref': 'A', 'hgvs_id': 'chr9:g.135771333_135771333del', 'cytoband': {'Sub_Band': '13', 'Band': 'q', 'Region': '34', 'Chromosome': 9, 'Name': '9q34.13'}}\n",
      "3013\n",
      "querying 1-604...done.\n",
      "604 {'cytoband': {'Sub_Band': '21', 'Band': 'q', 'Region': '11', 'Chromosome': 10, 'Name': '10q11.21'}, 'func_knowngene': 'intergenic', 'chr': 'chr10', 'gene_knowngene': 'NONE,LOC441666', 'ref': 'T', 'alt': 'G', 'genotype': {'filter_passing_reads_count': [38], 'genotype_lieklihoods': [99.0, 0.0, 1539.0], 'genotype': '0/1', 'alleles': [33, 5]}, 'end': 42400311, 'notfound': True, 'genedetail_knowngene': 'dist=NONE;dist=427003', 'start': 42400311, 'hgvs_id': 'chr10:g.42400311T>G', 'otherinfo': ['GT:AD:DP:GQ:PL', '0/1:33,5:38:99:99,0,1539']}\n",
      "3617\n",
      "querying 1-605...done.\n",
      "605 {'dbsnp': {'gene': {'symbol': 'NT5C2', 'geneid': '22978'}, 'allele_origin': 'unspecified', 'var_subtype': 'ts', 'alleles': [{'freq': 0.7316, 'allele': 'G'}, {'freq': 0.2684, 'allele': 'A'}], 'flags': ['ASP', 'G5', 'GNO', 'HD', 'INT', 'KGPhase1', 'KGPhase3', 'PM', 'PMC', 'RV', 'SLO'], 'vartype': 'snp', 'validated': True, 'gmaf': 0.2684, 'alt': 'A', 'dbsnp_build': 92, 'rsid': 'rs1926029', 'chrom': '10', 'class': 'SNV', 'hg19': {'end': 104855670, 'start': 104855670}, 'ref': 'G'}, 'esp6500siv2_all': '0.3199', '1000g2015aug_all': 0.268371, 'chr': 'chr10', 'alt': 'A', 'start': 104855670, 'end': 104855670, 'func_knowngene': 'intronic', 'exac_nontcga': {'hom': {'hom_amr': 225, 'hom_nfe': 2745, 'hom_sas': 467, 'hom_eas': 179, 'hom_afr': 449, 'hom_oth': 38, 'hom_fin': 301}, 'clippingranksum': -0.03, 'het': {'het_fin': 1411, 'het_amr': 1703, 'het_eas': 1252, 'het_nfe': 11760, 'het_sas': 2994, 'het_afr': 2045, 'het_oth': 117}, 'ac': {'ac_hom': 4404, 'ac_het': 21282, 'ac_amr': 2153, 'ac_nfe': 17250, 'ac': 30096, 'ac_sas': 3928, 'ac_adj': 30090, 'ac_eas': 1610, 'ac_male': 17170, 'ac_afr': 2943, 'ac_female': 12920, 'ac_oth': 193, 'ac_fin': 2013}, 'alleles': 'A', 'vqslod': 4.37, 'an': {'an_amr': 11212, 'an_adj': 106180, 'an_female': 45864, 'an_male': 60316, 'an_afr': 9062, 'an': 106210, 'an_oth': 694, 'an_sas': 16406, 'an_nfe': 54330, 'an_fin': 6614, 'an_eas': 7862}, 'readposranksum': 0.295, 'inbreedingcoeff': 0.0164, 'ref': 'G', 'baseqranksum': -2.636, 'alt': 'A', 'type': 'snp', 'ncc': 10, 'culprit': 'MQ', 'chrom': 10, 'mq': {'mq': 59.57, 'mqranksum': 0.104, 'mq0': 0}, 'fs': 0.546, 'af': 0.283, 'pos': 104855670, 'qd': 15.69}, 'ref': 'G', 'snpeff': {'ann': [{'total': '17', 'feature_id': 'NM_001134373.2', 'transcript_biotype': 'Coding', 'rank': '11', 'feature_type': 'transcript', 'effect': 'intron_variant', 'putative_impact': 'MODIFIER', 'gene_id': 'NT5C2', 'genename': 'NT5C2', 'hgvs_c': 'c.813+26C>T'}, {'total': '18', 'feature_id': 'NM_012229.4', 'transcript_biotype': 'Coding', 'rank': '12', 'feature_type': 'transcript', 'effect': 'intron_variant', 'putative_impact': 'MODIFIER', 'gene_id': 'NT5C2', 'genename': 'NT5C2', 'hgvs_c': 'c.813+26C>T'}]}, 'cadd': {'dna': {'prot': 2.04, 'roll': -0.85, 'helt': -2.79, 'mgw': 0.06}, 'chmm': {'tssaflnk': 0.0, 'txwk': 0.409, 'het': 0.0, 'tssbiv': 0.0, 'znfrpts': 0.0, 'quies': 0.016, 'tx': 0.575, 'txflnk': 0.0, 'bivflnk': 0.0, 'enhbiv': 0.0, 'enh': 0.0, 'tssa': 0.0, 'reprpc': 0.0, 'reprpcwk': 0.0}, 'consdetail': 'intron', 'gene': {'gene_id': 'ENSG00000076685', 'ccds_id': 'CCDS7544.1', 'genename': 'NT5C2', 'feature_id': 'ENST00000343289'}, 'gc': 0.4, 'phast_cons': {'vertebrate': 0.24, 'mammalian': 0.734, 'primate': 0.011}, 'annotype': 'Transcript', 'fitcons': 0.156329, 'consequence': 'INTRONIC', 'gerp': {'n': 5.05, 's': 3.92}, 'mapability': {'35bp': 1, '20bp': 1}, 'alt': 'A', 'phred': 6.994, 'encode': {'h3k27ac': 3.56, 'h3k4me1': 2.0, 'nucleo': 1.9, 'exp': 61.48, 'h3k4me3': 2.0}, 'isknownvariant': 'TRUE', 'min_dist_tse': 6328, 'phylop': {'vertebrate': 0.624, 'mammalian': 0.888, 'primate': 0.478}, 'pos': 104855670, 'mutindex': 14, 'min_dist_tss': 57715, 'bstatistic': 98, 'intron': '11/17', '_license': 'http://goo.gl/bkpNhq', 'cpg': 0.01, 'rawscore': 0.444878, '1000g': {'eur': 0.33, 'amr': 0.23, 'af': 0.27, 'afr': 0.32, 'asn': 0.19}, 'ref': 'G', 'anc': 'A', 'consscore': 2, 'istv': 'FALSE', 'chrom': 10, 'length': 0, 'isderived': 'FALSE', 'esp': {'eur': 0.321, 'af': 0.32, 'afr': 0.317}, 'type': 'SNV', 'segway': 'GE0'}, 'vcf': {'alt': 'A', 'ref': 'G', 'position': '104855670'}, 'nci60': 0.26, 'gene_knowngene': 'NT5C2', 'wellderly': {'alt': 'A', 'alleles': [{'freq': 0.345, 'allele': 'A'}, {'freq': 0.655, 'allele': 'G'}], 'gene': 'NT5C2', 'chrom': '10', 'vartype': 'snp', 'hg19': {'end': 104855670, 'start': 104855670}, 'pos': 104855670, 'ref': 'G', 'genotypes': [{'freq': 0.49, 'count': 98, 'genotype': 'G/A'}, {'freq': 0.1, 'count': 20, 'genotype': 'A/A'}, {'freq': 0.41000000000000003, 'count': 82, 'genotype': 'G/G'}]}, 'exac': {'vqslod': 4.37, 'readposranksum': 0.295, 'alleles': 'A', 'an': {'an_amr': 11574, 'an_adj': 121362, 'an_female': 54100, 'an_male': 67262, 'an_afr': 10402, 'an': 121412, 'an_oth': 908, 'an_sas': 16510, 'an_nfe': 66706, 'an_fin': 6614, 'an_eas': 8648}, 'inbreedingcoeff': 0.0164, 'dp': 4116603, 'ncc': 10, 'qd': 15.69, 'mq': {'mq': 59.57, 'mqranksum': 0.104, 'mq0': 0}, 'af': 0.289, 'ref': 'G', 'qual': 72608001.92, 'hom': {'ac_hom': 5216, 'hom_amr': 235, 'hom_nfe': 3441, 'hom_sas': 471, 'hom_eas': 209, 'hom_afr': 505, 'hom_oth': 54, 'hom_fin': 301}, 'clippingranksum': -0.03, 'het': {'ac_het': 24603, 'het_fin': 1411, 'het_amr': 1770, 'het_eas': 1380, 'het_nfe': 14509, 'het_sas': 3008, 'het_afr': 2363, 'het_oth': 162}, 'ac': {'ac_hom': 5216, 'ac_het': 24603, 'ac_amr': 2240, 'ac_nfe': 21391, 'ac': 35047, 'ac_sas': 3950, 'ac_adj': 35035, 'ac_eas': 1798, 'ac_male': 19471, 'ac_afr': 3373, 'ac_female': 15564, 'ac_oth': 270, 'ac_fin': 2013}, 'alt': 'A', 'fs': 0.546, 'pos': 104855670, 'baseqranksum': -2.636, 'type': 'snp', 'culprit': 'MQ', 'chrom': 10}, 'evs': {'gene': [{'accession': 'NM_012229.4', 'symbol': 'NT5C2'}, {'accession': 'NM_001134373.2', 'symbol': 'NT5C2'}], 'estimated_age_kyrs': {'aa': '688.4+/-405.0', 'ea': '679.4+/-403.6'}, 'hgvs': {'coding': 'c.813+26C>T'}, 'chimp_allele': 'A', 'conservation': {'phast_cons': 0.7, 'gerp': 3.9}, 'dbsnp_version': 92, 'genotype_count': {'all_genotype': {'GG': 3005, 'AG': 2836, 'AA': 662}, 'european_american': {'GG': 1972, 'AG': 1894, 'AA': 434}, 'african_american': {'GG': 1033, 'AG': 942, 'AA': 228}}, 'rsid': 'rs1926029', 'ref': 'G', 'ma_fin_percent': {'all': 31.9852, 'african_american': 31.7295, 'european_american': 32.1163}, 'alt': 'A', 'coding_dna_size': 1686, 'ref_base_ncbi': 'G', 'polyphen2': {'class': 'u', 'score': 'n'}, 'hg38': {'end': 103095913, 'start': 103095913}, 'on_illumina_human_exome_chip': 'no', 'avg_sample_read': 101, 'filter_status': 'PASS', 'chrom': 10, 'function_gvs': 'intron', 'allele_count': {'all': {'A': 4160, 'G': 8846}, 'african_american': {'A': 1398, 'G': 3008}, 'european_american': {'A': 2762, 'G': 5838}}, 'hg19': {'end': 104855670, 'start': 104855670}}, 'genotype': {'filter_passing_reads_count': [420], 'genotype_lieklihoods': [7298.0, 0.0, 16282.0], 'genotype': '0/1', 'alleles': [229, 191]}, 'chrom': '10', 'cytoband': {'Sub_Band': '32', 'Band': 'q', 'Region': '24', 'Chromosome': 10, 'Name': '10q24.32'}, 'hg19': {'end': 104855670, 'start': 104855670}, 'grasp': {'publication': [{'journal': 'PLoS Genet', 'phenotype': ['Methylation levels at chr10:104943598-104943648 [hg18 coord', ' probe cg00035347] in Temporal cortex'], 'pmid': 20485568, 'location_within_paper': 'TableS3', 'p_value': 2.12e-12, 'paper_phenotype_description': ['Gene expression and DNA methylation in 4 brain regions (pons', ' cerebellum', ' frontal cortex', ' temporal cortex)'], 'title': 'Abundant quantitative trait loci exist for DNA methylation and gene expression in', 'snpid': 'rs1926029', 'date_pub': '5/13/2010', 'paper_phenotype_categories': 'Quantitative trait(s);Gene expression (RNA);Methylation;Epigenetics;Neuro'}, {'journal': 'PLoS One', 'phenotype': 'Gene expression of AS3MT in peripheral blood monocytes', 'pmid': 20502693, 'location_within_paper': 'SuppDatabase', 'p_value': 2.35e-24, 'paper_phenotype_description': 'Gene expression in monocytes', 'title': 'Genetics and beyond--the transcriptome of human monocytes and disease', 'snpid': 'rs1926029', 'date_pub': '5/18/2010', 'paper_phenotype_categories': 'Quantitative trait(s);Gene expression (RNA);Blood-related'}, {'journal': 'PLoS One', 'phenotype': 'Gene expression of USMG5 in peripheral blood monocytes', 'pmid': 20502693, 'location_within_paper': 'SuppDatabase', 'p_value': 3.82e-37, 'paper_phenotype_description': 'Gene expression in monocytes', 'title': 'Genetics and beyond--the transcriptome of human monocytes and disease', 'snpid': 'rs1926029', 'date_pub': '5/18/2010', 'paper_phenotype_categories': 'Quantitative trait(s);Gene expression (RNA);Blood-related'}, {'journal': 'Nature', 'phenotype': 'Height', 'pmid': 20881960, 'location_within_paper': 'Full Data', 'p_value': 0.004653, 'paper_phenotype_description': 'Height', 'title': 'Hundreds of variants clustered in genomic loci and biological pathways affect human height.', 'snpid': 'rs1926029', 'date_pub': '9/29/2010', 'paper_phenotype_categories': 'Quantitative trait(s);Height'}, {'journal': 'Nature', 'phenotype': 'Diastolic blood pressure (DBP)', 'pmid': 21909115, 'location_within_paper': 'Full Data', 'p_value': 0.000656, 'paper_phenotype_description': 'Blood pressure', 'title': 'Genetic variants in novel pathways influence blood pressure and cardiovascular disease risk.', 'snpid': 'rs1926029', 'date_pub': '9/11/2011', 'paper_phenotype_categories': 'Quantitative trait(s);Blood pressure;CVD risk factor (CVD RF)'}], 'in_gene': '(NT5C2)', 'initial_sample_description': ['143 European frontal cortex samples', ' 143 European cerebellum samples', ' 144 European temporal cortex samples', ' 142 European caudal pons samples', '1490 unrelated EA individuals', '1490 unrelated EA individuals', '133653 EA individuals', '69395 EA individuals'], 'hg19': {'chr': 10, 'pos': 104855670}, 'eqtl_meth_metab_study': 1, 'creation_date': '8/17/12', 'exclusively_male_female': 'n', 'includes_male_female_only_analyses': 'n', 'discovery': [{'european': 572, 'total_samples': 572}, {'european': 1490, 'total_samples': 1490}, {'european': 1490, 'total_samples': 1490}, {'european': 133653, 'total_samples': 133653}, {'european': 69395, 'total_samples': 69395}], 'srsid': 1926029, 'gwas_ancestry_description': 'European', 'platform_snps_passing_qc': ['Illumina [1629853] (imputed)', 'Affymetrix [675350]', 'Affymetrix [675350]', ['Affymetrix', ' Illumina & Perlegen [2834208] (imputed)'], ['Affymetrix', ' Illumina & Perlegen [~2.5 million] (imputed)']], 'hupfield': 'Jan2014', 'last_curation_date': '8/17/12', 'replication_sample_description': ['NR', ['400 LCL samples', ' 472 liver samples and HapMap samples from previous studies'], ['400 LCL samples', ' 472 liver samples and HapMap samples from previous studies'], '50074 EA individuals', '133661 EA individuals']}, 'hgvs_id': 'chr10:g.104855670G>A', 'otherinfo': ['GT:AD:DP:GQ:PL', '0/1:229,191:420:99:7298,0,16282']}\n",
      "4222\n",
      "querying 1-600...done.\n",
      "600 {'cytoband': {'Sub_Band': '2', 'Band': 'p', 'Region': '11', 'Chromosome': 11, 'Name': '11p11.2'}, 'func_knowngene': 'intronic', 'dbsnp': {'gene': {'symbol': 'LRP4', 'geneid': '4038'}, 'allele_origin': 'unspecified', 'var_subtype': 'tv', 'alleles': [{'freq': 0.06669, 'allele': 'G'}, {'freq': 0.9333, 'allele': 'T'}], 'flags': ['ASP', 'G5', 'GNO', 'INT', 'KGPhase1', 'KGPhase3', 'SLO'], 'vartype': 'snp', 'validated': True, 'gmaf': 0.9333, 'alt': 'T', 'dbsnp_build': 116, 'rsid': 'rs7119536', 'chrom': '11', 'class': 'SNV', 'hg19': {'end': 46906042, 'start': 46906042}, 'ref': 'G'}, 'cadd': {'dna': {'prot': -1.29, 'roll': 5.79, 'helt': 0.58, 'mgw': 0.59}, 'chmm': {'tssaflnk': 0.0, 'txwk': 0.417, 'het': 0.0, 'tssbiv': 0.0, 'znfrpts': 0.0, 'quies': 0.26, 'tx': 0.291, 'txflnk': 0.0, 'bivflnk': 0.0, 'enhbiv': 0.0, 'enh': 0.0, 'tssa': 0.0, 'reprpc': 0.0, 'reprpcwk': 0.031}, 'consdetail': 'intron', 'gene': {'gene_id': 'ENSG00000134569', 'ccds_id': 'CCDS31478.1', 'genename': 'LRP4', 'feature_id': 'ENST00000378623'}, 'gc': 0.53, 'phast_cons': {'vertebrate': 0.034, 'mammalian': 0.032, 'primate': 0.032}, 'annotype': 'Transcript', 'fitcons': 0.088604, 'consequence': 'INTRONIC', 'gerp': {'n': 0, 's': 0}, 'mapability': {'35bp': 1, '20bp': 0}, 'alt': 'T', 'phred': 0.055, 'encode': {'h3k4me1': 1.0, 'h3k27ac': 1.0, 'h3k4me3': 1.0}, 'isknownvariant': 'TRUE', 'min_dist_tse': 567, 'phylop': {'vertebrate': -1.621, 'mammalian': -1.649, 'primate': -1.629}, 'pos': 46906042, 'mutindex': 0, 'min_dist_tss': 5197, 'bstatistic': 17, 'intron': '18/37', '_license': 'http://goo.gl/bkpNhq', 'cpg': 0.11, 'rawscore': -0.750875, '1000g': {'eur': 1.0, 'amr': 0.98, 'af': 0.95, 'afr': 0.79, 'asn': 1.0}, 'ref': 'G', 'anc': 'T', 'consscore': 2, 'istv': 'TRUE', 'chrom': 11, 'length': 0, 'isderived': 'FALSE', 'type': 'SNV', 'segway': 'D'}, 'vcf': {'alt': 'T', 'ref': 'G', 'position': '46906042'}, 'chr': 'chr11', 'end': 46906042, 'gene_knowngene': 'LRP4', 'ref': 'G', 'alt': 'T', 'snpeff': {'ann': {'total': '37', 'feature_id': 'NM_002334.3', 'transcript_biotype': 'Coding', 'rank': '18', 'feature_type': 'transcript', 'effect': 'intron_variant', 'putative_impact': 'MODIFIER', 'gene_id': 'LRP4', 'genename': 'LRP4', 'hgvs_c': 'c.2507-515C>A'}}, 'genotype': {'filter_passing_reads_count': [2], 'genotype_lieklihoods': [90.0, 6.0, 0.0], 'genotype': '1/1', 'alleles': [0, 2]}, '1000g2015aug_all': 0.933307, 'chrom': '11', 'otherinfo': ['GT:AD:DP:GQ:PL', '1/1:0,2:2:6:90,6,0'], 'hg19': {'end': 46906042, 'start': 46906042}, 'start': 46906042, 'hgvs_id': 'chr11:g.46906042G>T', 'wellderly': {'adviser_score': '5~LRP4~Common, Predicted Neutral', 'alt': 'T', 'alleles': [{'freq': 0.9075, 'allele': 'T'}, {'freq': 0.0925, 'allele': 'G'}], 'gene': 'LRP4', 'chrom': '11', 'vartype': 'snp', 'hg19': {'end': 46906042, 'start': 46906042}, 'pos': 46906042, 'ref': 'G', 'genotypes': [{'freq': 0.005, 'count': 1, 'genotype': 'G/T'}, {'freq': 0.905, 'count': 181, 'genotype': 'T/T'}, {'freq': 0.08999999999999997, 'count': 18, 'genotype': 'G/G'}]}}\n",
      "4822\n",
      "querying 1-605...done.\n",
      "605 {'cytoband': {'Sub_Band': '3', 'Band': 'q', 'Region': '23', 'Chromosome': 11, 'Name': '11q23.3'}, 'func_knowngene': 'intronic', 'dbsnp': {'gene': {'symbol': 'CBL', 'geneid': '867'}, 'allele_origin': 'unspecified', 'var_subtype': 'ts', 'alleles': [{'freq': 0.6208, 'allele': 'G'}, {'freq': 0.3792, 'allele': 'A'}], 'flags': ['ASP', 'G5', 'G5A', 'GNO', 'INT', 'KGPhase1', 'KGPhase3', 'SLO'], 'vartype': 'snp', 'validated': True, 'gmaf': 0.3792, 'alt': 'A', 'dbsnp_build': 96, 'rsid': 'rs2186882', 'chrom': '11', 'class': 'SNV', 'hg19': {'end': 119168370, 'start': 119168370}, 'ref': 'G'}, 'cadd': {'dna': {'prot': 1.89, 'roll': -1.25, 'helt': -1.98, 'mgw': -0.3}, 'chmm': {'tssaflnk': 0.0, 'txwk': 0.157, 'het': 0.0, 'tssbiv': 0.0, 'znfrpts': 0.0, 'quies': 0.0, 'tx': 0.732, 'txflnk': 0.0, 'bivflnk': 0.0, 'enhbiv': 0.0, 'enh': 0.071, 'tssa': 0.0, 'reprpc': 0.0, 'reprpcwk': 0.0}, 'consdetail': 'intron', 'gene': {'gene_id': 'ENSG00000110395', 'ccds_id': 'CCDS8418.1', 'genename': 'CBL', 'feature_id': 'ENST00000264033'}, 'gc': 0.53, 'phast_cons': {'vertebrate': 0.005, 'mammalian': 0.004, 'primate': 0.009}, 'annotype': 'Transcript', 'fitcons': 0.099652, 'consequence': 'INTRONIC', 'gerp': {'n': 0.501, 's': 0.501}, 'mapability': {'35bp': 0, '20bp': 0}, 'alt': 'A', 'phred': 3.41, 'encode': {'h3k27ac': 6.0, 'h3k4me1': 10.52, 'nucleo': 1.6, 'exp': 0.64, 'h3k4me3': 4.0}, 'isknownvariant': 'TRUE', 'min_dist_tse': 10490, 'phylop': {'vertebrate': 0.515, 'mammalian': 0.507, 'primate': 0.299}, 'pos': 119168370, 'mutindex': -31, 'min_dist_tss': 91618, 'bstatistic': 236, 'intron': '14/15', '_license': 'http://goo.gl/bkpNhq', 'cpg': 0.05, 'rawscore': 0.081411, '1000g': {'eur': 0.31, 'amr': 0.22, 'af': 0.32, 'afr': 0.23, 'asn': 0.48}, 'ref': 'G', 'anc': 'G', 'consscore': 2, 'istv': 'FALSE', 'chrom': 11, 'length': 0, 'isderived': 'TRUE', 'type': 'SNV', 'segway': 'TF1'}, 'vcf': {'alt': 'A', 'ref': 'G', 'position': '119168370'}, 'chr': 'chr11', 'end': 119168370, 'gene_knowngene': 'CBL', 'ref': 'G', 'alt': 'A', 'snpeff': {'ann': {'total': '15', 'feature_id': 'NM_005188.3', 'transcript_biotype': 'Coding', 'rank': '14', 'feature_type': 'transcript', 'effect': 'intron_variant', 'putative_impact': 'MODIFIER', 'gene_id': 'CBL', 'genename': 'CBL', 'hgvs_c': 'c.2251+179G>A'}}, 'genotype': {'filter_passing_reads_count': [72], 'genotype_lieklihoods': [1220.0, 0.0, 1468.0], 'genotype': '0/1', 'alleles': [38, 34]}, '1000g2015aug_all': 0.379193, 'chrom': '11', 'otherinfo': ['GT:AD:DP:GQ:PL', '0/1:38,34:72:99:1220,0,1468'], 'hg19': {'end': 119168370, 'start': 119168370}, 'start': 119168370, 'hgvs_id': 'chr11:g.119168370G>A', 'wellderly': {'adviser_score': '5~CBL~Common, Predicted Neutral', 'alt': 'A', 'alleles': [{'freq': 0.265, 'allele': 'A'}, {'freq': 0.735, 'allele': 'G'}], 'gene': 'CBL', 'chrom': '11', 'vartype': 'snp', 'hg19': {'end': 119168370, 'start': 119168370}, 'pos': 119168370, 'ref': 'G', 'genotypes': [{'freq': 0.41, 'count': 82, 'genotype': 'G/A'}, {'freq': 0.06, 'count': 12, 'genotype': 'A/A'}, {'freq': 0.53, 'count': 106, 'genotype': 'G/G'}]}}\n",
      "5427\n",
      "Parsing Buffer...\n",
      "querying 1-603...done.\n",
      "603 {'dbsnp': {'allele_origin': 'unspecified', 'var_subtype': 'ins', 'alleles': [{'freq': 0.4397, 'allele': 'G'}, {'freq': 0.5603, 'allele': 'GTGTT'}], 'flags': ['ASP', 'G5', 'G5A', 'GNO', 'KGPhase3', 'SLO'], 'vartype': 'indel', 'validated': True, 'gmaf': 0.5603, 'alt': 'GTGTT', 'dbsnp_build': 126, 'rsid': 'rs34617846', 'chrom': '12', 'class': 'DIV', 'hg19': {'end': 42180371, 'start': 42180370}, 'ref': 'G'}, '1000g2015aug_all': 0.560304, 'chr': 'chr12', 'alt': 'TGTT', 'end': 42180370, 'func_knowngene': 'intergenic', 'ref': '-', 'wellderly': {'alt': 'GTGTT', 'alleles': [{'freq': 0.4475, 'allele': 'GTGTT'}, {'freq': 0.5525, 'allele': 'G'}], 'gene': 'PDZRN4', 'chrom': '12', 'vartype': 'ins', 'hg19': {'end': 42180371, 'start': 42180370}, 'pos': 42180370, 'ref': 'G', 'genotypes': [{'freq': 0.525, 'count': 105, 'genotype': 'G/GTGTT'}, {'freq': 0.185, 'count': 37, 'genotype': 'GTGTT/GTGTT'}, {'freq': 0.29000000000000004, 'count': 58, 'genotype': 'G/G'}]}, 'snpeff': {'ann': {'feature_id': 'PDZRN4-GXYLT1', 'feature_type': 'intergenic_region', 'effect': 'intergenic_region', 'putative_impact': 'MODIFIER', 'gene_id': 'PDZRN4-GXYLT1', 'genename': 'PDZRN4-GXYLT1', 'hgvs_c': 'n.null_nullinsTGTT'}}, 'vcf': {'alt': 'GTGTT', 'ref': 'G', 'position': '42180370'}, 'gene_knowngene': 'PDZRN4,GXYLT1', 'start': 42180370, 'otherinfo': ['GT:AD:DP:GQ:PL', '1/1:0,2:2:6:90,6,0'], 'genotype': {'filter_passing_reads_count': [2], 'genotype_lieklihoods': [90.0, 6.0, 0.0], 'genotype': '1/1', 'alleles': [0, 2]}, 'chrom': '12', 'genedetail_knowngene': 'dist=211978;dist=295278', 'hg19': {'end': 42180371, 'start': 42180370}, 'hgvs_id': 'chr12:g.42180370_42180371insTGTT', 'cytoband': {'Band': 'q', 'Region': '12', 'Chromosome': 12, 'Name': '12q12'}}\n",
      "603\n",
      "querying 1-601...done.\n",
      "601 {'cytoband': {'Sub_Band': '33', 'Band': 'q', 'Region': '24', 'Chromosome': 12, 'Name': '12q24.33'}, 'func_knowngene': 'intronic', 'dbsnp': {'gene': [{'symbol': 'ADGRD1', 'geneid': '283383'}, {'symbol': 'GPR133', 'geneid': '283383'}], 'allele_origin': 'unspecified', 'var_subtype': 'tv', 'alleles': [{'freq': 0.6506, 'allele': 'T'}, {'freq': 0.3494, 'allele': 'A'}], 'flags': ['ASP', 'G5', 'G5A', 'GNO', 'INT', 'KGPhase1', 'KGPhase3', 'SLO'], 'vartype': 'snp', 'validated': True, 'gmaf': 0.3494, 'alt': 'A', 'dbsnp_build': 120, 'rsid': 'rs11061292', 'chrom': '12', 'class': 'SNV', 'hg19': {'end': 131518981, 'start': 131518981}, 'ref': 'T'}, 'cadd': {'dna': {'prot': 2.92, 'roll': -0.92, 'helt': -3.8, 'mgw': 0.16}, 'chmm': {'tssaflnk': 0.0, 'txwk': 0.134, 'het': 0.063, 'tssbiv': 0.0, 'znfrpts': 0.008, 'quies': 0.488, 'tx': 0.031, 'txflnk': 0.0, 'bivflnk': 0.0, 'enhbiv': 0.0, 'enh': 0.0, 'tssa': 0.0, 'reprpc': 0.047, 'reprpcwk': 0.213}, 'consdetail': ['upstream', 'intron', 'intron,nc'], 'gene': [{'gene_id': 'ENSG00000268091', 'genename': 'AC078925.1', 'feature_id': 'ENST00000601092'}, {'gene_id': 'ENSG00000111452', 'ccds_id': 'CCDS9272.1', 'genename': 'GPR133', 'feature_id': 'ENST00000261654'}, {'gene_id': 'ENSG00000256810', 'genename': 'RP11-76C10.2', 'feature_id': 'ENST00000535370'}], 'gc': 0.54, 'phast_cons': {'vertebrate': 0.0, 'mammalian': 0.0, 'primate': 0.006}, 'annotype': ['Intergenic', 'Transcript', 'Transcript'], 'fitcons': 0.056797, 'consequence': ['UPSTREAM', 'INTRONIC', 'INTRONIC'], 'gerp': {'n': 0.997, 's': -0.352}, 'mapability': {'35bp': 1, '20bp': 1}, 'alt': 'A', 'phred': 4.106, 'encode': {'sig': {'faire': 0.01, 'polii': 0.0, 'myc': 0.0, 'dnase': 0.04, 'ctcf': 0.04}, 'h3k4me1': 2.44, 'h3k27ac': 1.0, 'h3k4me3': 1.72, 'occ': 2, 'nucleo': 1.1, 'p_val': {'polii': 0.0, 'comb': 1.1, 'ctcf': 0.0, 'faire': 0.0, 'mycp': 0.0, 'dnas': 1.82}}, 'isknownvariant': 'TRUE', 'min_dist_tse': 3866, 'phylop': {'vertebrate': -0.099, 'mammalian': -0.127, 'primate': 0.166}, 'pos': 131518981, 'mutindex': -68, 'min_dist_tss': 1052, 'bstatistic': 976, '_license': 'http://goo.gl/bkpNhq', 'cpg': 0.07, 'rawscore': 0.146306, '1000g': {'eur': 0.43, 'amr': 0.51, 'af': 0.33, 'afr': 0.25, 'asn': 0.14}, 'ref': 'T', 'anc': 'A', 'consscore': [1, 2, 2], 'istv': 'TRUE', 'chrom': 12, 'length': 0, 'isderived': 'FALSE', 'type': 'SNV', 'segway': 'TF0'}, 'vcf': {'alt': 'A', 'ref': 'T', 'position': '131518981'}, 'chr': 'chr12', 'end': 131518981, 'gene_knowngene': 'GPR133', 'ref': 'T', 'alt': 'A', 'snpeff': {'ann': {'total': '24', 'feature_id': 'NM_198827.3', 'transcript_biotype': 'Coding', 'rank': '13', 'feature_type': 'transcript', 'effect': 'intron_variant', 'putative_impact': 'MODIFIER', 'gene_id': 'GPR133', 'genename': 'GPR133', 'hgvs_c': 'c.1473+20096T>A'}}, 'genotype': {'filter_passing_reads_count': [3], 'genotype_lieklihoods': [130.0, 9.0, 0.0], 'genotype': '1/1', 'alleles': [0, 3]}, '1000g2015aug_all': 0.349441, 'chrom': '12', 'otherinfo': ['GT:AD:DP:GQ:PL', '1/1:0,3:3:9:130,9,0'], 'hg19': {'end': 131518981, 'start': 131518981}, 'start': 131518981, 'hgvs_id': 'chr12:g.131518981T>A', 'wellderly': {'alt': 'A', 'alleles': [{'freq': 0.4625, 'allele': 'A'}, {'freq': 0.5375, 'allele': 'T'}], 'gene': 'GPR133', 'chrom': '12', 'vartype': 'snp', 'hg19': {'end': 131518981, 'start': 131518981}, 'pos': 131518981, 'ref': 'T', 'genotypes': [{'freq': 0.445, 'count': 89, 'genotype': 'T/A'}, {'freq': 0.24, 'count': 48, 'genotype': 'A/A'}, {'freq': 0.31499999999999995, 'count': 63, 'genotype': 'T/T'}]}}\n",
      "1204\n",
      "querying 1-600...done.\n",
      "600 {'cytoband': {'Sub_Band': '2', 'Band': 'q', 'Region': '14', 'Chromosome': 13, 'Name': '13q14.2'}, 'dbsnp': {'allele_origin': 'unspecified', 'var_subtype': 'ins', 'alleles': [{'allele': 'C'}, {'allele': 'CA'}], 'flags': ['ASP'], 'vartype': 'indel', 'validated': False, 'alt': 'CA', 'dbsnp_build': 137, 'rsid': 'rs56897504', 'chrom': '13', 'class': 'DIV', 'hg19': {'end': 48004717, 'start': 48004716}, 'ref': 'C'}, 'chr': 'chr13', 'alt': 'A', 'end': 48004716, 'func_knowngene': 'intergenic', 'start': 48004716, 'wellderly': {'alt': 'CA', 'alleles': [{'freq': 0.025, 'allele': 'C'}, {'freq': 0.975, 'allele': 'CA'}], 'gene': 'SUCLA2', 'chrom': '13', 'vartype': 'ins', 'hg19': {'end': 48004717, 'start': 48004716}, 'pos': 48004716, 'ref': 'C', 'genotypes': [{'freq': 0.01, 'count': 2, 'genotype': 'C/CA'}, {'freq': 0.97, 'count': 194, 'genotype': 'CA/CA'}, {'freq': 0.020000000000000018, 'count': 4, 'genotype': 'C/C'}]}, 'snpeff': {'ann': {'feature_id': 'HTR2A-SUCLA2', 'feature_type': 'intergenic_region', 'effect': 'intergenic_region', 'putative_impact': 'MODIFIER', 'gene_id': 'HTR2A-SUCLA2', 'genename': 'HTR2A-SUCLA2', 'hgvs_c': 'n.null_nullinsA'}}, 'vcf': {'alt': 'CA', 'ref': 'C', 'position': '48004716'}, 'gene_knowngene': 'HTR2A,Metazoa_SRP', 'ref': '-', 'genotype': {'filter_passing_reads_count': [135], 'genotype_lieklihoods': [6141.0, 412.0, 0.0], 'genotype': '1/1', 'alleles': [0, 135]}, 'chrom': '13', 'genedetail_knowngene': 'dist=533505;dist=28359', 'hg19': {'end': 48004717, 'start': 48004716}, 'hgvs_id': 'chr13:g.48004716_48004717insA', 'otherinfo': ['GT:AD:DP:GQ:PL', '1/1:0,135:135:99:6141,412,0']}\n",
      "1804\n",
      "querying 1-606...done.\n",
      "606 {'func_knowngene': 'intronic', 'chr': 'chr14', 'gene_knowngene': 'SOS2', 'ref': 'A', 'alt': '-', 'genotype': {'filter_passing_reads_count': [39], 'genotype_lieklihoods': [105.0, 0.0, 721.0], 'genotype': '0/1', 'alleles': [31, 8]}, 'end': 50667403, 'notfound': True, 'cytoband': {'Sub_Band': '3', 'Band': 'q', 'Region': '21', 'Chromosome': 14, 'Name': '14q21.3'}, 'start': 50667403, 'hgvs_id': 'chr14:g.50667403_50667403del', 'otherinfo': ['GT:AD:DP:GQ:PL', '0/1:31,8:39:99:105,0,721']}\n",
      "2410\n",
      "querying 1-604...done.\n",
      "604 {'otherinfo': ['GT:AD:DP:GQ:PL', '1/1:0,5:5:15:224,15,0'], 'cytoband': {'Sub_Band': '2', 'Band': 'q', 'Region': '11', 'Chromosome': 15, 'Name': '15q11.2'}, 'genedetail_knowngene': 'dist=465672;dist=11802', 'dbsnp': {'allele_origin': 'unspecified', 'var_subtype': 'ts', 'alleles': [{'freq': 0.2196, 'allele': 'T'}, {'freq': 0.7804, 'allele': 'C'}], 'flags': ['ASP', 'G5', 'G5A', 'GNO', 'KGPhase1', 'KGPhase3', 'SLO'], 'vartype': 'snp', 'validated': True, 'gmaf': 0.7804, 'alt': 'C', 'dbsnp_build': 116, 'rsid': 'rs8024085', 'chrom': '15', 'class': 'SNV', 'hg19': {'end': 24398122, 'start': 24398122}, 'ref': 'T'}, 'cadd': {'dna': {'prot': 3.23, 'roll': 0.83, 'helt': -4.27, 'mgw': 0.14}, 'chmm': {'tssaflnk': 0.0, 'txwk': 0.008, 'het': 0.102, 'tssbiv': 0.0, 'znfrpts': 0.0, 'quies': 0.89, 'tx': 0.0, 'txflnk': 0.0, 'bivflnk': 0.0, 'enhbiv': 0.0, 'enh': 0.0, 'tssa': 0.0, 'reprpc': 0.0, 'reprpcwk': 0.0}, 'consdetail': 'intergenic', 'cpg': 0.0, 'gc': 0.4, 'phast_cons': {'vertebrate': 0.014, 'mammalian': 0.012, 'primate': 0.012}, 'annotype': 'Intergenic', 'fitcons': 0.061782, 'consequence': 'INTERGENIC', 'gerp': {'n': 0.109, 's': 0.109}, 'mapability': {'35bp': 0.5, '20bp': 0.333333}, 'alt': 'C', 'phred': 1.041, 'encode': {'h3k4me1': 1.96, 'h3k27ac': 1.0, 'h3k4me3': 0.56}, 'isknownvariant': 'TRUE', 'phylop': {'vertebrate': 0.179, 'mammalian': 0.173, 'primate': 0.176}, 'pos': 24398122, 'mutindex': -21, 'bstatistic': 994, '_license': 'http://goo.gl/bkpNhq', 'rawscore': -0.21104, '1000g': {'eur': 0.67, 'amr': 0.76, 'af': 0.73, 'afr': 0.88, 'asn': 0.68}, 'ref': 'T', 'consscore': 0, 'istv': 'FALSE', 'scoresegdup': 0.95, 'chrom': 15, 'min_dist_tse': 9780, 'type': 'SNV', 'min_dist_tss': 16883, 'length': 0, 'segway': 'D'}, 'vcf': {'alt': 'C', 'ref': 'T', 'position': '24398122'}, 'chr': 'chr15', 'end': 24398122, 'gene_knowngene': 'NDN,AK124131', 'start': 24398122, 'genomicsuperdups': {'Score': 0.945505, 'Name': 'chr15:24459634'}, 'alt': 'C', 'snpeff': {'ann': {'feature_id': 'NDN-PWRN2', 'feature_type': 'intergenic_region', 'effect': 'intergenic_region', 'putative_impact': 'MODIFIER', 'gene_id': 'NDN-PWRN2', 'genename': 'NDN-PWRN2'}}, 'genotype': {'filter_passing_reads_count': [5], 'genotype_lieklihoods': [224.0, 15.0, 0.0], 'genotype': '1/1', 'alleles': [0, 5]}, '1000g2015aug_all': 0.780351, 'chrom': '15', 'func_knowngene': 'intergenic', 'hg19': {'end': 24398122, 'start': 24398122}, 'ref': 'T', 'hgvs_id': 'chr15:g.24398122T>C', 'wellderly': {'alt': 'C', 'alleles': [{'freq': 0.6825, 'allele': 'C'}, {'freq': 0.3175, 'allele': 'T'}], 'gene': ['PWRN2', 'AK124131'], 'chrom': '15', 'vartype': 'snp', 'hg19': {'end': 24398122, 'start': 24398122}, 'pos': 24398122, 'ref': 'T', 'genotypes': [{'freq': 0.395, 'count': 79, 'genotype': 'T/C'}, {'freq': 0.485, 'count': 97, 'genotype': 'C/C'}, {'freq': 0.12, 'count': 24, 'genotype': 'T/T'}]}}\n",
      "3014\n",
      "querying 1-608...done.\n",
      "608 {'cytoband': {'Sub_Band': '3', 'Band': 'q', 'Region': '25', 'Chromosome': 15, 'Name': '15q25.3'}, 'func_knowngene': 'intronic', 'dbsnp': {'gene': {'symbol': 'NTRK3', 'geneid': '4916'}, 'allele_origin': 'unspecified', 'var_subtype': 'tv', 'alleles': [{'freq': 0.4633, 'allele': 'A'}, {'freq': 0.5367, 'allele': 'C'}], 'flags': ['ASP', 'G5', 'G5A', 'GNO', 'INT', 'KGPhase1', 'KGPhase3', 'RV', 'SLO'], 'vartype': 'snp', 'validated': True, 'gmaf': 0.5367, 'alt': 'C', 'dbsnp_build': 107, 'rsid': 'rs3784414', 'chrom': '15', 'class': 'SNV', 'hg19': {'end': 88653528, 'start': 88653528}, 'ref': 'A'}, 'cadd': {'dna': {'prot': 3.84, 'roll': 7.99, 'helt': -1.37, 'mgw': 1.25}, 'chmm': {'tssaflnk': 0.0, 'txwk': 0.11, 'het': 0.047, 'tssbiv': 0.0, 'znfrpts': 0.0, 'quies': 0.606, 'tx': 0.0, 'txflnk': 0.0, 'bivflnk': 0.0, 'enhbiv': 0.0, 'enh': 0.0, 'tssa': 0.0, 'reprpc': 0.031, 'reprpcwk': 0.205}, 'consdetail': 'intron', 'gene': {'gene_id': 'ENSG00000140538', 'ccds_id': 'CCDS32322.1', 'genename': 'NTRK3', 'feature_id': 'ENST00000360948'}, 'gc': 0.48, 'phast_cons': {'vertebrate': 0.0, 'mammalian': 0.0, 'primate': 0.011}, 'annotype': 'Transcript', 'fitcons': 0.061782, 'consequence': 'INTRONIC', 'gerp': {'n': 2.83, 's': -1.76}, 'mapability': {'35bp': 1, '20bp': 1}, 'alt': 'C', 'phred': 1.21, 'encode': {'nucleo': 0.5, 'h3k4me1': 1.0, 'h3k27ac': 4.2, 'h3k4me3': 1.88}, 'isknownvariant': 'TRUE', 'min_dist_tse': 37696, 'phylop': {'vertebrate': -0.36, 'mammalian': -0.375, 'primate': 0.518}, 'pos': 88653528, 'mutindex': -7, 'min_dist_tss': 16065, 'bstatistic': 916, 'intron': '12/18', '_license': 'http://goo.gl/bkpNhq', 'cpg': 0.03, 'rawscore': -0.179539, '1000g': {'eur': 0.54, 'amr': 0.52, 'af': 0.55, 'afr': 0.81, 'asn': 0.34}, 'ref': 'A', 'anc': 'C', 'consscore': 2, 'istv': 'TRUE', 'chrom': 15, 'length': 0, 'isderived': 'FALSE', 'type': 'SNV', 'segway': 'TF0'}, 'vcf': {'alt': 'C', 'ref': 'A', 'position': '88653528'}, 'chr': 'chr15', 'end': 88653528, 'gene_knowngene': 'NTRK3', 'ref': 'A', 'alt': 'C', 'snpeff': {'ann': [{'total': '19', 'feature_id': 'NM_001012338.2', 'transcript_biotype': 'Coding', 'rank': '13', 'feature_type': 'transcript', 'effect': 'intron_variant', 'putative_impact': 'MODIFIER', 'gene_id': 'NTRK3', 'genename': 'NTRK3', 'hgvs_c': 'c.1396+15974T>G'}, {'total': '17', 'feature_id': 'NM_001243101.1', 'transcript_biotype': 'Coding', 'rank': '12', 'feature_type': 'transcript', 'effect': 'intron_variant', 'putative_impact': 'MODIFIER', 'gene_id': 'NTRK3', 'genename': 'NTRK3', 'hgvs_c': 'c.1372+15974T>G'}, {'total': '18', 'feature_id': 'NM_002530.3', 'transcript_biotype': 'Coding', 'rank': '13', 'feature_type': 'transcript', 'effect': 'intron_variant', 'putative_impact': 'MODIFIER', 'gene_id': 'NTRK3', 'genename': 'NTRK3', 'hgvs_c': 'c.1396+15974T>G'}, {'total': '15', 'feature_id': 'NM_001007156.2', 'transcript_biotype': 'Coding', 'rank': '13', 'feature_type': 'transcript', 'effect': 'intron_variant', 'putative_impact': 'MODIFIER', 'gene_id': 'NTRK3', 'genename': 'NTRK3', 'hgvs_c': 'c.1396+15974T>G'}]}, 'genotype': {'filter_passing_reads_count': [397], 'genotype_lieklihoods': [16852.0, 1194.0, 0.0], 'genotype': '1/1', 'alleles': [0, 397]}, '1000g2015aug_all': 0.536741, 'chrom': '15', 'otherinfo': ['GT:AD:DP:GQ:PL', '1/1:0,397:397:99:16852,1194,0'], 'hg19': {'end': 88653528, 'start': 88653528}, 'start': 88653528, 'hgvs_id': 'chr15:g.88653528A>C', 'wellderly': {'adviser_score': '5~NTRK3~Common, Predicted Neutral', 'alt': 'C', 'alleles': [{'freq': 0.4425, 'allele': 'A'}, {'freq': 0.5575, 'allele': 'C'}], 'gene': 'NTRK3', 'chrom': '15', 'vartype': 'snp', 'hg19': {'end': 88653528, 'start': 88653528}, 'pos': 88653528, 'ref': 'A', 'genotypes': [{'freq': 0.32, 'count': 64, 'genotype': 'C/C'}, {'freq': 0.475, 'count': 95, 'genotype': 'A/C'}, {'freq': 0.20500000000000007, 'count': 41, 'genotype': 'A/A'}]}}\n",
      "3622\n",
      "querying 1-600...done.\n",
      "600 {'dbsnp': {'gene': {'symbol': 'LOC101929031', 'geneid': '101929031'}, 'allele_origin': 'unspecified', 'var_subtype': 'tv', 'alleles': [{'allele': 'C'}, {'allele': 'A'}], 'flags': ['ASP', 'GNO', 'R5', 'SLO'], 'vartype': 'snp', 'validated': True, 'alt': 'A', 'dbsnp_build': 125, 'rsid': 'rs28637389', 'chrom': '16', 'class': 'SNV', 'hg19': {'end': 33373656, 'start': 33373656}, 'ref': 'C'}, 'chr': 'chr16', 'genomicsuperdups': {'Score': 0.967986, 'Name': 'chr15:20345907'}, 'alt': 'A', 'end': 33373656, 'func_knowngene': 'intergenic', 'ref': 'C', 'wellderly': {'alt': 'A', 'alleles': [{'freq': 0.08, 'allele': 'A'}, {'freq': 0.92, 'allele': 'C'}], 'gene': 'BC041879', 'chrom': '16', 'vartype': 'snp', 'hg19': {'end': 33373656, 'start': 33373656}, 'pos': 33373656, 'ref': 'C', 'genotypes': [{'freq': 0.16, 'count': 32, 'genotype': 'C/A'}, {'freq': 0.84, 'count': 168, 'genotype': 'C/C'}]}, 'snpeff': {'ann': {'feature_id': 'LOC390705.2-RNU6-76P', 'feature_type': 'intergenic_region', 'effect': 'intergenic_region', 'putative_impact': 'MODIFIER', 'gene_id': 'LOC390705.2-RNU6-76P', 'genename': 'LOC390705-RNU6-76P'}}, 'vcf': {'alt': 'A', 'ref': 'C', 'position': '33373656'}, 'gene_knowngene': 'DQ571479,RNU6-76P', 'start': 33373656, 'otherinfo': ['GT:AD:DP:GQ:PL', '0/1:68,12:80:99:255,0,2578'], 'genotype': {'filter_passing_reads_count': [80], 'genotype_lieklihoods': [255.0, 0.0, 2578.0], 'genotype': '0/1', 'alleles': [68, 12]}, 'chrom': '16', 'genedetail_knowngene': 'dist=47173;dist=189554', 'hg19': {'end': 33373656, 'start': 33373656}, 'hgvs_id': 'chr16:g.33373656C>A', 'cytoband': {'Sub_Band': '2', 'Band': 'p', 'Region': '11', 'Chromosome': 16, 'Name': '16p11.2'}}\n",
      "4222\n",
      "querying 1-604...done.\n",
      "604 {'cytoband': {'Sub_Band': '1', 'Band': 'q', 'Region': '23', 'Chromosome': 16, 'Name': '16q23.1'}, 'func_knowngene': 'intronic', 'dbsnp': {'gene': {'symbol': 'WWOX', 'geneid': '51741'}, 'allele_origin': 'unspecified', 'var_subtype': 'tv', 'alleles': [{'freq': 0.4539, 'allele': 'C'}, {'freq': 0.5461, 'allele': 'G'}], 'flags': ['ASP', 'G5', 'G5A', 'GNO', 'HD', 'INT', 'KGPhase1', 'KGPhase3', 'SLO'], 'vartype': 'snp', 'validated': True, 'gmaf': 0.5461, 'alt': 'G', 'dbsnp_build': 120, 'rsid': 'rs11150125', 'chrom': '16', 'class': 'SNV', 'hg19': {'end': 79011252, 'start': 79011252}, 'ref': 'C'}, 'cadd': {'dna': {'prot': 0.28, 'roll': -1.54, 'helt': 2.89, 'mgw': 0.04}, 'chmm': {'tssaflnk': 0.0, 'txwk': 0.0, 'het': 0.039, 'tssbiv': 0.0, 'znfrpts': 0.0, 'quies': 0.866, 'tx': 0.0, 'txflnk': 0.0, 'bivflnk': 0.0, 'enhbiv': 0.0, 'enh': 0.0, 'tssa': 0.0, 'reprpc': 0.008, 'reprpcwk': 0.079}, 'consdetail': ['downstream', 'intron'], 'gene': [{'gene_id': 'ENSG00000268977', 'genename': 'PIH1', 'feature_id': 'ENST00000594986'}, {'gene_id': 'ENSG00000186153', 'ccds_id': 'CCDS42196.1', 'genename': 'WWOX', 'feature_id': 'ENST00000566780'}], 'gc': 0.47, 'phast_cons': {'vertebrate': 0.0, 'mammalian': 0.0, 'primate': 0.02}, 'annotype': ['Intergenic', 'Transcript'], 'fitcons': 0.061782, 'consequence': ['DOWNSTREAM', 'INTRONIC'], 'gerp': {'n': 4.46, 's': -8.92}, 'mapability': {'35bp': 1, '20bp': 1}, 'alt': 'G', 'phred': 2.293, 'encode': {'nucleo': 1.9, 'h3k4me1': 6.0, 'h3k27ac': 4.0, 'h3k4me3': 2.32}, 'isknownvariant': 'TRUE', 'min_dist_tse': 234965, 'phylop': {'vertebrate': -1.761, 'mammalian': -2.102, 'primate': -0.429}, 'pos': 79011252, 'mutindex': 26, 'min_dist_tss': 877701, 'bstatistic': 994, '_license': 'http://goo.gl/bkpNhq', 'cpg': 0.03, 'rawscore': -0.031544, '1000g': {'eur': 0.73, 'amr': 0.66, 'af': 0.58, 'afr': 0.33, 'asn': 0.55}, 'ref': 'C', 'anc': 'C', 'consscore': [1, 2], 'istv': 'TRUE', 'chrom': 16, 'length': 0, 'isderived': 'TRUE', 'type': 'SNV', 'segway': 'R3'}, 'vcf': {'alt': 'G', 'ref': 'C', 'position': '79011252'}, 'chr': 'chr16', 'end': 79011252, 'gene_knowngene': 'WWOX', 'ref': 'C', 'alt': 'G', 'snpeff': {'ann': [{'total': '8', 'feature_id': 'NM_016373.3', 'transcript_biotype': 'Coding', 'rank': '8', 'feature_type': 'transcript', 'effect': 'intron_variant', 'putative_impact': 'MODIFIER', 'gene_id': 'WWOX', 'genename': 'WWOX', 'hgvs_c': 'c.1057-234253C>G'}, {'total': '7', 'feature_id': 'NM_001291997.1', 'transcript_biotype': 'Coding', 'rank': '7', 'feature_type': 'transcript', 'effect': 'intron_variant', 'putative_impact': 'MODIFIER', 'gene_id': 'WWOX', 'genename': 'WWOX', 'hgvs_c': 'c.718-234253C>G'}]}, 'genotype': {'filter_passing_reads_count': [2], 'genotype_lieklihoods': [90.0, 6.0, 0.0], 'genotype': '1/1', 'alleles': [0, 2]}, '1000g2015aug_all': 0.546126, 'chrom': '16', 'otherinfo': ['GT:AD:DP:GQ:PL', '1/1:0,2:2:6:90,6,0'], 'hg19': {'end': 79011252, 'start': 79011252}, 'start': 79011252, 'hgvs_id': 'chr16:g.79011252C>G', 'wellderly': {'adviser_score': '5~WWOX~Common, Predicted Neutral', 'alt': 'G', 'alleles': [{'freq': 0.255, 'allele': 'C'}, {'freq': 0.745, 'allele': 'G'}], 'gene': 'WWOX', 'chrom': '16', 'vartype': 'snp', 'hg19': {'end': 79011252, 'start': 79011252}, 'pos': 79011252, 'ref': 'C', 'genotypes': [{'freq': 0.6, 'count': 120, 'genotype': 'G/G'}, {'freq': 0.29, 'count': 58, 'genotype': 'C/G'}, {'freq': 0.1100000000000001, 'count': 22, 'genotype': 'C/C'}]}}\n",
      "4826\n",
      "querying 1-603...done.\n",
      "603 {'cytoband': {'Sub_Band': '2', 'Band': 'p', 'Region': '11', 'Chromosome': 17, 'Name': '17p11.2'}, 'dbsnp': {'gene': {'symbol': 'NCOR1', 'geneid': '9611'}, 'allele_origin': 'unspecified', 'var_subtype': 'ts', 'alleles': [{'allele': 'T'}, {'allele': 'C'}], 'flags': ['ASP', 'G5', 'G5A', 'U5'], 'vartype': 'snp', 'validated': True, 'alt': 'C', 'dbsnp_build': 131, 'rsid': 'rs79572007', 'chrom': '17', 'class': 'SNV', 'hg19': {'end': 16097921, 'start': 16097921}, 'ref': 'T'}, 'chr': 'chr17', 'tfbsconssites': {'Score': 926.0, 'Name': 'V$FOXJ2_01'}, 'genomicsuperdups': {'Score': 0.936441, 'Name': 'chr17:21520426'}, 'alt': 'C', 'geno2mp': {'hpo_count': 62}, 'end': 16097921, 'func_knowngene': 'UTR5', 'exac_nontcga': {'hom': {'hom_amr': 0, 'hom_nfe': 0, 'hom_sas': 0, 'hom_eas': 0, 'hom_afr': 0, 'hom_oth': 0, 'hom_fin': 0}, 'clippingranksum': -0.348, 'het': {'het_fin': 836, 'het_amr': 363, 'het_eas': 463, 'het_nfe': 3765, 'het_sas': 3876, 'het_afr': 1162, 'het_oth': 100}, 'ac': {'ac_hom': 0, 'ac_het': 10565, 'ac_amr': 363, 'ac_nfe': 3765, 'ac': 13052, 'ac_sas': 3876, 'ac_adj': 10565, 'ac_eas': 463, 'ac_male': 6128, 'ac_afr': 1162, 'ac_female': 4437, 'ac_oth': 100, 'ac_fin': 836}, 'alleles': 'C', 'vqslod': 22.01, 'an': {'an_amr': 1184, 'an_adj': 28126, 'an_female': 12082, 'an_male': 16044, 'an_afr': 3262, 'an': 104788, 'an_oth': 236, 'an_sas': 8486, 'an_nfe': 10692, 'an_fin': 2318, 'an_eas': 1948}, 'readposranksum': 0.493, 'inbreedingcoeff': -0.2793, 'ref': 'T', 'baseqranksum': -2.166, 'alt': 'C', 'type': 'snp', 'ncc': 1643, 'culprit': 'MQRankSum', 'chrom': 17, 'mq': {'mq': 48.18, 'mqranksum': -2.724, 'mq0': 0}, 'fs': 0.0, 'af': 0.125, 'pos': 16097921, 'qd': 4.46}, 'ref': 'T', 'snpeff': {'ann': [{'distance_to_feature': '38', 'total': '46', 'genename': 'NCOR1', 'transcript_biotype': 'Coding', 'rank': '2', 'feature_type': 'transcript', 'effect': '5_prime_UTR_variant', 'putative_impact': 'MODIFIER', 'gene_id': 'NCOR1', 'feature_id': 'NM_006311.3', 'hgvs_c': 'c.-38A>G'}, {'distance_to_feature': '38', 'total': '45', 'genename': 'NCOR1', 'transcript_biotype': 'Coding', 'rank': '1', 'feature_type': 'transcript', 'effect': '5_prime_UTR_variant', 'putative_impact': 'MODIFIER', 'gene_id': 'NCOR1', 'feature_id': 'NM_001190440.1', 'hgvs_c': 'c.-38A>G'}, {'distance_to_feature': '38', 'total': '19', 'genename': 'NCOR1', 'transcript_biotype': 'Coding', 'rank': '1', 'feature_type': 'transcript', 'effect': '5_prime_UTR_variant', 'putative_impact': 'MODIFIER', 'gene_id': 'NCOR1', 'feature_id': 'NM_001190438.1', 'hgvs_c': 'c.-38A>G'}]}, 'cadd': {'dna': {'prot': 2.81, 'roll': 1.47, 'helt': -3.66, 'mgw': 0.25}, 'chmm': {'tssaflnk': 0.0, 'txwk': 0.669, 'het': 0.0, 'tssbiv': 0.0, 'znfrpts': 0.008, 'quies': 0.024, 'tx': 0.252, 'txflnk': 0.0, 'bivflnk': 0.0, 'enhbiv': 0.0, 'enh': 0.016, 'tssa': 0.0, 'reprpc': 0.0, 'reprpcwk': 0.0}, 'consdetail': ['regulatory', 'downstream', '5_prime_UTR'], 'gene': [{'feature_id': 'ENSR00001341603'}, {'gene_id': 'ENSG00000239221', 'genename': 'RN7SL442P', 'feature_id': 'ENST00000473804'}, {'gene_id': 'ENSG00000141027', 'genename': 'NCOR1', 'ccds_id': 'CCDS11175.1', 'cds': {'cdna_pos': 221, 'rel_cdna_pos': 0.02}, 'feature_id': 'ENST00000268712'}], 'gc': 0.37, 'phast_cons': {'vertebrate': 0.997, 'mammalian': 0.998, 'primate': 0.103}, 'annotype': ['RegulatoryFeature', 'Intergenic', 'Transcript'], 'fitcons': 0.295356, 'consequence': ['REGULATORY', 'DOWNSTREAM', '5PRIME_UTR'], 'gerp': {'n': 5.34, 'rs': 899.2, 'rs_pval': 7.39726e-158, 's': 2.25}, 'mapability': {'35bp': 0.5, '20bp': 0.333333}, 'alt': 'C', 'phred': 1.285, 'encode': {'h3k27ac': 7.88, 'h3k4me1': 12.44, 'nucleo': 2.9, 'exp': 118.59, 'h3k4me3': 5.48}, 'isknownvariant': 'FALSE', 'min_dist_tse': 22744, 'phylop': {'vertebrate': 0.573, 'mammalian': 0.238, 'primate': -1.494}, 'pos': 16097921, 'tf': {'bs_peaks_max': 87.8777, 'bs_peaks': 5, 'bs': 5}, 'mutindex': 41, 'bstatistic': 253, '_license': 'http://goo.gl/bkpNhq', 'cpg': 0.0, 'rawscore': -0.166565, 'isderived': 'TRUE', 'ref': 'T', 'anc': 'T', 'consscore': [4, 1, 3], 'istv': 'FALSE', 'scoresegdup': 0.94, 'chrom': 17, 'length': 0, 'min_dist_tss': 5, 'type': 'SNV', 'segway': 'R4'}, 'vcf': {'alt': 'C', 'ref': 'T', 'position': '16097921'}, 'gene_knowngene': 'NCOR1', 'start': 16097921, 'exac': {'vqslod': 22.01, 'readposranksum': 0.493, 'alleles': 'C', 'an': {'an_amr': 1340, 'an_adj': 35190, 'an_female': 16990, 'an_male': 18200, 'an_afr': 4020, 'an': 119852, 'an_oth': 334, 'an_sas': 8520, 'an_nfe': 16364, 'an_fin': 2318, 'an_eas': 2294}, 'inbreedingcoeff': -0.2793, 'dp': 1287263, 'ncc': 1643, 'qd': 4.46, 'mq': {'mq': 48.18, 'mqranksum': -2.724, 'mq0': 0}, 'filter': 'InbreedingCoeff_Filter', 'af': 0.131, 'pos': 16097921, 'qual': 6673501.96, 'hom': {'ac_hom': 0, 'hom_amr': 0, 'hom_nfe': 0, 'hom_sas': 0, 'hom_eas': 0, 'hom_afr': 0, 'hom_oth': 0, 'hom_fin': 0}, 'clippingranksum': -0.348, 'het': {'ac_het': 12908, 'het_fin': 836, 'het_amr': 421, 'het_eas': 574, 'het_nfe': 5631, 'het_sas': 3888, 'het_afr': 1429, 'het_oth': 129}, 'ac': {'ac_hom': 0, 'ac_het': 12908, 'ac_amr': 421, 'ac_nfe': 5631, 'ac': 15678, 'ac_sas': 3888, 'ac_adj': 12908, 'ac_eas': 574, 'ac_male': 6798, 'ac_afr': 1429, 'ac_female': 6110, 'ac_oth': 129, 'ac_fin': 836}, 'alt': 'C', 'fs': 0.0, 'ref': 'T', 'baseqranksum': -2.166, 'type': 'snp', 'culprit': 'MQRankSum', 'chrom': 17}, 'genotype': {'filter_passing_reads_count': [398], 'genotype_lieklihoods': [797.0, 0.0, 14968.0], 'genotype': '0/1', 'alleles': [358, 40]}, 'chrom': '17', 'genedetail_knowngene': 'uc002gpn.3:c.-38A>G,uc002gpo.3:c.-38A>G,uc002gpp.1:c.-38A>G,uc002gpr.3:c.-38A>G,uc002gps.2:c.-38A>G,uc010cpb.2:c.-38A>G,uc010coz.2:c.-29563A>G,uc010cpa.2:c.-38A>G,uc002gpu.3:c.-38A>G', 'hg19': {'end': 16097921, 'start': 16097921}, 'hgvs_id': 'chr17:g.16097921T>C', 'otherinfo': ['GT:AD:DP:GQ:PL', '0/1:358,40:398:99:797,0,14968']}\n",
      "5429\n",
      "Parsing Buffer...\n",
      "querying 1-605...done.\n",
      "605 {'func_knowngene': 'intronic', 'chr': 'chr17', 'gene_knowngene': 'TBC1D3B', 'ref': 'C', 'genomicsuperdups': {'Score': 0.991832, 'Name': 'chr17:34791215'}, 'alt': 'T', 'genotype': {'filter_passing_reads_count': [9], 'genotype_lieklihoods': [108.0, 0.0, 243.0], 'genotype': '0/1', 'alleles': [6, 3]}, 'end': 34499555, 'notfound': True, 'cytoband': {'Band': 'q', 'Region': '12', 'Chromosome': 17, 'Name': '17q12'}, 'start': 34499555, 'hgvs_id': 'chr17:g.34499555C>T', 'otherinfo': ['GT:AD:DP:GQ:PL', '0/1:6,3:9:99:108,0,243']}\n",
      "605\n",
      "querying 1-603...done.\n",
      "603 {'func_knowngene': 'intronic', 'chr': 'chr17', 'gene_knowngene': 'PRKCA', 'ref': '-', 'alt': 'TTTTTTTTTTTTTT', 'genotype': {'filter_passing_reads_count': [98], 'genotype_lieklihoods': [1405.0, 0.0, 684.0], 'genotype': '0/1', 'alleles': [40, 58]}, 'end': 64709167, 'notfound': True, 'cytoband': {'Sub_Band': '2', 'Band': 'q', 'Region': '24', 'Chromosome': 17, 'Name': '17q24.2'}, 'start': 64709167, 'hgvs_id': 'chr17:g.64709167_64709168insTTTTTTTTTTTTTT', 'otherinfo': ['GT:AD:DP:GQ:PL', '0/1:40,58:98:99:1405,0,684']}\n",
      "1208\n",
      "querying 1-604...done.\n",
      "604 {'cytoband': {'Sub_Band': '3', 'Band': 'q', 'Region': '12', 'Chromosome': 18, 'Name': '18q12.3'}, 'func_knowngene': 'intronic', 'dbsnp': {'gene': {'symbol': 'SETBP1', 'geneid': '26040'}, 'allele_origin': 'unspecified', 'var_subtype': 'ts', 'alleles': [{'freq': 0.8131, 'allele': 'C'}, {'freq': 0.1869, 'allele': 'T'}], 'flags': ['ASP', 'G5', 'GNO', 'HD', 'INT', 'KGPhase1', 'KGPhase3', 'SLO'], 'vartype': 'snp', 'validated': True, 'gmaf': 0.1869, 'alt': 'T', 'dbsnp_build': 121, 'rsid': 'rs12954183', 'chrom': '18', 'class': 'SNV', 'hg19': {'end': 42449598, 'start': 42449598}, 'ref': 'C'}, 'cadd': {'dna': {'prot': -2.51, 'roll': 0.83, 'helt': 1.86, 'mgw': 0.15}, 'chmm': {'tssaflnk': 0.0, 'txwk': 0.299, 'het': 0.0, 'tssbiv': 0.0, 'znfrpts': 0.0, 'quies': 0.465, 'tx': 0.102, 'txflnk': 0.0, 'bivflnk': 0.0, 'enhbiv': 0.0, 'enh': 0.016, 'tssa': 0.0, 'reprpc': 0.0, 'reprpcwk': 0.087}, 'consdetail': ['regulatory', 'intron'], 'gene': [{'feature_id': 'ENSR00001514687'}, {'gene_id': 'ENSG00000152217', 'ccds_id': 'CCDS11923.2', 'genename': 'SETBP1', 'feature_id': 'ENST00000282030'}], 'gc': 0.51, 'phast_cons': {'vertebrate': 0.0, 'mammalian': 0.0, 'primate': 0.062}, 'annotype': ['RegulatoryFeature', 'Transcript'], 'fitcons': 0.062364, 'consequence': ['REGULATORY', 'INTRONIC'], 'gerp': {'n': 5.35, 's': -3.26}, 'mapability': {'35bp': 1, '20bp': 1}, 'alt': 'T', 'phred': 6.754, 'encode': {'nucleo': 1.6, 'h3k4me1': 2.36, 'h3k27ac': 1.0, 'h3k4me3': 1.0}, 'isknownvariant': 'TRUE', 'min_dist_tse': 7782, 'phylop': {'vertebrate': -0.492, 'mammalian': -0.557, 'primate': 0.645}, 'pos': 42449598, 'tf': {'bs_peaks_max': 257.6054, 'bs_peaks': 10, 'bs': 10}, 'mutindex': -6, 'min_dist_tss': 188735, 'bstatistic': 838, '_license': 'http://goo.gl/bkpNhq', 'cpg': 0.04, 'rawscore': 0.416288, '1000g': {'eur': 0.27, 'amr': 0.22, 'af': 0.22, 'afr': 0.04, 'asn': 0.29}, 'ref': 'C', 'anc': 'C', 'consscore': [4, 2], 'istv': 'FALSE', 'chrom': 18, 'length': 0, 'isderived': 'TRUE', 'type': 'SNV', 'segway': 'H3K9me1'}, 'ref': 'C', 'vcf': {'alt': 'T', 'ref': 'C', 'position': '42449598'}, 'chr': 'chr18', 'end': 42449598, 'gene_knowngene': 'SETBP1', 'start': 42449598, 'alt': 'T', 'snpeff': {'ann': [{'total': '5', 'feature_id': 'NM_015559.2', 'transcript_biotype': 'Coding', 'rank': '3', 'feature_type': 'transcript', 'effect': 'intron_variant', 'putative_impact': 'MODIFIER', 'gene_id': 'SETBP1', 'genename': 'SETBP1', 'hgvs_c': 'c.540+350C>T'}, {'total': '3', 'feature_id': 'NM_001130110.1', 'transcript_biotype': 'Coding', 'rank': '3', 'feature_type': 'transcript', 'effect': 'intron_variant', 'putative_impact': 'MODIFIER', 'gene_id': 'SETBP1', 'genename': 'SETBP1', 'hgvs_c': 'c.540+350C>T'}]}, 'genotype': {'filter_passing_reads_count': [28], 'genotype_lieklihoods': [382.0, 0.0, 590.0], 'genotype': '0/1', 'alleles': [17, 11]}, '1000g2015aug_all': 0.186901, 'chrom': '18', 'otherinfo': ['GT:AD:DP:GQ:PL', '0/1:17,11:28:99:382,0,590'], 'hg19': {'end': 42449598, 'start': 42449598}, 'grasp': {'in_gene': '(SETBP1)', 'initial_sample_description': ['Up to 3445 EA cases', ' 6935 EA controls', ['1156 sporadic Creutzfeldt-Jakob cases of EA ', ' 125 variant Creutzfeldt-Jakob cases of EA', ' 6015 EA controls', ' 165 Kuru cases of Papua New Guinea ancestry', ' 125 Kuru-resistant individuals of Papua New Guinea ancestry', ' 286 controls of Papua New Guinea ancestry']], 'hg19': {'chr': 18, 'pos': 42449598}, 'exclusively_male_female': 'n', 'creation_date': '8/17/12', 'publication': [{'journal': 'Brain', 'phenotype': 'Partial epilepsy', 'pmid': 20522523, 'location_within_paper': 'FullScan', 'p_value': 0.03337, 'paper_phenotype_description': 'Epilepsy (partial epilepsy)', 'title': 'Common genetic variation and susceptibility to partial epilepsies: a genome-wide association study.', 'snpid': 'rs12954183', 'date_pub': '6/22/2010', 'paper_phenotype_categories': 'Neuro;Epilepsy'}, {'journal': 'Hum Mol Genet', 'phenotype': 'Resistance to kuru in aged women despite likely exposure', 'pmid': 22210626, 'location_within_paper': 'TableS1', 'p_value': 0.04069, 'paper_phenotype_description': 'Creutzfeldt-Jakob disease and other prion disease variants', 'title': 'Genome-wide association study in multiple human prion diseases suggests genetic risk factors additional to PRNP.', 'snpid': 'rs12954183', 'date_pub': '12/30/2011', 'paper_phenotype_categories': 'Neuro;Infection;Mortality'}], 'includes_male_female_only_analyses': 'n', 'discovery': [{'european': 10380, 'total_samples': 10380}, {'european': 7296, 'total_samples': 7872, 'native': 576}], 'srsid': 12954183, 'gwas_ancestry_description': ['European', 'Mixed'], 'platform_snps_passing_qc': ['Illumina [528745]', 'Illumina [511862]'], 'hupfield': 'Jan2014', 'last_curation_date': '8/17/12', 'replication_sample_description': 'NR'}, 'hgvs_id': 'chr18:g.42449598C>T', 'wellderly': {'adviser_score': '5~SETBP1~Common, Predicted Neutral', 'alt': 'T', 'alleles': [{'freq': 0.785, 'allele': 'C'}, {'freq': 0.215, 'allele': 'T'}], 'gene': 'SETBP1', 'chrom': '18', 'vartype': 'snp', 'hg19': {'end': 42449598, 'start': 42449598}, 'pos': 42449598, 'ref': 'C', 'genotypes': [{'freq': 0.32, 'count': 64, 'genotype': 'C/T'}, {'freq': 0.055, 'count': 11, 'genotype': 'T/T'}, {'freq': 0.625, 'count': 125, 'genotype': 'C/C'}]}}\n",
      "1812\n",
      "querying 1-603...done.\n",
      "603 {'cytoband': {'Sub_Band': '12', 'Band': 'p', 'Region': '13', 'Chromosome': 19, 'Name': '19p13.12'}, 'dbsnp': {'gene': {'symbol': 'NOTCH3', 'geneid': '4854'}, 'allele_origin': 'unspecified', 'var_subtype': 'unknown', 'alleles': [{'freq': 0.131, 'allele': 'A'}, {'freq': 0.869, 'allele': 'G'}, {'allele': 'T'}], 'flags': ['ASP', 'G5', 'GNO', 'HD', 'INT', 'KGPhase1', 'KGPhase3', 'PM', 'PMC', 'SLO'], 'vartype': 'snp', 'validated': True, 'gmaf': 0.869, 'alt': 'G', 'dbsnp_build': 111, 'rsid': 'rs4809030', 'chrom': '19', 'class': 'SNV', 'hg19': {'end': 15273381, 'start': 15273381}, 'ref': 'A'}, 'esp6500siv2_all': '0.9233', '1000g2015aug_all': 0.86901, 'chr': 'chr19', 'alt': 'G', 'start': 15273381, 'end': 15273381, 'func_knowngene': 'intronic', 'exac_nontcga': {'hom': {'hom_amr': [2710, 0], 'hom_nfe': [21872, 0], 'hom_sas': [5977, 0], 'hom_eas': [2504, 0], 'hom_afr': [4314, 0], 'hom_oth': [265, 0], 'hom_fin': [2595, 0]}, 'clippingranksum': -0.17, 'het': {'het_fin': [625, 0, 0], 'het_amr': [2337, 0, 0], 'het_eas': [1261, 0, 0], 'het_nfe': [4856, 1, 0], 'het_sas': [2007, 0, 0], 'het_afr': [198, 0, 0], 'het_oth': [72, 0, 0]}, 'ac': {'ac_hom': [40237, 0], 'ac_het': [11356, 1, 0], 'ac_amr': [7757, 0], 'ac_nfe': [48600, 1], 'ac': [92427, 1], 'ac_sas': [13961, 0], 'ac_adj': [91830, 1], 'ac_eas': [6269, 0], 'ac_male': [52260, 0], 'ac_afr': [8826, 0], 'ac_female': [39570, 1], 'ac_oth': [602, 0], 'ac_fin': [5815, 0]}, 'alleles': ['G', 'T'], 'vqslod': 2.02, 'an': {'an_amr': 10978, 'an_adj': 105330, 'an_female': 45490, 'an_male': 59840, 'an_afr': 9030, 'an': 106210, 'an_oth': 686, 'an_sas': 16328, 'an_nfe': 54032, 'an_fin': 6500, 'an_eas': 7776}, 'readposranksum': 0.154, 'inbreedingcoeff': 0.0402, 'ref': 'A', 'baseqranksum': 2.43, 'alt': 'G', 'type': 'snp', 'ncc': 51, 'culprit': 'MQ', 'chrom': 19, 'mq': {'mq': 59.03, 'mqranksum': 0.012, 'mq0': 0}, 'fs': 0.719, 'af': [0.87, 9.415e-06], 'pos': 15273381, 'qd': 31.42}, 'ref': 'A', 'snpeff': {'ann': {'total': '32', 'feature_id': 'NM_000435.2', 'transcript_biotype': 'Coding', 'rank': '31', 'feature_type': 'transcript', 'effect': 'splice_region_variant&intron_variant', 'putative_impact': 'LOW', 'gene_id': 'NOTCH3', 'genename': 'NOTCH3', 'hgvs_c': 'c.5816-8T>C'}}, 'cadd': {'dna': {'prot': 1.78, 'roll': 2.56, 'helt': 0.29, 'mgw': 0.45}, 'chmm': {'tssaflnk': 0.0, 'txwk': 0.142, 'het': 0.039, 'tssbiv': 0.0, 'znfrpts': 0.047, 'quies': 0.417, 'tx': 0.331, 'txflnk': 0.0, 'bivflnk': 0.0, 'enhbiv': 0.0, 'enh': 0.0, 'tssa': 0.0, 'reprpc': 0.0, 'reprpcwk': 0.024}, 'consdetail': 'splice,intron', 'dst2spltype': 'ACCEPTOR', 'gene': {'gene_id': 'ENSG00000074181', 'ccds_id': 'CCDS12326.1', 'genename': 'NOTCH3', 'feature_id': 'ENST00000263388'}, 'gc': 0.56, 'phast_cons': {'vertebrate': 0.0, 'mammalian': 0.0, 'primate': 0.012}, 'annotype': 'Transcript', 'fitcons': 0.068557, 'consequence': 'SPLICE_SITE', 'gerp': {'n': 4.42, 's': -1.98}, 'mapability': {'35bp': 1, '20bp': 1}, 'alt': 'G', 'phred': 0.636, 'encode': {'sig': {'faire': 0.01, 'polii': 0.0, 'myc': 0.0, 'dnase': 0.03, 'ctcf': 0.01}, 'h3k4me1': 1.64, 'nucleo': 1.1, 'h3k4me3': 3.0, 'occ': 2, 'h3k27ac': 4.0, 'p_val': {'polii': 0.0, 'comb': 0.75, 'ctcf': 0.0, 'faire': 0.0, 'mycp': 0.0, 'dnas': 1.37}, 'exp': 0.64}, 'isknownvariant': 'TRUE', 'min_dist_tse': 237, 'dst2splice': -8, 'phylop': {'vertebrate': -0.101, 'mammalian': -0.593, 'primate': -1.182}, 'pos': 15273381, 'mutindex': -7, 'min_dist_tss': 3398, 'bstatistic': 856, 'intron': '31/32', '_license': 'http://goo.gl/bkpNhq', 'cpg': 0.03, 'rawscore': -0.308333, '1000g': {'eur': 0.88, 'amr': 0.79, 'af': 0.87, 'afr': 0.98, 'asn': 0.8}, 'ref': 'A', 'anc': 'G', 'consscore': 5, 'istv': 'FALSE', 'chrom': 19, 'length': 0, 'isderived': 'FALSE', 'esp': {'eur': 0.897, 'af': 0.923, 'afr': 0.975}, 'type': 'SNV', 'segway': 'R5'}, 'vcf': {'alt': 'G', 'ref': 'A', 'position': '15273381'}, 'nci60': 0.89, 'gene_knowngene': 'NOTCH3', 'wellderly': {'adviser_score': '5~NOTCH3~Common, Predicted Neutral', 'alt': 'G', 'alleles': [{'freq': 0.095, 'allele': 'A'}, {'freq': 0.905, 'allele': 'G'}], 'gene': 'NOTCH3', 'chrom': '19', 'vartype': 'snp', 'hg19': {'end': 15273381, 'start': 15273381}, 'pos': 15273381, 'ref': 'A', 'genotypes': [{'freq': 0.18, 'count': 36, 'genotype': 'A/G'}, {'freq': 0.815, 'count': 163, 'genotype': 'G/G'}, {'freq': 0.0050000000000001155, 'count': 1, 'genotype': 'A/A'}]}, 'exac': {'vqslod': 2.02, 'readposranksum': 0.154, 'alleles': ['G', 'T'], 'an': {'an_amr': 11338, 'an_adj': 120450, 'an_female': 53684, 'an_male': 66766, 'an_afr': 10364, 'an': 121412, 'an_oth': 900, 'an_sas': 16432, 'an_nfe': 66358, 'an_fin': 6500, 'an_eas': 8558}, 'inbreedingcoeff': 0.0402, 'dp': 2494157, 'ncc': 51, 'qd': 31.42, 'mq': {'mq': 59.03, 'mqranksum': 0.012, 'mq0': 0}, 'af': [0.873, 8.236e-06], 'ref': 'A', 'qual': 112852147.65, 'hom': {'ac_hom': 46287, 'hom_amr': [2810, 0], 'hom_nfe': [26814, 0], 'hom_sas': [6019, 0], 'hom_eas': [2767, 0], 'hom_afr': [4941, 0], 'hom_oth': [341, 0], 'hom_fin': [2595, 0]}, 'clippingranksum': -0.17, 'het': {'ac_het': [12761, 1, 0], 'het_fin': [625, 0, 0], 'het_amr': [2406, 0, 0], 'het_eas': [1368, 0, 0], 'het_nfe': [6009, 1, 0], 'het_sas': [2014, 0, 0], 'het_afr': [238, 0, 0], 'het_oth': [101, 0, 0]}, 'ac': {'ac_hom': [46287, 0], 'ac_het': [12761, 1, 0], 'ac_amr': [8026, 0], 'ac_nfe': [59637, 1], 'ac': [106007, 1], 'ac_sas': [14052, 0], 'ac_adj': [105335, 1], 'ac_eas': [6902, 0], 'ac_male': [58416, 0], 'ac_afr': [10120, 0], 'ac_female': [46919, 1], 'ac_oth': [783, 0], 'ac_fin': [5815, 0]}, 'alt': 'G', 'fs': 0.719, 'pos': 15273381, 'baseqranksum': 2.43, 'type': 'snp', 'culprit': 'MQ', 'chrom': 19}, 'clinvar': {'gene': {'symbol': 'NOTCH3', 'id': '4854'}, 'hgvs': {'genomic': ['NC_000019.10:g.15162570A>G', 'NC_000019.9:g.15273381A>G', 'NG_009819.1:g.43412T>C'], 'coding': 'NM_000435.2:c.5816-8T>C'}, 'cytogenic': '19p13.12', 'hg38': {'end': 15162570, 'start': 15162570}, 'rcv': {'clinical_significance': 'Benign', 'preferred_name': 'NM_000435.2(NOTCH3):c.5816-8T>C', 'accession': 'RCV000241820', 'conditions': {'name': 'not specified', 'identifiers': {'medgen': 'CN169374'}, 'synonyms': ['AllHighlyPenetrant']}, 'review_status': 'criteria provided, single submitter', 'origin': 'germline', 'number_submitters': 1}, 'alt': 'G', 'type': 'single nucleotide variant', 'variant_id': 256145, 'rsid': 'rs4809030', 'chrom': '19', 'allele_id': 256798, 'hg19': {'end': 15273381, 'start': 15273381}, 'ref': 'A'}, 'genotype': {'filter_passing_reads_count': [345], 'genotype_lieklihoods': [14640.0, 1037.0, 0.0], 'genotype': '1/1', 'alleles': [0, 345]}, 'chrom': '19', 'otherinfo': ['GT:AD:DP:GQ:PL', '1/1:0,345:345:99:14640,1037,0'], 'hg19': {'end': 15273381, 'start': 15273381}, 'grasp': {'in_gene': '(NOTCH3)', 'initial_sample_description': ['Up to 100184 EA individuals', '133653 EA individuals'], 'hg19': {'chr': 19, 'pos': 15273381}, 'exclusively_male_female': 'n', 'creation_date': '8/17/12', 'publication': [{'journal': 'Nature', 'phenotype': 'Triglycerides', 'pmid': 20686565, 'location_within_paper': 'FullScan', 'p_value': 0.03504, 'paper_phenotype_description': 'Lipid level measurements', 'title': ['Biological', ' clinical and population relevance of 95 loci for blood lipids.'], 'snpid': 'rs4809030', 'date_pub': '8/5/2010', 'paper_phenotype_categories': 'CVD risk factor (CVD RF);Lipids'}, {'journal': 'Nature', 'phenotype': 'Height', 'pmid': 20881960, 'location_within_paper': 'Full Data', 'p_value': 0.04305, 'paper_phenotype_description': 'Height', 'title': 'Hundreds of variants clustered in genomic loci and biological pathways affect human height.', 'snpid': 'rs4809030', 'date_pub': '9/29/2010', 'paper_phenotype_categories': 'Quantitative trait(s);Height'}], 'replication': [{'total_samples': 39875, 'european': 7063, 'indian_south_asian': 9705, 'east_asian': 15046, 'african': 8061}, {'european': 50074, 'total_samples': 50074}], 'includes_male_female_only_analyses': 'n', 'discovery': [{'european': 100184, 'total_samples': 100184}, {'european': 133653, 'total_samples': 133653}], 'srsid': 4809030, 'gwas_ancestry_description': ['Mixed', 'European'], 'platform_snps_passing_qc': ['Affymetrix', ' Illumina & Perlegen [~2.6 million] (imputed)', ['Affymetrix', ' Illumina & Perlegen [2834208] (imputed)']], 'hupfield': 'Jan2014', 'last_curation_date': '8/17/12', 'replication_sample_description': ['9705 South Asians', ' 15046 East Asians', ' 8061 African Americans', ' 7063 Europeans', '50074 EA individuals']}, 'hgvs_id': 'chr19:g.15273381A>G', 'evs': {'gene': {'accession': 'NM_000435.2', 'symbol': 'NOTCH3'}, 'estimated_age_kyrs': {'aa': '82.9+/-121.4', 'ea': '199.2+/-243.3'}, 'hgvs': {'coding': 'c.5816-8T>C'}, 'chimp_allele': 'G', 'conservation': {'phast_cons': 0.0, 'gerp': -2.0}, 'dbsnp_version': 111, 'genotype_count': {'all_genotype': {'GG': 5556, 'GA': 896, 'AA': 51}, 'european_american': {'GG': 3463, 'GA': 786, 'AA': 51}, 'african_american': {'GG': 2093, 'GA': 110, 'AA': 0}}, 'rsid': 'rs4809030', 'ref': 'A', 'ma_fin_percent': {'all': 7.6734, 'african_american': 2.4966, 'european_american': 10.3256}, 'alt': 'G', 'coding_dna_size': 6966, 'ref_base_ncbi': 'A', 'polyphen2': {'class': 'u', 'score': 'n'}, 'hg38': {'end': 15162570, 'start': 15162570}, 'on_illumina_human_exome_chip': 'no', 'avg_sample_read': 44, 'filter_status': 'PASS', 'chrom': 19, 'function_gvs': 'intron', 'allele_count': {'all': {'A': 998, 'G': 12008}, 'african_american': {'A': 110, 'G': 4296}, 'european_american': {'A': 888, 'G': 7712}}, 'hg19': {'end': 15273381, 'start': 15273381}}}\n",
      "2415\n",
      "querying 1-601...done.\n",
      "601 {'cytoband': {'Sub_Band': '23', 'Band': 'p', 'Region': '11', 'Chromosome': 20, 'Name': '20p11.23'}, 'func_knowngene': 'intronic', 'dbsnp': {'gene': {'symbol': 'SLC24A3', 'geneid': '57419'}, 'allele_origin': 'unspecified', 'var_subtype': 'ts', 'alleles': [{'freq': 0.4044, 'allele': 'C'}, {'freq': 0.5956, 'allele': 'T'}], 'flags': ['ASP', 'G5', 'G5A', 'GNO', 'INT', 'KGPhase1', 'KGPhase3', 'SLO'], 'vartype': 'snp', 'validated': True, 'gmaf': 0.5956, 'alt': 'T', 'dbsnp_build': 100, 'rsid': 'rs2328415', 'chrom': '20', 'class': 'SNV', 'hg19': {'end': 19627496, 'start': 19627496}, 'ref': 'C'}, 'cadd': {'dna': {'prot': -3.3, 'roll': 0.76, 'helt': 1.6, 'mgw': 0.15}, 'chmm': {'tssaflnk': 0.0, 'txwk': 0.031, 'het': 0.0, 'tssbiv': 0.0, 'znfrpts': 0.0, 'quies': 0.732, 'tx': 0.0, 'txflnk': 0.0, 'bivflnk': 0.0, 'enhbiv': 0.0, 'enh': 0.0, 'tssa': 0.0, 'reprpc': 0.008, 'reprpcwk': 0.228}, 'consdetail': 'intron', 'gene': {'gene_id': 'ENSG00000185052', 'ccds_id': 'CCDS13140.1', 'genename': 'SLC24A3', 'feature_id': 'ENST00000328041'}, 'gc': 0.37, 'phast_cons': {'vertebrate': 0.0, 'mammalian': 0.0, 'primate': 0.002}, 'annotype': 'Transcript', 'fitcons': 0.065702, 'consequence': 'INTRONIC', 'gerp': {'n': 1.62, 's': -1.07}, 'mapability': {'35bp': 1, '20bp': 0}, 'alt': 'T', 'phred': 1.487, 'encode': {'nucleo': 0.7, 'h3k4me1': 4.0, 'h3k27ac': 2.0, 'h3k4me3': 2.0}, 'isknownvariant': 'TRUE', 'min_dist_tse': 76086, 'phylop': {'vertebrate': -0.262, 'mammalian': -0.315, 'primate': 0.457}, 'pos': 19627496, 'mutindex': 102, 'min_dist_tss': 434206, 'bstatistic': 901, 'intron': '6/16', '_license': 'http://goo.gl/bkpNhq', 'cpg': 0.03, 'rawscore': -0.134509, '1000g': {'eur': 0.65, 'amr': 0.6, 'af': 0.6, 'afr': 0.78, 'asn': 0.38}, 'ref': 'C', 'anc': 'T', 'consscore': 2, 'istv': 'FALSE', 'chrom': 20, 'length': 0, 'isderived': 'FALSE', 'type': 'SNV', 'segway': 'L0'}, 'vcf': {'alt': 'T', 'ref': 'C', 'position': '19627496'}, 'chr': 'chr20', 'end': 19627496, 'gene_knowngene': 'SLC24A3', 'ref': 'C', 'alt': 'T', 'snpeff': {'ann': {'total': '16', 'feature_id': 'NM_020689.3', 'transcript_biotype': 'Coding', 'rank': '6', 'feature_type': 'transcript', 'effect': 'intron_variant', 'putative_impact': 'MODIFIER', 'gene_id': 'SLC24A3', 'genename': 'SLC24A3', 'hgvs_c': 'c.613-7210C>T'}}, 'genotype': {'filter_passing_reads_count': [2], 'genotype_lieklihoods': [90.0, 6.0, 0.0], 'genotype': '1/1', 'alleles': [0, 2]}, '1000g2015aug_all': 0.595647, 'chrom': '20', 'otherinfo': ['GT:AD:DP:GQ:PL', '1/1:0,2:2:6:90,6,0'], 'hg19': {'end': 19627496, 'start': 19627496}, 'start': 19627496, 'hgvs_id': 'chr20:g.19627496C>T', 'wellderly': {'alt': 'T', 'alleles': [{'freq': 0.405, 'allele': 'C'}, {'freq': 0.595, 'allele': 'T'}], 'gene': 'SLC24A3', 'chrom': '20', 'vartype': 'snp', 'hg19': {'end': 19627496, 'start': 19627496}, 'pos': 19627496, 'ref': 'C', 'genotypes': [{'freq': 0.44, 'count': 88, 'genotype': 'C/T'}, {'freq': 0.375, 'count': 75, 'genotype': 'T/T'}, {'freq': 0.18500000000000005, 'count': 37, 'genotype': 'C/C'}]}}\n",
      "3016\n",
      "querying 1-607...done.\n",
      "607 {'dbsnp': {'gene': [{'symbol': 'BAGE2', 'geneid': '85319'}, {'symbol': 'LOC101926954', 'geneid': '101926954'}], 'allele_origin': 'unspecified', 'var_subtype': 'ts', 'alleles': [{'allele': 'A'}, {'allele': 'G'}], 'flags': ['ASP', 'GNO', 'INT', 'SLO'], 'vartype': 'snp', 'validated': False, 'alt': 'G', 'dbsnp_build': 96, 'rsid': 'rs2207394', 'chrom': '21', 'class': 'SNV', 'hg19': {'end': 11026555, 'start': 11026555}, 'ref': 'A'}, 'chr': 'chr21', 'genomicsuperdups': {'Score': 0.987584, 'Name': 'chrUn_gl000212:158152'}, 'alt': 'G', 'end': 11026555, 'func_knowngene': 'intronic', 'start': 11026555, 'wellderly': {'alt': 'G', 'alleles': [{'freq': 0.955, 'allele': 'A'}, {'freq': 0.045, 'allele': 'G'}], 'gene': ['BAGE2', 'BAGE5'], 'chrom': '21', 'vartype': 'snp', 'hg19': {'end': 11026555, 'start': 11026555}, 'pos': 11026555, 'ref': 'A', 'genotypes': [{'freq': 0.09, 'count': 18, 'genotype': 'A/G'}, {'freq': 0.91, 'count': 182, 'genotype': 'A/A'}]}, 'snpeff': {'ann': [{'total': '8', 'feature_id': 'NM_181704.1', 'transcript_biotype': 'Coding', 'rank': '7', 'feature_type': 'transcript', 'effect': 'intron_variant', 'putative_impact': 'MODIFIER', 'gene_id': 'BAGE4', 'genename': 'BAGE4', 'hgvs_c': 'c.*1270+168T>C'}, {'total': '9', 'feature_id': 'NM_182481.1', 'transcript_biotype': 'Coding', 'rank': '8', 'feature_type': 'transcript', 'effect': 'intron_variant', 'putative_impact': 'MODIFIER', 'gene_id': 'BAGE3', 'genename': 'BAGE3', 'hgvs_c': 'c.*1175+168T>C'}, {'total': '9', 'feature_id': 'NM_182482.2', 'transcript_biotype': 'Coding', 'rank': '8', 'feature_type': 'transcript', 'effect': 'intron_variant', 'putative_impact': 'MODIFIER', 'gene_id': 'BAGE2', 'genename': 'BAGE2', 'hgvs_c': 'c.*1175+168T>C'}, {'total': '8', 'feature_id': 'NM_182484.1', 'transcript_biotype': 'Coding', 'rank': '7', 'feature_type': 'transcript', 'effect': 'intron_variant', 'putative_impact': 'MODIFIER', 'gene_id': 'BAGE5', 'genename': 'BAGE5', 'hgvs_c': 'c.*1270+168T>C'}]}, 'vcf': {'alt': 'G', 'ref': 'A', 'position': '11026555'}, 'gene_knowngene': 'BAGE3', 'ref': 'A', 'genotype': {'filter_passing_reads_count': [194], 'genotype_lieklihoods': [2395.0, 0.0, 4662.0], 'genotype': '0/1', 'alleles': [124, 70]}, 'chrom': '21', 'cytoband': {'Sub_Band': '1', 'Band': 'p', 'Region': '11', 'Chromosome': 21, 'Name': '21p11.1'}, 'hg19': {'end': 11026555, 'start': 11026555}, 'hgvs_id': 'chr21:g.11026555A>G', 'otherinfo': ['GT:AD:DP:GQ:PL', '0/1:124,70:194:99:2395,0,4662']}\n",
      "3623\n",
      "querying 1-605...done.\n",
      "605 {'dbsnp': {'gene': {'symbol': 'RIPK4', 'geneid': '54101'}, 'allele_origin': 'unspecified', 'var_subtype': 'ts', 'alleles': [{'freq': 0.4301, 'allele': 'T'}, {'freq': 0.5699, 'allele': 'C'}], 'flags': ['ASP', 'G5', 'G5A', 'GNO', 'HD', 'INT', 'KGPhase1', 'KGPhase3', 'SLO'], 'vartype': 'snp', 'validated': True, 'gmaf': 0.5699, 'alt': 'C', 'dbsnp_build': 107, 'rsid': 'rs3746895', 'chrom': '21', 'class': 'SNV', 'hg19': {'end': 43162200, 'start': 43162200}, 'ref': 'T'}, 'esp6500siv2_all': '0.5322', '1000g2015aug_all': 0.569888, 'chr': 'chr21', 'alt': 'C', 'start': 43162200, 'end': 43162200, 'func_knowngene': 'intronic', 'exac_nontcga': {'hom': {'hom_amr': 1397, 'hom_nfe': 5885, 'hom_sas': 857, 'hom_eas': 1629, 'hom_afr': 1656, 'hom_oth': 75, 'hom_fin': 940}, 'clippingranksum': -0.143, 'het': {'het_fin': 1656, 'het_amr': 2676, 'het_eas': 1783, 'het_nfe': 12394, 'het_sas': 2120, 'het_afr': 1826, 'het_oth': 137}, 'ac': {'ac_hom': 12439, 'ac_het': 22592, 'ac_amr': 5470, 'ac_nfe': 24164, 'ac': 50927, 'ac_sas': 3834, 'ac_adj': 47470, 'ac_eas': 5041, 'ac_male': 26156, 'ac_afr': 5138, 'ac_female': 21314, 'ac_oth': 287, 'ac_fin': 3536}, 'alleles': 'C', 'vqslod': 5.35, 'an': {'an_amr': 11036, 'an_adj': 92450, 'an_female': 41070, 'an_male': 51380, 'an_afr': 7916, 'an': 102960, 'an_oth': 570, 'an_sas': 8810, 'an_nfe': 49804, 'an_fin': 6598, 'an_eas': 7716}, 'readposranksum': 0.303, 'inbreedingcoeff': 0.0466, 'ref': 'T', 'baseqranksum': 3.46, 'alt': 'C', 'type': 'snp', 'ncc': 2879, 'culprit': 'FS', 'chrom': 21, 'mq': {'mq': 59.77, 'mqranksum': 0.061, 'mq0': 0}, 'fs': 0.0, 'af': 0.495, 'pos': 43162200, 'qd': 25.36}, 'ref': 'T', 'snpeff': {'ann': [{'distance_to_feature': '4732', 'genename': 'MIR6814', 'transcript_biotype': 'Noncoding', 'feature_type': 'transcript', 'effect': 'downstream_gene_variant', 'putative_impact': 'MODIFIER', 'gene_id': 'MIR6814', 'feature_id': 'NR_106872.1', 'hgvs_c': 'n.*70A>G'}, {'total': '7', 'feature_id': 'NM_020639.2', 'transcript_biotype': 'Coding', 'rank': '7', 'feature_type': 'transcript', 'effect': 'intron_variant', 'putative_impact': 'MODIFIER', 'gene_id': 'RIPK4', 'genename': 'RIPK4', 'hgvs_c': 'c.1196-43A>G'}]}, 'cadd': {'dna': {'prot': 3.69, 'roll': 0.63, 'helt': -3.67, 'mgw': 0.3}, 'chmm': {'tssaflnk': 0.0, 'txwk': 0.134, 'het': 0.008, 'tssbiv': 0.0, 'znfrpts': 0.039, 'quies': 0.252, 'tx': 0.244, 'txflnk': 0.0, 'bivflnk': 0.0, 'enhbiv': 0.0, 'enh': 0.008, 'tssa': 0.0, 'reprpc': 0.055, 'reprpcwk': 0.26}, 'consdetail': ['downstream', 'intron'], 'gene': [{'gene_id': 'ENSG00000236883', 'genename': 'AP001615.9', 'feature_id': 'ENST00000423276'}, {'gene_id': 'ENSG00000183421', 'ccds_id': 'CCDS13675.1', 'genename': 'RIPK4', 'feature_id': 'ENST00000332512'}], 'gc': 0.64, 'phast_cons': {'vertebrate': 0.0, 'mammalian': 0.0, 'primate': 0.0}, 'annotype': ['Intergenic', 'Transcript'], 'fitcons': 0.081118, 'consequence': ['DOWNSTREAM', 'INTRONIC'], 'gerp': {'n': 2.59, 's': -0.309}, 'mapability': {'35bp': 1, '20bp': 1}, 'alt': 'C', 'phred': 0.288, 'encode': {'sig': {'faire': 0.01, 'polii': 0.01, 'myc': 0.03, 'dnase': 0.05, 'ctcf': 0.04}, 'h3k4me1': 2.0, 'nucleo': 1.1, 'h3k4me3': 3.44, 'occ': 2, 'h3k27ac': 4.0, 'p_val': {'polii': 0.0, 'comb': 1.28, 'ctcf': 0.0, 'faire': 0.0, 'mycp': 0.0, 'dnas': 2.04}, 'exp': 2.54}, 'isknownvariant': 'TRUE', 'min_dist_tse': 732, 'phylop': {'vertebrate': -0.275, 'mammalian': -0.359, 'primate': -1.797}, 'pos': 43162200, 'mutindex': -4, 'min_dist_tss': 2667, 'bstatistic': 946, '_license': 'http://goo.gl/bkpNhq', 'cpg': 0.08, 'rawscore': -0.452694, '1000g': {'eur': 0.52, 'amr': 0.52, 'af': 0.58, 'afr': 0.65, 'asn': 0.64}, 'ref': 'T', 'anc': 'C', 'consscore': [1, 2], 'istv': 'FALSE', 'chrom': 21, 'length': 0, 'isderived': 'FALSE', 'esp': {'eur': 0.476, 'af': 0.532, 'afr': 0.643}, 'type': 'SNV', 'segway': 'R5'}, 'vcf': {'alt': 'C', 'ref': 'T', 'position': '43162200'}, 'gene_knowngene': 'RIPK4', 'wellderly': {'alt': 'C', 'alleles': [{'freq': 0.47, 'allele': 'C'}, {'freq': 0.53, 'allele': 'T'}], 'gene': 'RIPK4', 'chrom': '21', 'vartype': 'snp', 'hg19': {'end': 43162200, 'start': 43162200}, 'pos': 43162200, 'ref': 'T', 'genotypes': [{'freq': 0.48, 'count': 96, 'genotype': 'T/C'}, {'freq': 0.23, 'count': 46, 'genotype': 'C/C'}, {'freq': 0.29000000000000004, 'count': 58, 'genotype': 'T/T'}]}, 'exac': {'vqslod': 5.35, 'readposranksum': 0.303, 'alleles': 'C', 'an': {'an_amr': 11354, 'an_adj': 105942, 'an_female': 47828, 'an_male': 58114, 'an_afr': 9146, 'an': 117984, 'an_oth': 760, 'an_sas': 8910, 'an_nfe': 60770, 'an_fin': 6598, 'an_eas': 8404}, 'inbreedingcoeff': 0.0466, 'dp': 4540191, 'ncc': 2879, 'qd': 25.36, 'mq': {'mq': 59.77, 'mqranksum': 0.061, 'mq0': 0}, 'af': 0.496, 'ref': 'T', 'qual': 138487684.33, 'hom': {'ac_hom': 14263, 'hom_amr': 1438, 'hom_nfe': 7264, 'hom_sas': 866, 'hom_eas': 1759, 'hom_afr': 1894, 'hom_oth': 102, 'hom_fin': 940}, 'clippingranksum': -0.143, 'het': {'ac_het': 25899, 'het_fin': 1656, 'het_amr': 2750, 'het_eas': 1945, 'het_nfe': 15091, 'het_sas': 2151, 'het_afr': 2122, 'het_oth': 184}, 'ac': {'ac_hom': 14263, 'ac_het': 25899, 'ac_amr': 5626, 'ac_nfe': 29619, 'ac': 58475, 'ac_sas': 3883, 'ac_adj': 54425, 'ac_eas': 5463, 'ac_male': 29633, 'ac_afr': 5910, 'ac_female': 24792, 'ac_oth': 388, 'ac_fin': 3536}, 'alt': 'C', 'fs': 0.0, 'pos': 43162200, 'baseqranksum': 3.46, 'type': 'snp', 'culprit': 'FS', 'chrom': 21}, 'evs': {'gene': {'accession': 'NM_020639.2', 'symbol': 'RIPK4'}, 'ref_base_ncbi': 'T', 'hgvs': {'coding': 'c.1196-43A>G'}, 'rsid': 'rs3746895', 'ma_fin_percent': {'all': 46.7752, 'african_american': 35.7403, 'european_american': 47.5735}, 'genotype_count': {'all_genotype': {'TT': 1549, 'CT': 2965, 'CC': 1967}, 'european_american': {'TT': 1246, 'CT': 2002, 'CC': 1038}, 'african_american': {'TT': 303, 'CT': 963, 'CC': 929}}, 'coding_dna_size': 2355, 'chimp_allele': 'C', 'conservation': {'phast_cons': 0.0, 'gerp': -0.3}, 'polyphen2': {'class': 'u', 'score': 'n'}, 'hg38': {'end': 41742040, 'start': 41742040}, 'dbsnp_version': 107, 'alt': 'C', 'on_illumina_human_exome_chip': 'no', 'avg_sample_read': 47, 'filter_status': 'PASS', 'chrom': 21, 'function_gvs': 'intron', 'allele_count': {'all': {'T': 6063, 'C': 6899}, 'african_american': {'T': 1569, 'C': 2821}, 'european_american': {'T': 4494, 'C': 4078}}, 'hg19': {'end': 43162200, 'start': 43162200}, 'ref': 'T'}, 'genotype': {'filter_passing_reads_count': [2], 'genotype_lieklihoods': [74.0, 6.0, 0.0], 'genotype': '1/1', 'alleles': [0, 2]}, 'chrom': '21', 'otherinfo': ['GT:AD:DP:GQ:PL', '1/1:0,2:2:6:74,6,0'], 'hg19': {'end': 43162200, 'start': 43162200}, 'grasp': {'in_gene': '(RIPK4)', 'initial_sample_description': '19840 EA individuals', 'hg19': {'chr': 21, 'pos': 43162200}, 'exclusively_male_female': 'n', 'creation_date': '8/17/12', 'publication': {'journal': 'Nat Genet', 'phenotype': 'LDL cholesterol', 'pmid': 19060906, 'location_within_paper': 'FullScan', 'p_value': 0.04712, 'paper_phenotype_description': 'Lipid level measurements', 'title': 'Common variants at 30 loci contribute to polygenic dyslipidemia.', 'snpid': 'rs3746895', 'date_pub': '12/7/2008', 'paper_phenotype_categories': 'CVD risk factor (CVD RF);Lipids'}, 'replication': {'european': 20623, 'total_samples': 20623}, 'includes_male_female_only_analyses': 'n', 'discovery': {'european': 19840, 'total_samples': 19840}, 'srsid': 3746895, 'gwas_ancestry_description': 'European', 'platform_snps_passing_qc': 'Affymetrix & Illumina [~2600000] (imputed)', 'hupfield': 'Jan2014', 'last_curation_date': '8/17/12', 'replication_sample_description': 'Up to 20623 EA individuals'}, 'hgvs_id': 'chr21:g.43162200T>C', 'cytoband': {'Sub_Band': '3', 'Band': 'q', 'Region': '22', 'Chromosome': 21, 'Name': '21q22.3'}}\n",
      "4228\n",
      "querying 1-605...done.\n",
      "605 {'genedetail_knowngene': 'dist=159795;dist=55266', 'func_knowngene': 'intergenic', 'dbsnp': {'allele_origin': 'unspecified', 'var_subtype': 'ts', 'alleles': [{'freq': 0.7041, 'allele': 'G'}, {'freq': 0.2959, 'allele': 'A'}], 'flags': ['ASP', 'G5', 'G5A', 'GNO', 'KGPhase1', 'KGPhase3', 'SLO'], 'vartype': 'snp', 'validated': True, 'gmaf': 0.2959, 'alt': 'A', 'dbsnp_build': 120, 'rsid': 'rs11704705', 'chrom': '22', 'class': 'SNV', 'hg19': {'end': 48830022, 'start': 48830022}, 'ref': 'G'}, 'cadd': {'dna': {'prot': 2.1, 'roll': -1.38, 'helt': -2.48, 'mgw': 0.14}, 'chmm': {'tssaflnk': 0.0, 'txwk': 0.016, 'het': 0.126, 'tssbiv': 0.0, 'znfrpts': 0.008, 'quies': 0.575, 'tx': 0.0, 'txflnk': 0.0, 'bivflnk': 0.0, 'enhbiv': 0.0, 'enh': 0.0, 'tssa': 0.008, 'reprpc': 0.031, 'reprpcwk': 0.236}, 'consdetail': 'intergenic', 'cpg': 0.08, 'gc': 0.58, 'phast_cons': {'vertebrate': 0.0, 'mammalian': 0.0, 'primate': 0.004}, 'annotype': 'Intergenic', 'fitcons': 0.056797, 'consequence': 'INTERGENIC', 'gerp': {'n': 3.3, 's': -0.539}, 'mapability': {'35bp': 1, '20bp': 1}, 'alt': 'A', 'phred': 3.111, 'encode': {'sig': {'faire': 0.0, 'polii': 0.0, 'myc': 0.0, 'dnase': 0.04, 'ctcf': 0.02}, 'h3k4me1': 4.0, 'h3k27ac': 1.0, 'h3k4me3': 3.52, 'occ': 2, 'nucleo': 1.1, 'p_val': {'polii': 0.0, 'comb': 1.06, 'ctcf': 0.0, 'faire': 0.0, 'mycp': 0.0, 'dnas': 1.77}}, 'isknownvariant': 'TRUE', 'min_dist_tse': 17008, 'phylop': {'vertebrate': -0.132, 'mammalian': -0.324, 'primate': 0.478}, 'pos': 48830022, 'mutindex': -5, 'min_dist_tss': 14681, 'bstatistic': 994, '_license': 'http://goo.gl/bkpNhq', 'rawscore': 0.052798, '1000g': {'eur': 0.29, 'amr': 0.32, 'af': 0.29, 'afr': 0.16, 'asn': 0.38}, 'ref': 'G', 'anc': 'A', 'consscore': 0, 'istv': 'FALSE', 'chrom': 22, 'length': 0, 'isderived': 'FALSE', 'type': 'SNV', 'segway': 'R0'}, 'vcf': {'alt': 'A', 'ref': 'G', 'position': '48830022'}, 'chr': 'chr22', 'end': 48830022, 'gene_knowngene': 'MIR3201,FAM19A5', 'start': 48830022, 'alt': 'A', 'snpeff': {'ann': {'feature_id': 'MIR3201-FAM19A5', 'feature_type': 'intergenic_region', 'effect': 'intergenic_region', 'putative_impact': 'MODIFIER', 'gene_id': 'MIR3201-FAM19A5', 'genename': 'MIR3201-FAM19A5'}}, 'otherinfo': ['GT:AD:DP:GQ:PL', '1/1:0,2:2:6:90,6,0'], 'genotype': {'filter_passing_reads_count': [2], 'genotype_lieklihoods': [90.0, 6.0, 0.0], 'genotype': '1/1', 'alleles': [0, 2]}, '1000g2015aug_all': 0.295927, 'chrom': '22', 'cytoband': {'Sub_Band': '32', 'Band': 'q', 'Region': '13', 'Chromosome': 22, 'Name': '22q13.32'}, 'hg19': {'end': 48830022, 'start': 48830022}, 'ref': 'G', 'hgvs_id': 'chr22:g.48830022G>A', 'wellderly': {'alt': 'A', 'alleles': [{'freq': 0.28, 'allele': 'A'}, {'freq': 0.72, 'allele': 'G'}], 'gene': 'FAM19A5', 'chrom': '22', 'vartype': 'snp', 'hg19': {'end': 48830022, 'start': 48830022}, 'pos': 48830022, 'ref': 'G', 'genotypes': [{'freq': 0.4, 'count': 80, 'genotype': 'G/A'}, {'freq': 0.08, 'count': 16, 'genotype': 'A/A'}, {'freq': 0.52, 'count': 104, 'genotype': 'G/G'}]}}\n",
      "4833\n",
      "querying 1-101...done.\n",
      "101 {'dbsnp': {'allele_origin': 'unspecified', 'var_subtype': 'ts', 'alleles': [{'allele': 'C'}, {'allele': 'T'}], 'flags': ['ASP', 'GNO', 'SLO'], 'vartype': 'snp', 'validated': True, 'alt': 'T', 'dbsnp_build': 131, 'rsid': 'rs74881068', 'chrom': 'Y', 'class': 'SNV', 'hg19': {'end': 13266560, 'start': 13266560}, 'ref': 'C'}, 'chr': 'chrY', 'genomicsuperdups': {'Score': 0.959765, 'Name': 'chr4:49248036'}, 'alt': 'T', 'end': 13266560, 'func_knowngene': 'intergenic', 'ref': 'C', 'snpeff': {'ann': {'feature_id': 'TTTY23-GYG2P1', 'feature_type': 'intergenic_region', 'effect': 'intergenic_region', 'putative_impact': 'MODIFIER', 'gene_id': 'TTTY23-GYG2P1', 'genename': 'TTTY23-GYG2P1'}}, 'vcf': {'alt': 'T', 'ref': 'C', 'position': '13266560'}, 'gene_knowngene': 'NONE,DQ590589', 'start': 13266560, 'otherinfo': ['GT:AD:DP:GQ:PL', '0/1:1,4:5:72:162,0,72'], 'genotype': {'filter_passing_reads_count': [5], 'genotype_lieklihoods': [162.0, 0.0, 72.0], 'genotype': '0/1', 'alleles': [1, 4]}, 'chrom': 'Y', 'genedetail_knowngene': 'dist=NONE;dist=65535', 'hg19': {'end': 13266560, 'start': 13266560}, 'hgvs_id': 'chrY:g.13266560C>T', 'cytoband': {'Sub_Band': '1', 'Band': 'q', 'Region': '11', 'Chromosome': 'Y', 'Name': 'Yq11.1'}}\n",
      "4934\n",
      "Parsing Buffer...\n",
      "CPU times: user 1min 30s, sys: 1.32 s, total: 1min 32s\n",
      "Wall time: 3min 57s\n"
     ]
    },
    {
     "data": {
      "text/plain": [
       "'Done'"
      ]
     },
     "execution_count": 41,
     "metadata": {},
     "output_type": "execute_result"
    }
   ],
   "source": [
    "%%time \n",
    "pars.push_to_db()"
   ]
  },
  {
   "cell_type": "markdown",
   "metadata": {},
   "source": [
    "~3 minutes for 25k variants"
   ]
  },
  {
   "cell_type": "markdown",
   "metadata": {},
   "source": [
    "## Implement a filter\n",
    "\n",
    " - filter 1: ThousandGenomeAll < 0.05 or info not available\n",
    " - filter 2: ESP6500siv2_all < 0.05 or info not available\n",
    " - filter 3: cosmic70 information is present\n",
    " - filter 4: Func_knownGene is exonic, splicing, or both\n",
    " - filter 5: ExonicFunc_knownGene is not \"synonymous SNV\"\n",
    " - filter 6: Read Depth (DP) > 10"
   ]
  },
  {
   "cell_type": "code",
   "execution_count": 31,
   "metadata": {
    "collapsed": true
   },
   "outputs": [],
   "source": [
    "#names and paths \n",
    "rare_cancer_variants_csv = \".../out_files/filtered_csv.csv\"\n",
    "rare_cancer_variants_vcf =  \".../filtered_vcf.vcf\"\n",
    "#input_vcf_compressed =  '/test_vcf/Tumor_RNAseq_variants.vcf.gz"
   ]
  },
  {
   "cell_type": "code",
   "execution_count": 35,
   "metadata": {
    "collapsed": false
   },
   "outputs": [
    {
     "name": "stdout",
     "output_type": "stream",
     "text": [
      "Variants found that match rarity criteria: 1\n"
     ]
    }
   ],
   "source": [
    "#Apply filter.\n",
    "from VAPr import MongoDB_querying, file_writer\n",
    "\n",
    "filter_collection = MongoDB_querying.Filters(db_name, collection_name)\n",
    "rare_cancer_variants = filter_collection.rare_cancer_variant()"
   ]
  },
  {
   "cell_type": "markdown",
   "metadata": {},
   "source": [
    "### Inspect entry"
   ]
  },
  {
   "cell_type": "code",
   "execution_count": 59,
   "metadata": {
    "collapsed": false
   },
   "outputs": [
    {
     "data": {
      "text/plain": [
       "{'1000g2015aug_all': 0.00159744,\n",
       " '_id': ObjectId('589e35893c5b990f8441ed78'),\n",
       " 'alt': 'G',\n",
       " 'cadd': {'1000g': {'af': 0.5, 'afr': 0.5, 'amr': 0.5, 'asn': 0.5, 'eur': 0.5},\n",
       "  '_license': 'http://goo.gl/bkpNhq',\n",
       "  'alt': 'G',\n",
       "  'anc': 'A',\n",
       "  'annotype': 'CodingTranscript',\n",
       "  'bstatistic': 872,\n",
       "  'chmm': {'bivflnk': 0.0,\n",
       "   'enh': 0.0,\n",
       "   'enhbiv': 0.008,\n",
       "   'het': 0.016,\n",
       "   'quies': 0.504,\n",
       "   'reprpc': 0.087,\n",
       "   'reprpcwk': 0.354,\n",
       "   'tssa': 0.0,\n",
       "   'tssaflnk': 0.0,\n",
       "   'tssbiv': 0.008,\n",
       "   'tx': 0.0,\n",
       "   'txflnk': 0.008,\n",
       "   'txwk': 0.008,\n",
       "   'znfrpts': 0.0},\n",
       "  'chrom': 7,\n",
       "  'consdetail': 'missense',\n",
       "  'consequence': 'NON_SYNONYMOUS',\n",
       "  'consscore': 7,\n",
       "  'cpg': 0.03,\n",
       "  'dna': {'helt': 0.03, 'mgw': 0.4, 'prot': 3.05, 'roll': 3.04},\n",
       "  'encode': {'exp': 40.15,\n",
       "   'h3k27ac': 7.04,\n",
       "   'h3k4me1': 3.0,\n",
       "   'h3k4me3': 3.0,\n",
       "   'nucleo': 3.7},\n",
       "  'exon': '4/5',\n",
       "  'fitcons': 0.527649,\n",
       "  'gc': 0.55,\n",
       "  'gene': {'ccds_id': 'CCDS5872.1',\n",
       "   'cds': {'cdna_pos': 514,\n",
       "    'cds_pos': 508,\n",
       "    'rel_cdna_pos': 0.64,\n",
       "    'rel_cds_pos': 0.68},\n",
       "   'feature_id': 'ENST00000311737',\n",
       "   'gene_id': 'ENSG00000204983',\n",
       "   'genename': 'PRSS1',\n",
       "   'prot': {'domain': 'ndomain', 'protpos': 170, 'rel_prot_pos': 0.69}},\n",
       "  'gerp': {'n': 3.28, 'rs': 149.7, 'rs_pval': 8.08864e-16, 's': -6.56},\n",
       "  'grantham': 56,\n",
       "  'isderived': 'TRUE',\n",
       "  'isknownvariant': 'TRUE',\n",
       "  'istv': 'FALSE',\n",
       "  'length': 0,\n",
       "  'mapability': {'20bp': 1, '35bp': 1},\n",
       "  'min_dist_tse': 476,\n",
       "  'min_dist_tss': 1374,\n",
       "  'mutindex': -26,\n",
       "  'naa': 'E',\n",
       "  'oaa': 'K',\n",
       "  'phast_cons': {'mammalian': 0.0, 'primate': 0.011, 'vertebrate': 0.0},\n",
       "  'phred': 0.001,\n",
       "  'phylop': {'mammalian': -1.491, 'primate': -2.595, 'vertebrate': -1.594},\n",
       "  'polyphen': {'cat': 'benign', 'val': 0},\n",
       "  'pos': 142460335,\n",
       "  'rawscore': -2.903274,\n",
       "  'ref': 'A',\n",
       "  'scoresegdup': 0.93,\n",
       "  'segway': 'R5',\n",
       "  'sift': {'cat': 'tolerated', 'val': 0.93},\n",
       "  'type': 'SNV'},\n",
       " 'chr': 'chr7',\n",
       " 'chrom': '7',\n",
       " 'cosmic': {'alt': 'G',\n",
       "  'chrom': '7',\n",
       "  'cosmic_id': 'COSM42958',\n",
       "  'hg19': {'end': 142460335, 'start': 142460335},\n",
       "  'mut_freq': 0.26,\n",
       "  'mut_nt': 'A>G',\n",
       "  'ref': 'A',\n",
       "  'tumor_site': 'central_nervous_system'},\n",
       " 'cosmic70': 'ID=COSM42958;OCCURENCE=1(central_nervous_system)',\n",
       " 'cytoband': {'Band': 'q', 'Chromosome': 7, 'Name': '7q34', 'Region': '34'},\n",
       " 'dbnsfp': {'1000gp3': {'ac': 8,\n",
       "   'af': 0.001597444089456869,\n",
       "   'afr_ac': 0,\n",
       "   'afr_af': 0.0,\n",
       "   'amr_ac': 0,\n",
       "   'amr_af': 0.0,\n",
       "   'eas_ac': 0,\n",
       "   'eas_af': 0.0,\n",
       "   'eur_ac': 0,\n",
       "   'eur_af': 0.0,\n",
       "   'sas_ac': 8,\n",
       "   'sas_af': 0.0081799591002045},\n",
       "  'aa': {'alt': 'E',\n",
       "   'codon_degeneracy': 0,\n",
       "   'codonpos': 1,\n",
       "   'pos': ['184', '160', '170', '170', '120'],\n",
       "   'ref': 'K',\n",
       "   'refcodon': 'AAG'},\n",
       "  'alt': 'G',\n",
       "  'ancestral_allele': 'A',\n",
       "  'cds_strand': '+',\n",
       "  'chrom': '7',\n",
       "  'dann': {'_license': 'https://goo.gl/IeLhCq',\n",
       "   'rankscore': 0.00193,\n",
       "   'score': 0.11901653757417319},\n",
       "  'eigen': {'phred': 0.004467639,\n",
       "   'raw': -2.14012544445484,\n",
       "   'raw_rankscore': 0.00104},\n",
       "  'eigen-pc': {'raw': -2.21358174570785, 'raw_rankscore': 0.00102},\n",
       "  'ensembl': {'geneid': 'ENSG00000204983',\n",
       "   'proteinid': ['ENSP00000417854',\n",
       "    'ENSP00000481361',\n",
       "    'ENSP00000308720',\n",
       "    'ENSP00000479959',\n",
       "    'ENSP00000419912'],\n",
       "   'transcriptid': ['ENST00000486171',\n",
       "    'ENST00000619214',\n",
       "    'ENST00000311737',\n",
       "    'ENST00000612126',\n",
       "    'ENST00000492062']},\n",
       "  'exac': {'ac': 60686,\n",
       "   'adj_ac': 60685,\n",
       "   'adj_af': 0.5,\n",
       "   'af': 0.4998,\n",
       "   'afr_ac': 5195,\n",
       "   'afr_af': 0.5,\n",
       "   'amr_ac': 5789,\n",
       "   'amr_af': 0.5,\n",
       "   'eas_ac': 4326,\n",
       "   'eas_af': 0.5,\n",
       "   'fin_ac': 3306,\n",
       "   'fin_af': 0.5,\n",
       "   'nfe_ac': 33363,\n",
       "   'nfe_af': 0.5,\n",
       "   'sas_ac': 8252,\n",
       "   'sas_af': 0.5},\n",
       "  'exac_nonpsych': {'ac': 45357,\n",
       "   'adj_ac': 45356,\n",
       "   'adj_af': 0.5,\n",
       "   'af': 0.4998,\n",
       "   'afr_ac': 5186,\n",
       "   'afr_af': 0.5,\n",
       "   'amr_ac': 5783,\n",
       "   'amr_af': 0.5,\n",
       "   'eas_ac': 2818,\n",
       "   'eas_af': 0.5,\n",
       "   'fin_ac': 1901,\n",
       "   'fin_af': 0.5,\n",
       "   'nfe_ac': 21064,\n",
       "   'nfe_af': 0.5},\n",
       "  'exac_nontcga': {'ac': 53090,\n",
       "   'adj_ac': 53089,\n",
       "   'adj_af': 0.5,\n",
       "   'af': 0.4999,\n",
       "   'afr_ac': 4525,\n",
       "   'afr_af': 0.5,\n",
       "   'amr_ac': 5608,\n",
       "   'amr_af': 0.5,\n",
       "   'eas_ac': 3932,\n",
       "   'eas_af': 0.5,\n",
       "   'fin_ac': 3306,\n",
       "   'fin_af': 0.5,\n",
       "   'nfe_ac': 27171,\n",
       "   'nfe_af': 0.5,\n",
       "   'sas_ac': 8200,\n",
       "   'sas_af': 0.5},\n",
       "  'fathmm': {'pred': ['D', '.', 'D', '.', 'D'],\n",
       "   'rankscore': 0.88235,\n",
       "   'score': [-2.37, None, -2.37, None, -2.37]},\n",
       "  'fathmm-mkl': {'coding_group': 'AEFBI',\n",
       "   'coding_pred': 'N',\n",
       "   'coding_rankscore': 0.01084,\n",
       "   'coding_score': 0.00183},\n",
       "  'genename': 'PRSS1',\n",
       "  'genocanyon': {'rankscore': 0.17816, 'score': 0.176891010153521},\n",
       "  'gerp++': {'nr': 3.28, 'rs': -6.56, 'rs_rankscore': 0.01672},\n",
       "  'gm12878': {'confidence_value': 2,\n",
       "   'fitcons_rankscore': 0.05779,\n",
       "   'fitcons_score': 0.457222},\n",
       "  'h1-hesc': {'confidence_value': 0,\n",
       "   'fitcons_rankscore': 0.1464,\n",
       "   'fitcons_score': 0.547309},\n",
       "  'hg18': {'end': 142139909, 'start': 142139909},\n",
       "  'hg19': {'end': 142460335, 'start': 142460335},\n",
       "  'hg38': {'end': 142752484, 'start': 142752484},\n",
       "  'huvec': {'confidence_value': 0,\n",
       "   'fitcons_rankscore': 0.10106,\n",
       "   'fitcons_score': 0.530356},\n",
       "  'integrated': {'confidence_value': 0,\n",
       "   'fitcons_rankscore': 0.08333,\n",
       "   'fitcons_score': 0.446893},\n",
       "  'interpro_domain': 'Peptidase S1, PA clan|Serine proteases, trypsin domain',\n",
       "  'lrt': {'converted_rankscore': 0.05542,\n",
       "   'omega': 1.17538,\n",
       "   'pred': 'N',\n",
       "   'score': 0.582927},\n",
       "  'metalr': {'pred': 'T', 'rankscore': 0.00011, 'score': 0.0},\n",
       "  'metasvm': {'pred': 'T', 'rankscore': 0.07107, 'score': -1.0812},\n",
       "  'mutationassessor': {'pred': 'N', 'rankscore': 0.02885, 'score': -0.42},\n",
       "  'mutationtaster': {'AAE': ['K184E', 'K170E'],\n",
       "   'converted_rankscore': 0.08979,\n",
       "   'model': ['simple_aae', 'simple_aae'],\n",
       "   'pred': ['N', 'N'],\n",
       "   'score': [1, 1]},\n",
       "  'phastcons': {'100way': {'vertebrate': 0.0, 'vertebrate_rankscore': 0.06329},\n",
       "   '20way': {'mammalian': 0.0, 'mammalian_rankscore': 0.01567}},\n",
       "  'phylo': {'p100way': {'vertebrate': -3.971, 'vertebrate_rankscore': 0.00362},\n",
       "   'p20way': {'mammalian': -5.639, 'mammalian_rankscore': 8e-05}},\n",
       "  'polyphen2': {'_license': 'http://goo.gl/6Cz4Ae',\n",
       "   'hdiv': {'pred': 'B', 'rankscore': 0.02634, 'score': 0.0},\n",
       "   'hvar': {'pred': 'B', 'rankscore': 0.01257, 'score': 0.0}},\n",
       "  'provean': {'pred': ['N', '.', 'N', '.', 'N'],\n",
       "   'rankscore': 0.01556,\n",
       "   'score': [0.93, None, 0.93, None, 1.03]},\n",
       "  'ref': 'A',\n",
       "  'reliability_index': 10,\n",
       "  'rsid': 'rs201550522',\n",
       "  'sift': {'converted_rankscore': 0.1311,\n",
       "   'pred': ['T', '.', 'T', '.', 'T'],\n",
       "   'score': [0.387, None, 0.378, None, 0.33]},\n",
       "  'siphy_29way': {'logodds': 5.5807,\n",
       "   'logodds_rankscore': 0.16418,\n",
       "   'pi': {'a': 0.163, 'c': 0.5271, 'g': 0.2031, 't': 0.1068}},\n",
       "  'uniprot': [{'acc': 'E7EQ64', 'pos': '184'},\n",
       "   {'acc': 'P07477', 'pos': '170'}],\n",
       "  'vest3': {'_license': 'http://goo.gl/jTko4F',\n",
       "   'rankscore': ['0.213', '0.181', '0.181'],\n",
       "   'score': [0.213, 0.181, 0.181],\n",
       "   'transcriptid': ['ENST00000492062', 'NM_002769.4', 'ENST00000486171'],\n",
       "   'transcriptvar': ['K120E', 'K170E', 'K184E']}},\n",
       " 'dbsnp': {'allele_origin': 'unspecified',\n",
       "  'alleles': [{'allele': 'A', 'freq': 0.9984},\n",
       "   {'allele': 'G', 'freq': 0.001597}],\n",
       "  'alt': 'G',\n",
       "  'chrom': '7',\n",
       "  'class': 'SNV',\n",
       "  'dbsnp_build': 137,\n",
       "  'flags': ['ASP', 'G5', 'KGPhase1', 'KGPhase3', 'NSM', 'REF', 'S3D', 'SLO'],\n",
       "  'gene': {'geneid': '5644', 'symbol': 'PRSS1'},\n",
       "  'gmaf': 0.001597,\n",
       "  'hg19': {'end': 142460335, 'start': 142460335},\n",
       "  'ref': 'A',\n",
       "  'rsid': 'rs201550522',\n",
       "  'validated': True,\n",
       "  'var_subtype': 'ts',\n",
       "  'vartype': 'snp'},\n",
       " 'end': 142460335,\n",
       " 'exac': {'ac': {'ac': 60686,\n",
       "   'ac_adj': 60685,\n",
       "   'ac_afr': 5195,\n",
       "   'ac_amr': 5789,\n",
       "   'ac_eas': 4326,\n",
       "   'ac_female': 27047,\n",
       "   'ac_fin': 3306,\n",
       "   'ac_het': 60683,\n",
       "   'ac_hom': 1,\n",
       "   'ac_male': 33638,\n",
       "   'ac_nfe': 33363,\n",
       "   'ac_oth': 454,\n",
       "   'ac_sas': 8252},\n",
       "  'af': 0.5,\n",
       "  'alleles': 'G',\n",
       "  'alt': 'G',\n",
       "  'an': {'an': 121410,\n",
       "   'an_adj': 121372,\n",
       "   'an_afr': 10390,\n",
       "   'an_amr': 11578,\n",
       "   'an_eas': 8652,\n",
       "   'an_female': 54094,\n",
       "   'an_fin': 6612,\n",
       "   'an_male': 67278,\n",
       "   'an_nfe': 66728,\n",
       "   'an_oth': 908,\n",
       "   'an_sas': 16504},\n",
       "  'baseqranksum': 5.55,\n",
       "  'chrom': 7,\n",
       "  'clippingranksum': -0.526,\n",
       "  'culprit': 'MQRankSum',\n",
       "  'dp': 17954823,\n",
       "  'filter': 'InbreedingCoeff_Filter',\n",
       "  'fs': 5.029,\n",
       "  'het': {'ac_het': 60683,\n",
       "   'het_afr': 5195,\n",
       "   'het_amr': 5789,\n",
       "   'het_eas': 4326,\n",
       "   'het_fin': 3306,\n",
       "   'het_nfe': 33363,\n",
       "   'het_oth': 454,\n",
       "   'het_sas': 8250},\n",
       "  'hom': {'ac_hom': 1,\n",
       "   'hom_afr': 0,\n",
       "   'hom_amr': 0,\n",
       "   'hom_eas': 0,\n",
       "   'hom_fin': 0,\n",
       "   'hom_nfe': 0,\n",
       "   'hom_oth': 0,\n",
       "   'hom_sas': 1},\n",
       "  'inbreedingcoeff': -0.9991,\n",
       "  'mq': {'mq': 52.89, 'mq0': 0, 'mqranksum': -8.792},\n",
       "  'ncc': 7,\n",
       "  'pos': 142460335,\n",
       "  'qd': 11.49,\n",
       "  'qual': 303853780.6,\n",
       "  'readposranksum': 0.516,\n",
       "  'ref': 'A',\n",
       "  'type': 'snp',\n",
       "  'vqslod': 93.46},\n",
       " 'exac_nontcga': {'ac': {'ac': 53090,\n",
       "   'ac_adj': 53089,\n",
       "   'ac_afr': 4525,\n",
       "   'ac_amr': 5608,\n",
       "   'ac_eas': 3932,\n",
       "   'ac_female': 22927,\n",
       "   'ac_fin': 3306,\n",
       "   'ac_het': 53087,\n",
       "   'ac_hom': 1,\n",
       "   'ac_male': 30162,\n",
       "   'ac_nfe': 27171,\n",
       "   'ac_oth': 347,\n",
       "   'ac_sas': 8200},\n",
       "  'af': 0.5,\n",
       "  'alleles': 'G',\n",
       "  'alt': 'G',\n",
       "  'an': {'an': 106208,\n",
       "   'an_adj': 106180,\n",
       "   'an_afr': 9050,\n",
       "   'an_amr': 11216,\n",
       "   'an_eas': 7864,\n",
       "   'an_female': 45854,\n",
       "   'an_fin': 6612,\n",
       "   'an_male': 60326,\n",
       "   'an_nfe': 54344,\n",
       "   'an_oth': 694,\n",
       "   'an_sas': 16400},\n",
       "  'baseqranksum': 5.55,\n",
       "  'chrom': 7,\n",
       "  'clippingranksum': -0.526,\n",
       "  'culprit': 'MQRankSum',\n",
       "  'fs': 5.029,\n",
       "  'het': {'het_afr': 4525,\n",
       "   'het_amr': 5608,\n",
       "   'het_eas': 3932,\n",
       "   'het_fin': 3306,\n",
       "   'het_nfe': 27171,\n",
       "   'het_oth': 347,\n",
       "   'het_sas': 8198},\n",
       "  'hom': {'hom_afr': 0,\n",
       "   'hom_amr': 0,\n",
       "   'hom_eas': 0,\n",
       "   'hom_fin': 0,\n",
       "   'hom_nfe': 0,\n",
       "   'hom_oth': 0,\n",
       "   'hom_sas': 1},\n",
       "  'inbreedingcoeff': -0.9991,\n",
       "  'mq': {'mq': 52.89, 'mq0': 0, 'mqranksum': -8.792},\n",
       "  'ncc': 7,\n",
       "  'pos': 142460335,\n",
       "  'qd': 11.49,\n",
       "  'readposranksum': 0.516,\n",
       "  'ref': 'A',\n",
       "  'type': 'snp',\n",
       "  'vqslod': 93.46},\n",
       " 'exonicfunc_knowngene': 'nonsynonymous SNV',\n",
       " 'func_knowngene': 'exonic',\n",
       " 'gene_knowngene': 'PRSS1',\n",
       " 'geno2mp': {'hpo_count': 62},\n",
       " 'genomicsuperdups': {'Name': 'chr9:33776725', 'Score': 0.93194},\n",
       " 'genotype': {'alleles': [250, 194],\n",
       "  'filter_passing_reads_count': [444],\n",
       "  'genotype': '0/1',\n",
       "  'genotype_lieklihoods': [6676.0, 0.0, 9732.0]},\n",
       " 'hg19': {'end': 142460335, 'start': 142460335},\n",
       " 'hgvs_id': 'chr7:g.142460335A>G',\n",
       " 'mutdb': {'alt': 'G',\n",
       "  'chrom': '7',\n",
       "  'cosmic_id': '42958',\n",
       "  'hg19': {'end': 142460335, 'start': 142460335},\n",
       "  'mutpred_score': 0.329,\n",
       "  'ref': 'A',\n",
       "  'rsid': None,\n",
       "  'strand': 'p'},\n",
       " 'nci60': 0.48,\n",
       " 'otherinfo': ['GT:AD:DP:GQ:PL', '0/1:250,194:444:99:6676,0,9732'],\n",
       " 'ref': 'A',\n",
       " 'snpeff': {'ann': {'cdna': {'length': '817', 'position': '525'},\n",
       "   'cds': {'length': '744', 'position': '508'},\n",
       "   'effect': 'missense_variant',\n",
       "   'feature_id': 'NM_002769.4',\n",
       "   'feature_type': 'transcript',\n",
       "   'gene_id': 'PRSS1',\n",
       "   'genename': 'PRSS1',\n",
       "   'hgvs_c': 'c.508A>G',\n",
       "   'hgvs_p': 'p.Lys170Glu',\n",
       "   'protein': {'length': '247', 'position': '170'},\n",
       "   'putative_impact': 'MODERATE',\n",
       "   'rank': '4',\n",
       "   'total': '5',\n",
       "   'transcript_biotype': 'Coding'}},\n",
       " 'start': 142460335,\n",
       " 'tfbsconssites': {'Name': 'V$TCF11MAFG_01', 'Score': 758.0},\n",
       " 'vcf': {'alt': 'G', 'position': '142460335', 'ref': 'A'},\n",
       " 'wellderly': {'adviser_score': '5~PRSS1~Common, Predicted Neutral',\n",
       "  'allele_aa': 'E',\n",
       "  'alleles': [{'allele': 'A', 'freq': 0.9025},\n",
       "   {'allele': 'G', 'freq': 0.0975}],\n",
       "  'alt': 'G',\n",
       "  'chrom': '7',\n",
       "  'coding_impact': 'Nonsynonymous',\n",
       "  'gene': ['TCRBV5S1A1T', 'TCRBV2S1', 'TCRVB', 'BV03S1J2.2', 'PRSS1', 'PRSS2'],\n",
       "  'genotypes': [{'count': 39, 'freq': 0.195, 'genotype': 'A/G'},\n",
       "   {'count': 161, 'freq': 0.8049999999999999, 'genotype': 'A/A'}],\n",
       "  'hg19': {'end': 142460335, 'start': 142460335},\n",
       "  'original_aa': 'K',\n",
       "  'polyphen': 'benign',\n",
       "  'pos': 142460335,\n",
       "  'protein_pos': ['170', '110'],\n",
       "  'ref': 'A',\n",
       "  'vartype': 'snp'}}"
      ]
     },
     "execution_count": 59,
     "metadata": {},
     "output_type": "execute_result"
    }
   ],
   "source": [
    "rare_cancer_variants[0]"
   ]
  },
  {
   "cell_type": "markdown",
   "metadata": {},
   "source": [
    "### Other filters\n",
    "The filter may have been too 'aggressive' or there simply aren't enough variants that match the criteria. In any case, it is possible to implement manually a filter in order to obtain more results. The query syntax is the one implemented by the library [pymongo](http://api.mongodb.com/python/current/tutorial.html), developed by MongoDB."
   ]
  },
  {
   "cell_type": "code",
   "execution_count": 54,
   "metadata": {
    "collapsed": false
   },
   "outputs": [
    {
     "data": {
      "text/plain": [
       "9"
      ]
     },
     "execution_count": 54,
     "metadata": {},
     "output_type": "execute_result"
    }
   ],
   "source": [
    "from pymongo import MongoClient\n",
    "\n",
    "client = MongoClient()\n",
    "db = getattr(client, db_name)\n",
    "collection = getattr(db, collection_name)\n",
    "\n",
    "\n",
    "filtered = collection.find({\"$and\": [\n",
    "                                   {\"$or\": [{\"esp6500siv2_all\": {\"$lt\": 0.1}}, {\"esp6500siv2_all\": {\"$exists\": False}}]},\n",
    "                                   {\"$or\": [{\"func_knowngene\": \"exonic\"}, {\"func_knowngene\": \"splicing\"}]},\n",
    "                                   {\"genotype.filter_passing_reads_count\": {\"$gte\": 1}},\n",
    "                                   {\"cosmic70\": {\"$exists\": True}},\n",
    "                                   {\"1000g2015aug_all\": {\"$exists\": True}}\n",
    "                         ]})\n",
    "\n",
    "as_list = list(filtered)\n",
    "len(as_list)"
   ]
  },
  {
   "cell_type": "markdown",
   "metadata": {},
   "source": [
    "### Or a dataframe for easy manipulation"
   ]
  },
  {
   "cell_type": "code",
   "execution_count": 56,
   "metadata": {
    "collapsed": false
   },
   "outputs": [
    {
     "data": {
      "text/plain": [
       "Index(['1000g2015aug_all', '_id', 'alt', 'cadd', 'chr', 'chrom', 'cosmic',\n",
       "       'cosmic70', 'cytoband', 'dbnsfp', 'dbsnp', 'end', 'exac',\n",
       "       'exac_nontcga', 'exonicfunc_knowngene', 'func_knowngene',\n",
       "       'gene_knowngene', 'geno2mp', 'genomicsuperdups', 'genotype', 'hg19',\n",
       "       'hgvs_id', 'mutdb', 'nci60', 'otherinfo', 'ref', 'snpeff', 'start',\n",
       "       'tfbsconssites', 'vcf', 'wellderly'],\n",
       "      dtype='object')"
      ]
     },
     "execution_count": 56,
     "metadata": {},
     "output_type": "execute_result"
    }
   ],
   "source": [
    "df = pd.DataFrame(as_list)\n",
    "df.columns"
   ]
  },
  {
   "cell_type": "code",
   "execution_count": 57,
   "metadata": {
    "collapsed": false
   },
   "outputs": [
    {
     "data": {
      "text/html": [
       "<div>\n",
       "<table border=\"1\" class=\"dataframe\">\n",
       "  <thead>\n",
       "    <tr style=\"text-align: right;\">\n",
       "      <th></th>\n",
       "      <th>1000g2015aug_all</th>\n",
       "      <th>_id</th>\n",
       "      <th>alt</th>\n",
       "      <th>cadd</th>\n",
       "      <th>chr</th>\n",
       "      <th>chrom</th>\n",
       "      <th>cosmic</th>\n",
       "      <th>cosmic70</th>\n",
       "      <th>cytoband</th>\n",
       "      <th>dbnsfp</th>\n",
       "      <th>...</th>\n",
       "      <th>hgvs_id</th>\n",
       "      <th>mutdb</th>\n",
       "      <th>nci60</th>\n",
       "      <th>otherinfo</th>\n",
       "      <th>ref</th>\n",
       "      <th>snpeff</th>\n",
       "      <th>start</th>\n",
       "      <th>tfbsconssites</th>\n",
       "      <th>vcf</th>\n",
       "      <th>wellderly</th>\n",
       "    </tr>\n",
       "  </thead>\n",
       "  <tbody>\n",
       "    <tr>\n",
       "      <th>0</th>\n",
       "      <td>0.393970</td>\n",
       "      <td>589e35563c5b990f8441c699</td>\n",
       "      <td>A</td>\n",
       "      <td>{'cpg': 0.24, 'consdetail': ['synonymous', 're...</td>\n",
       "      <td>chr1</td>\n",
       "      <td>1</td>\n",
       "      <td>{'alt': 'T', 'chrom': '1', 'ref': 'C', 'mut_fr...</td>\n",
       "      <td>ID=COSM1320072;OCCURENCE=2(thyroid),1(ovary)</td>\n",
       "      <td>{'Band': 'p', 'Chromosome': 1, 'Sub_Band': '2'...</td>\n",
       "      <td>NaN</td>\n",
       "      <td>...</td>\n",
       "      <td>chr1:g.120612006G&gt;A</td>\n",
       "      <td>NaN</td>\n",
       "      <td>0.22</td>\n",
       "      <td>[GT:AD:DP:GQ:PL, 0/1:9,8:17:99:240,0,335]</td>\n",
       "      <td>G</td>\n",
       "      <td>{'ann': [{'feature_type': 'transcript', 'rank'...</td>\n",
       "      <td>120612006</td>\n",
       "      <td>NaN</td>\n",
       "      <td>{'alt': 'A', 'position': '120612006', 'ref': 'G'}</td>\n",
       "      <td>{'adviser_score': '5~NOTCH2~Common, Predicted ...</td>\n",
       "    </tr>\n",
       "    <tr>\n",
       "      <th>1</th>\n",
       "      <td>0.289137</td>\n",
       "      <td>589e35593c5b990f8441c96e</td>\n",
       "      <td>AGACCATGGCCCCGCCCAGTCCCT</td>\n",
       "      <td>NaN</td>\n",
       "      <td>chr1</td>\n",
       "      <td>1</td>\n",
       "      <td>NaN</td>\n",
       "      <td>ID=COSM1745478;OCCURENCE=4(urinary_tract)</td>\n",
       "      <td>{'Band': 'q', 'Chromosome': 1, 'Sub_Band': '1'...</td>\n",
       "      <td>NaN</td>\n",
       "      <td>...</td>\n",
       "      <td>chr1:g.203186950_203186951insAGACCATGGCCCCGCCC...</td>\n",
       "      <td>NaN</td>\n",
       "      <td>NaN</td>\n",
       "      <td>[GT:AD:DP:GQ:PL, 1/1:0,3:3:9:135,9,0]</td>\n",
       "      <td>-</td>\n",
       "      <td>{'lof': {'gene_id': 'CHIT1', 'genename': 'CHIT...</td>\n",
       "      <td>203186950</td>\n",
       "      <td>NaN</td>\n",
       "      <td>{'alt': 'CAGACCATGGCCCCGCCCAGTCCCT', 'position...</td>\n",
       "      <td>{'adviser_score': '5~CHIT1~Common, Predicted N...</td>\n",
       "    </tr>\n",
       "    <tr>\n",
       "      <th>2</th>\n",
       "      <td>0.706669</td>\n",
       "      <td>589e35593c5b990f8441ca33</td>\n",
       "      <td>-</td>\n",
       "      <td>NaN</td>\n",
       "      <td>chr1</td>\n",
       "      <td>1</td>\n",
       "      <td>NaN</td>\n",
       "      <td>ID=COSM244564;OCCURENCE=1(NS),2(pancreas),2(la...</td>\n",
       "      <td>{'Band': 'q', 'Chromosome': 1, 'Name': '1q43',...</td>\n",
       "      <td>NaN</td>\n",
       "      <td>...</td>\n",
       "      <td>chr1:g.240255569_240255571del</td>\n",
       "      <td>NaN</td>\n",
       "      <td>NaN</td>\n",
       "      <td>[GT:AD:DP:GQ:PL, 1/1:0,2:2:6:80,6,0]</td>\n",
       "      <td>GGC</td>\n",
       "      <td>{'ann': {'feature_type': 'transcript', 'rank':...</td>\n",
       "      <td>240255569</td>\n",
       "      <td>NaN</td>\n",
       "      <td>{'alt': 'G', 'position': '240255568', 'ref': '...</td>\n",
       "      <td>{'alt': 'G', 'chrom': '1', 'gene': 'FMN2', 're...</td>\n",
       "    </tr>\n",
       "    <tr>\n",
       "      <th>3</th>\n",
       "      <td>0.062899</td>\n",
       "      <td>589e355e3c5b990f8441ce6a</td>\n",
       "      <td>G</td>\n",
       "      <td>{'cpg': 0.05, 'consdetail': 'intron', 'gene': ...</td>\n",
       "      <td>chr2</td>\n",
       "      <td>2</td>\n",
       "      <td>NaN</td>\n",
       "      <td>ID=COSM3836683;OCCURENCE=1(breast)</td>\n",
       "      <td>{'Band': 'q', 'Chromosome': 2, 'Sub_Band': '2'...</td>\n",
       "      <td>NaN</td>\n",
       "      <td>...</td>\n",
       "      <td>chr2:g.120015164A&gt;G</td>\n",
       "      <td>NaN</td>\n",
       "      <td>NaN</td>\n",
       "      <td>[GT:AD:DP:GQ:PL, 0/1:1,4:5:30:156,0,30]</td>\n",
       "      <td>A</td>\n",
       "      <td>{'ann': [{'feature_id': 'NM_182915.2', 'gene_i...</td>\n",
       "      <td>120015164</td>\n",
       "      <td>NaN</td>\n",
       "      <td>{'alt': 'G', 'position': '120015164', 'ref': 'A'}</td>\n",
       "      <td>{'alt': 'G', 'chrom': '2', 'gene': 'STEAP3', '...</td>\n",
       "    </tr>\n",
       "  </tbody>\n",
       "</table>\n",
       "<p>4 rows × 31 columns</p>\n",
       "</div>"
      ],
      "text/plain": [
       "   1000g2015aug_all                       _id                       alt  \\\n",
       "0          0.393970  589e35563c5b990f8441c699                         A   \n",
       "1          0.289137  589e35593c5b990f8441c96e  AGACCATGGCCCCGCCCAGTCCCT   \n",
       "2          0.706669  589e35593c5b990f8441ca33                         -   \n",
       "3          0.062899  589e355e3c5b990f8441ce6a                         G   \n",
       "\n",
       "                                                cadd   chr chrom  \\\n",
       "0  {'cpg': 0.24, 'consdetail': ['synonymous', 're...  chr1     1   \n",
       "1                                                NaN  chr1     1   \n",
       "2                                                NaN  chr1     1   \n",
       "3  {'cpg': 0.05, 'consdetail': 'intron', 'gene': ...  chr2     2   \n",
       "\n",
       "                                              cosmic  \\\n",
       "0  {'alt': 'T', 'chrom': '1', 'ref': 'C', 'mut_fr...   \n",
       "1                                                NaN   \n",
       "2                                                NaN   \n",
       "3                                                NaN   \n",
       "\n",
       "                                            cosmic70  \\\n",
       "0       ID=COSM1320072;OCCURENCE=2(thyroid),1(ovary)   \n",
       "1          ID=COSM1745478;OCCURENCE=4(urinary_tract)   \n",
       "2  ID=COSM244564;OCCURENCE=1(NS),2(pancreas),2(la...   \n",
       "3                 ID=COSM3836683;OCCURENCE=1(breast)   \n",
       "\n",
       "                                            cytoband dbnsfp  \\\n",
       "0  {'Band': 'p', 'Chromosome': 1, 'Sub_Band': '2'...    NaN   \n",
       "1  {'Band': 'q', 'Chromosome': 1, 'Sub_Band': '1'...    NaN   \n",
       "2  {'Band': 'q', 'Chromosome': 1, 'Name': '1q43',...    NaN   \n",
       "3  {'Band': 'q', 'Chromosome': 2, 'Sub_Band': '2'...    NaN   \n",
       "\n",
       "                         ...                          \\\n",
       "0                        ...                           \n",
       "1                        ...                           \n",
       "2                        ...                           \n",
       "3                        ...                           \n",
       "\n",
       "                                             hgvs_id  mutdb nci60  \\\n",
       "0                                chr1:g.120612006G>A    NaN  0.22   \n",
       "1  chr1:g.203186950_203186951insAGACCATGGCCCCGCCC...    NaN   NaN   \n",
       "2                      chr1:g.240255569_240255571del    NaN   NaN   \n",
       "3                                chr2:g.120015164A>G    NaN   NaN   \n",
       "\n",
       "                                   otherinfo  ref  \\\n",
       "0  [GT:AD:DP:GQ:PL, 0/1:9,8:17:99:240,0,335]    G   \n",
       "1      [GT:AD:DP:GQ:PL, 1/1:0,3:3:9:135,9,0]    -   \n",
       "2       [GT:AD:DP:GQ:PL, 1/1:0,2:2:6:80,6,0]  GGC   \n",
       "3    [GT:AD:DP:GQ:PL, 0/1:1,4:5:30:156,0,30]    A   \n",
       "\n",
       "                                              snpeff      start tfbsconssites  \\\n",
       "0  {'ann': [{'feature_type': 'transcript', 'rank'...  120612006           NaN   \n",
       "1  {'lof': {'gene_id': 'CHIT1', 'genename': 'CHIT...  203186950           NaN   \n",
       "2  {'ann': {'feature_type': 'transcript', 'rank':...  240255569           NaN   \n",
       "3  {'ann': [{'feature_id': 'NM_182915.2', 'gene_i...  120015164           NaN   \n",
       "\n",
       "                                                 vcf  \\\n",
       "0  {'alt': 'A', 'position': '120612006', 'ref': 'G'}   \n",
       "1  {'alt': 'CAGACCATGGCCCCGCCCAGTCCCT', 'position...   \n",
       "2  {'alt': 'G', 'position': '240255568', 'ref': '...   \n",
       "3  {'alt': 'G', 'position': '120015164', 'ref': 'A'}   \n",
       "\n",
       "                                           wellderly  \n",
       "0  {'adviser_score': '5~NOTCH2~Common, Predicted ...  \n",
       "1  {'adviser_score': '5~CHIT1~Common, Predicted N...  \n",
       "2  {'alt': 'G', 'chrom': '1', 'gene': 'FMN2', 're...  \n",
       "3  {'alt': 'G', 'chrom': '2', 'gene': 'STEAP3', '...  \n",
       "\n",
       "[4 rows x 31 columns]"
      ]
     },
     "execution_count": 57,
     "metadata": {},
     "output_type": "execute_result"
    }
   ],
   "source": [
    "df.head(4)"
   ]
  },
  {
   "cell_type": "markdown",
   "metadata": {},
   "source": [
    "## Export\n",
    "Files can also be exported to CSV, as well as VCF files while mantaining the annotations"
   ]
  },
  {
   "cell_type": "code",
   "execution_count": 61,
   "metadata": {
    "collapsed": false
   },
   "outputs": [
    {
     "data": {
      "text/plain": [
       "'Finished writing annotated, filtered CSV file'"
      ]
     },
     "execution_count": 61,
     "metadata": {},
     "output_type": "execute_result"
    }
   ],
   "source": [
    "#Crete writer object for filtered lists:\n",
    "my_writer = file_writer.FileWriter(db_name, collection_name)\n",
    "\n",
    "rare_cancer_variants_csv = '/data/out_files/rare_vars.csv'\n",
    "\n",
    "#cancer variants filtered files\n",
    "my_writer.generate_annotated_csv(rare_cancer_variants, rare_cancer_variants_csv)"
   ]
  },
  {
   "cell_type": "markdown",
   "metadata": {},
   "source": [
    "## Export Filtered (VCF) Files\n",
    "This is possible as well, although a bit trickier. Re-creating a vcf file from a list of variants requires an index file from the original file from which a filtered version will be built. This can be achieved using the tabix tool from http://genometoolbox.blogspot.com/2013/11/installing-tabix-on-unix.html.\n",
    "\n",
    "*NOTE*: The annotations from MyVariant.info will be added to the INFO field\n",
    "\n",
    "**Step 1**: Download Tabix:\n",
    "\n",
    "`tar xvjf tabix-0.2.6.tar.bz2`  \n",
    "`cd tabix-0.2.6`    \n",
    "`make`    \n",
    "`export PATH=$PATH:/path_to_tabix/tabix-0.2.6`   \n",
    "\n",
    "**Step 2**: create a .vcf.gz file from original vcf:\n",
    "\n",
    "`bgzip -c file.vcf > file.vcf.gz`\n",
    "\n",
    "\n",
    "**Step 3**: run tabix on the input vcf file:\n",
    "\n",
    "`tabix -p vcf file.vcf.gz`"
   ]
  },
  {
   "cell_type": "code",
   "execution_count": null,
   "metadata": {
    "collapsed": true
   },
   "outputs": [],
   "source": [
    "### Specify name of files and path \n",
    "\n",
    "rare_cancer_variants_vcf = \"/data/out_files/rare_variants.vcf\"\n",
    "input_vcf_compressed = \"/data/vcf_files/test_file_one.vcf.gz\"\n",
    "\n",
    "filtered_variant_list = list(filtered)\n",
    "\n",
    "#Crete writer object for filtered lists:\n",
    "my_writer = file_writer.FileWriter(db_name, collection_name)\n",
    "my_writer.generate_annotated_vcf(filtered_variant_list, input_vcf_compressed, rare_cancer_variants_vcf)"
   ]
  }
 ],
 "metadata": {
  "anaconda-cloud": {},
  "kernelspec": {
   "display_name": "Python [py35]",
   "language": "python",
   "name": "Python [py35]"
  },
  "language_info": {
   "codemirror_mode": {
    "name": "ipython",
    "version": 3.0
   },
   "file_extension": ".py",
   "mimetype": "text/x-python",
   "name": "python",
   "nbconvert_exporter": "python",
   "pygments_lexer": "ipython3",
   "version": "3.5.2"
  }
 },
 "nbformat": 4,
 "nbformat_minor": 0
}